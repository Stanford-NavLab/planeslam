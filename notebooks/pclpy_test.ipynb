{
 "cells": [
  {
   "cell_type": "markdown",
   "metadata": {},
   "source": [
    "# Test clustering using PCL Region Growing"
   ]
  },
  {
   "cell_type": "code",
   "execution_count": null,
   "metadata": {},
   "outputs": [],
   "source": [
    "%matplotlib widget\n",
    "import numpy as np\n",
    "import os\n",
    "import matplotlib.pyplot as plt\n",
    "from matplotlib import cm\n",
    "import math\n",
    "import time\n",
    "\n",
    "import planeslam.io as io\n",
    "\n",
    "import pclpy\n",
    "from pclpy import pcl\n",
    "\n",
    "%load_ext autoreload\n",
    "%autoreload 2"
   ]
  },
  {
   "cell_type": "code",
   "execution_count": null,
   "metadata": {},
   "outputs": [],
   "source": [
    "pcdfile = os.path.join(os.getcwd(),'..', 'data', 'airsim', 'blocks_100.pcd')\n",
    "\n",
    "pc = pcl.PointCloud.PointXYZ()\n",
    "reader = pcl.io.PCDReader()\n",
    "reader.read(pcdfile, pc)\n",
    "\n",
    "N_PTS = len(pc.xyz)"
   ]
  },
  {
   "cell_type": "code",
   "execution_count": null,
   "metadata": {},
   "outputs": [],
   "source": [
    "binpath = os.path.join(os.getcwd(),'..', 'data', 'airsim', 'blocks_60_samples_loop_closure', 'lidar', 'Drone0')\n",
    "PCs = io.read_lidar_bin(binpath)\n",
    "P = PCs[0]\n",
    "pc = pcl.PointCloud.PointXYZ.from_array(P)\n",
    "\n",
    "N_PTS = len(pc.xyz)"
   ]
  },
  {
   "cell_type": "markdown",
   "metadata": {},
   "source": [
    "Compute normals"
   ]
  },
  {
   "cell_type": "code",
   "execution_count": null,
   "metadata": {},
   "outputs": [],
   "source": [
    "rg = pcl.segmentation.RegionGrowing.PointXYZ_Normal()\n",
    "\n",
    "rg.setInputCloud(pc)\n",
    "normals_estimation = pcl.features.NormalEstimationOMP.PointXYZ_Normal()\n",
    "normals_estimation.setInputCloud(pc)\n",
    "normals = pcl.PointCloud.Normal()\n",
    "normals_estimation.setRadiusSearch(5.0)\n",
    "start_time = time.time()\n",
    "normals_estimation.compute(normals)\n",
    "print(\"elapsed time: \", time.time() - start_time)"
   ]
  },
  {
   "cell_type": "code",
   "execution_count": null,
   "metadata": {},
   "outputs": [],
   "source": [
    "normals_arr = np.empty((N_PTS, 3))\n",
    "for i in range(N_PTS):\n",
    "    normals_arr[i,0] = normals.points[i].normal_x\n",
    "    normals_arr[i,1] = normals.points[i].normal_y\n",
    "    normals_arr[i,2] = normals.points[i].normal_z"
   ]
  },
  {
   "cell_type": "markdown",
   "metadata": {},
   "source": [
    "Show normals"
   ]
  },
  {
   "cell_type": "code",
   "execution_count": null,
   "metadata": {},
   "outputs": [],
   "source": [
    "fig = plt.figure(figsize=(15,10))\n",
    "ax = fig.add_subplot(1, 1, 1, projection='3d')\n",
    "\n",
    "ax.scatter3D(pc.xyz[:,0], pc.xyz[:,1], pc.xyz[:,2], marker='.')  \n",
    "n_viz = 10 * normals_arr  # For quiver visualization\n",
    "ax.quiver(pc.xyz[:,0], pc.xyz[:,1], pc.xyz[:,2], n_viz[:,0], n_viz[:,1], n_viz[:,2], color='r')\n",
    "\n",
    "ax.set_box_aspect((np.ptp(pc.xyz[:,0]), np.ptp(pc.xyz[:,1]), np.ptp(pc.xyz[:,2])))\n",
    "ax.set_xlabel(\"X\")\n",
    "ax.set_ylabel(\"Y\")"
   ]
  },
  {
   "cell_type": "markdown",
   "metadata": {},
   "source": [
    "Region Growing"
   ]
  },
  {
   "cell_type": "code",
   "execution_count": null,
   "metadata": {},
   "outputs": [],
   "source": [
    "rg.setInputNormals(normals)\n",
    "rg.setMaxClusterSize(1000000)\n",
    "rg.setMinClusterSize(10)\n",
    "rg.setNumberOfNeighbours(30)\n",
    "rg.setSmoothnessThreshold(5 / 180 * math.pi)\n",
    "rg.setCurvatureThreshold(3)\n",
    "rg.setResidualThreshold(1)\n",
    "start_time = time.time()\n",
    "clusters = pcl.vectors.PointIndices()\n",
    "rg.extract(clusters)\n",
    "print(\"Elapsed time: \", time.time() - start_time)\n",
    "print(\"Number of clusters: \", len(clusters))"
   ]
  },
  {
   "cell_type": "markdown",
   "metadata": {},
   "source": [
    "Plot clusters"
   ]
  },
  {
   "cell_type": "code",
   "execution_count": null,
   "metadata": {},
   "outputs": [],
   "source": [
    "fig = plt.figure(figsize=(15,10))\n",
    "ax = fig.add_subplot(1, 1, 1, projection='3d')\n",
    "\n",
    "cmap = cm.get_cmap('plasma')\n",
    "cmap_idxs = int(len(cmap.colors) / len(clusters)) * np.arange(len(clusters))\n",
    "colors = np.asarray(cmap.colors)[cmap_idxs,:]\n",
    "for i, c in enumerate(clusters):\n",
    "    idx = c.indices\n",
    "    ax.scatter3D(pc.xyz[idx,0], pc.xyz[idx,1], pc.xyz[idx,2], color='C'+str(i), marker='.')  \n",
    "ax.set_box_aspect((np.ptp(pc.xyz[:,0]), np.ptp(pc.xyz[:,1]), np.ptp(pc.xyz[:,2])))\n",
    "ax.set_xlabel(\"X\")\n",
    "ax.set_ylabel(\"Y\")"
   ]
  },
  {
   "cell_type": "markdown",
   "metadata": {},
   "source": [
    "Test plane extraction with these clusters"
   ]
  },
  {
   "cell_type": "code",
   "execution_count": null,
   "metadata": {},
   "outputs": [],
   "source": [
    "clusters"
   ]
  },
  {
   "cell_type": "code",
   "execution_count": null,
   "metadata": {},
   "outputs": [],
   "source": [
    "from planeslam.extraction import scan_from_pcl_clusters\n",
    "from planeslam.scan import Scan\n",
    "\n",
    "planes, vertices, faces= scan_from_pcl_clusters(pc.xyz, clusters, normals_arr)\n",
    "scan = Scan(planes, vertices, faces)"
   ]
  },
  {
   "cell_type": "code",
   "execution_count": null,
   "metadata": {},
   "outputs": [],
   "source": [
    "fig = plt.figure(figsize=(15,10))\n",
    "ax = fig.add_subplot(1, 1, 1, projection='3d')\n",
    "\n",
    "scan.plot(ax, color='r')\n",
    "\n",
    "ax.set_box_aspect((np.ptp(pc.xyz[:,0]), np.ptp(pc.xyz[:,1]), np.ptp(pc.xyz[:,2])))\n",
    "ax.set_xlabel(\"X\")\n",
    "ax.set_ylabel(\"Y\")"
   ]
  },
  {
   "cell_type": "code",
   "execution_count": null,
   "metadata": {},
   "outputs": [],
   "source": []
  }
 ],
 "metadata": {
  "kernelspec": {
   "display_name": "Python 3.7.13 ('planeslam')",
   "language": "python",
   "name": "python3"
  },
  "language_info": {
   "codemirror_mode": {
    "name": "ipython",
    "version": 3
   },
   "file_extension": ".py",
   "mimetype": "text/x-python",
   "name": "python",
   "nbconvert_exporter": "python",
   "pygments_lexer": "ipython3",
   "version": "3.7.13"
  },
  "orig_nbformat": 4,
  "vscode": {
   "interpreter": {
    "hash": "b585e665bce1ccbefa5eda0ece21e432dc86e0e8165acc8779a1295e00a6ba38"
   }
  }
 },
 "nbformat": 4,
 "nbformat_minor": 2
}
