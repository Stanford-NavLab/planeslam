{
 "cells": [
  {
   "cell_type": "code",
   "execution_count": null,
   "metadata": {},
   "outputs": [],
   "source": [
    "import autograd.numpy as np\n",
    "import pymanopt\n",
    "\n",
    "from pymanopt.manifolds import SpecialOrthogonalGroup"
   ]
  },
  {
   "cell_type": "code",
   "execution_count": null,
   "metadata": {},
   "outputs": [],
   "source": [
    "manifold = SpecialOrthogonalGroup(n=3)"
   ]
  },
  {
   "cell_type": "code",
   "execution_count": null,
   "metadata": {},
   "outputs": [],
   "source": [
    "a = np.array([1,2,3])[:,None]\n",
    "b = np.array([1,2,-3])[:,None]\n",
    "\n",
    "@pymanopt.function.autograd(manifold)\n",
    "def cost(R):\n",
    "    return np.linalg.norm(R @ a - b)**2"
   ]
  },
  {
   "cell_type": "code",
   "execution_count": null,
   "metadata": {},
   "outputs": [],
   "source": [
    "problem = pymanopt.Problem(manifold, cost)\n",
    "\n",
    "optimizer = pymanopt.optimizers.SteepestDescent()\n",
    "result = optimizer.run(problem)"
   ]
  },
  {
   "cell_type": "code",
   "execution_count": null,
   "metadata": {},
   "outputs": [],
   "source": [
    "result"
   ]
  },
  {
   "cell_type": "code",
   "execution_count": null,
   "metadata": {},
   "outputs": [],
   "source": []
  }
 ],
 "metadata": {
  "kernelspec": {
   "display_name": "Python 3.9.12 ('manopt')",
   "language": "python",
   "name": "python3"
  },
  "language_info": {
   "codemirror_mode": {
    "name": "ipython",
    "version": 3
   },
   "file_extension": ".py",
   "mimetype": "text/x-python",
   "name": "python",
   "nbconvert_exporter": "python",
   "pygments_lexer": "ipython3",
   "version": "3.9.12"
  },
  "orig_nbformat": 4,
  "vscode": {
   "interpreter": {
    "hash": "8d635447dbb079b78cc17a6af2f5ec3ea797c5076c7a859e92a963ebefec854f"
   }
  }
 },
 "nbformat": 4,
 "nbformat_minor": 2
}
