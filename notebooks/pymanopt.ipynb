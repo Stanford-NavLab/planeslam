{
 "cells": [
  {
   "cell_type": "code",
   "execution_count": 2,
   "metadata": {},
   "outputs": [],
   "source": [
    "import autograd.numpy as np\n",
    "import pymanopt\n",
    "import os\n",
    "\n",
    "from pymanopt.manifolds import SpecialOrthogonalGroup\n",
    "\n",
    "os.environ['KMP_DUPLICATE_LIB_OK']='True'"
   ]
  },
  {
   "cell_type": "code",
   "execution_count": 3,
   "metadata": {},
   "outputs": [],
   "source": [
    "manifold = SpecialOrthogonalGroup(n=3)"
   ]
  },
  {
   "cell_type": "code",
   "execution_count": 4,
   "metadata": {},
   "outputs": [],
   "source": [
    "a = np.array([1,2,3])[:,None]\n",
    "b = np.array([1,2,-3])[:,None]\n",
    "\n",
    "@pymanopt.function.autograd(manifold)\n",
    "def cost(R):\n",
    "    return np.linalg.norm(R @ a - b)**2"
   ]
  },
  {
   "cell_type": "code",
   "execution_count": 5,
   "metadata": {},
   "outputs": [
    {
     "name": "stdout",
     "output_type": "stream",
     "text": [
      "Optimizing...\n",
      "Iteration    Cost                       Gradient norm     \n",
      "---------    -----------------------    --------------    \n",
      "   1         +5.5076033527926604e+01    5.04422484e+00    \n",
      "   2         +4.5394068755894487e+01    1.55152566e+01    \n",
      "   3         +1.5477576852919228e+01    1.77085985e+01    \n",
      "   4         +5.9372727046499563e+00    1.21908996e+01    \n",
      "   5         +2.3669956106365380e+00    7.96709125e+00    \n",
      "   6         +3.8613203191344164e-01    3.27675875e+00    \n",
      "   7         +2.4091362964423171e-02    8.21138214e-01    \n",
      "   8         +1.8830417103570765e-02    7.25998889e-01    \n",
      "   9         +3.6785032675489952e-03    3.20922617e-01    \n",
      "  10         +3.0109118815277554e-06    9.18180419e-03    \n",
      "  11         +1.1117254981700723e-07    1.76432179e-03    \n",
      "  12         +4.4150614371768437e-08    1.11185305e-03    \n",
      "  13         +1.1848387142029195e-08    5.75981632e-04    \n",
      "  14         +1.5625006262171997e-09    2.09165049e-04    \n",
      "  15         +6.5153771876454546e-10    1.35066858e-04    \n",
      "  16         +1.0329585879847893e-10    5.37799595e-05    \n",
      "  17         +1.1036751312855778e-11    1.75792217e-05    \n",
      "  18         +2.2257953484791923e-14    7.89444550e-07    \n",
      "Terminated - min grad norm reached after 18 iterations, 0.09 seconds.\n",
      "\n"
     ]
    }
   ],
   "source": [
    "problem = pymanopt.Problem(manifold, cost)\n",
    "\n",
    "optimizer = pymanopt.optimizers.SteepestDescent()\n",
    "result = optimizer.run(problem)"
   ]
  },
  {
   "cell_type": "code",
   "execution_count": 6,
   "metadata": {},
   "outputs": [
    {
     "data": {
      "text/plain": [
       "OptimizerResult(point=array([[-0.61917566, -0.28687461,  0.730975  ],\n",
       "       [-0.28687462,  0.94917349,  0.1295092 ],\n",
       "       [-0.730975  , -0.12950923, -0.67000217]]), cost=1.937668615967825e-14, iterations=18, stopping_criterion='Terminated - min grad norm reached after 18 iterations, 0.09 seconds.', time=0.0910038948059082, cost_evaluations=18, step_size=1.0900161305397638e-07, gradient_norm=7.894445500313327e-07, log={'optimizer': 'SteepestDescent', 'stopping_criteria': {'max_time': 1000, 'max_iterations': 1000, 'min_gradient_norm': 1e-06, 'min_step_size': 1e-10, 'max_cost_evaluations': 5000}, 'optimizer_parameters': {'line_searcher': <pymanopt.optimizers.line_search.BackTrackingLineSearcher object at 0x000001FE33BDD448>}, 'iterations': None})"
      ]
     },
     "execution_count": 6,
     "metadata": {},
     "output_type": "execute_result"
    }
   ],
   "source": [
    "result"
   ]
  },
  {
   "cell_type": "code",
   "execution_count": null,
   "metadata": {},
   "outputs": [],
   "source": []
  }
 ],
 "metadata": {
  "kernelspec": {
   "display_name": "Python 3.7.13 ('planeslam')",
   "language": "python",
   "name": "python3"
  },
  "language_info": {
   "codemirror_mode": {
    "name": "ipython",
    "version": 3
   },
   "file_extension": ".py",
   "mimetype": "text/x-python",
   "name": "python",
   "nbconvert_exporter": "python",
   "pygments_lexer": "ipython3",
   "version": "3.7.13"
  },
  "orig_nbformat": 4,
  "vscode": {
   "interpreter": {
    "hash": "b585e665bce1ccbefa5eda0ece21e432dc86e0e8165acc8779a1295e00a6ba38"
   }
  }
 },
 "nbformat": 4,
 "nbformat_minor": 2
}
