{
 "cells": [
  {
   "cell_type": "markdown",
   "metadata": {},
   "source": [
    "# Test loop closure"
   ]
  },
  {
   "cell_type": "code",
   "execution_count": null,
   "metadata": {},
   "outputs": [],
   "source": [
    "%matplotlib widget\n",
    "import numpy as np\n",
    "import os\n",
    "import time\n",
    "import plotly.graph_objects as go\n",
    "from copy import deepcopy\n",
    "\n",
    "import planeslam.io as io\n",
    "from planeslam.scan import pc_to_scan\n",
    "from planeslam.general import NED_to_ENU, trajectory_plot_trace\n",
    "from planeslam.geometry.util import quat_to_R\n",
    "\n",
    "os.environ['KMP_DUPLICATE_LIB_OK']='True'\n",
    "\n",
    "%load_ext autoreload\n",
    "%autoreload 2"
   ]
  },
  {
   "cell_type": "code",
   "execution_count": null,
   "metadata": {},
   "outputs": [],
   "source": [
    "np.set_printoptions(suppress=True)"
   ]
  },
  {
   "cell_type": "markdown",
   "metadata": {},
   "source": [
    "### Load AirSim data"
   ]
  },
  {
   "cell_type": "code",
   "execution_count": null,
   "metadata": {},
   "outputs": [],
   "source": [
    "# Read in point cloud data\n",
    "binpath = os.path.join(os.getcwd(), '..', 'data', 'airsim', 'blocks_60_samples_loop_closure', 'lidar', 'Drone0')\n",
    "PCs = io.read_lidar_bin(binpath)\n",
    "\n",
    "# Read in ground-truth poses (in drone local frame)\n",
    "posepath = os.path.join(os.getcwd(), '..', 'data', 'airsim', 'blocks_60_samples_loop_closure', 'poses', 'Drone0')\n",
    "drone_positions, drone_orientations = io.read_poses(posepath)"
   ]
  },
  {
   "cell_type": "code",
   "execution_count": null,
   "metadata": {},
   "outputs": [],
   "source": [
    "# Subsample data\n",
    "sub_factor = 5\n",
    "PCs = PCs[::sub_factor]\n",
    "drone_positions = drone_positions[::sub_factor]\n",
    "drone_orientations = drone_orientations[::sub_factor]"
   ]
  },
  {
   "cell_type": "code",
   "execution_count": null,
   "metadata": {},
   "outputs": [],
   "source": [
    "# Convert to ENU\n",
    "num_scans = len(PCs)\n",
    "\n",
    "for i in range(num_scans):\n",
    "    PCs[i] = NED_to_ENU(PCs[i])\n",
    "\n",
    "drone_positions = NED_to_ENU(drone_positions)\n",
    "drone_orientations = NED_to_ENU(drone_orientations)\n",
    "\n",
    "drone_rotations = np.zeros((3,3,num_scans))\n",
    "for i in range(num_scans):\n",
    "    drone_rotations[:,:,i] = quat_to_R(drone_orientations[i])"
   ]
  },
  {
   "cell_type": "code",
   "execution_count": null,
   "metadata": {},
   "outputs": [],
   "source": [
    "# Plot ground-truth trajectory\n",
    "gt_traj_trace = go.Scatter3d(x=drone_positions[:,0], y=drone_positions[:,1], z=drone_positions[:,2], \n",
    "    marker=dict(size=5), hovertext=np.arange(len(drone_positions)))\n",
    "fig = go.Figure(data=gt_traj_trace)\n",
    "fig.update_layout(width=1000, height=600, scene=dict(aspectmode='data'))\n",
    "fig.show()"
   ]
  },
  {
   "cell_type": "code",
   "execution_count": null,
   "metadata": {},
   "outputs": [],
   "source": [
    "from planeslam.registration import robust_GN_register\n",
    "\n",
    "init_pose = (quat_to_R(drone_orientations[0]), drone_positions[0,:].copy())\n",
    "\n",
    "# For airsim\n",
    "N = len(PCs)\n",
    "\n",
    "# Relative transformations\n",
    "R_hats = []\n",
    "t_hats = []\n",
    "\n",
    "# Absolute poses\n",
    "R_abs, t_abs = init_pose\n",
    "poses = N * [None]\n",
    "poses[0] = (R_abs, t_abs)\n",
    "\n",
    "# Scans\n",
    "scans = N * [None]\n",
    "scans[0] = pc_to_scan(PCs[0])\n",
    "\n",
    "# Pose graph\n",
    "\n",
    "for i in range(1, N):\n",
    "    P = PCs[i]\n",
    "    \n",
    "    # Extract scan\n",
    "    scans[i] = pc_to_scan(P)\n",
    "    scans[i].remove_small_planes(area_thresh=5.0)\n",
    "\n",
    "    # Registration\n",
    "    R_hat, t_hat = robust_GN_register(scans[i], scans[i-1])\n",
    "    t_abs += (R_abs @ t_hat).flatten()\n",
    "    R_abs = R_hat @ R_abs\n",
    "    poses[i] = (R_abs, t_abs)"
   ]
  },
  {
   "cell_type": "code",
   "execution_count": null,
   "metadata": {},
   "outputs": [],
   "source": [
    "poses"
   ]
  },
  {
   "cell_type": "code",
   "execution_count": null,
   "metadata": {},
   "outputs": [],
   "source": [
    "gt_traj_trace = go.Scatter3d(x=drone_positions[:,0], y=drone_positions[:,1], z=drone_positions[:,2], \n",
    "    marker=dict(size=5), hovertext=np.arange(len(drone_positions)), name=\"Ground-truth\")\n",
    "est_traj_trace = go.Scatter3d(x=traj_est[:,0], y=traj_est[:,1], z=traj_est[:,2], \n",
    "    marker=dict(size=5), hovertext=np.arange(len(traj_est)), name=\"Estimated\")\n",
    "fig = go.Figure(data=[gt_traj_trace, est_traj_trace])\n",
    "fig.update_layout(width=1500, height=900, scene=dict(aspectmode='data'), legend=dict(yanchor=\"top\", y=0.99, xanchor=\"right\", x=0.99))\n",
    "fig.show()"
   ]
  }
 ],
 "metadata": {
  "kernelspec": {
   "display_name": "Python 3.7.13 ('planeslam')",
   "language": "python",
   "name": "python3"
  },
  "language_info": {
   "codemirror_mode": {
    "name": "ipython",
    "version": 3
   },
   "file_extension": ".py",
   "mimetype": "text/x-python",
   "name": "python",
   "nbconvert_exporter": "python",
   "pygments_lexer": "ipython3",
   "version": "3.7.13"
  },
  "orig_nbformat": 4,
  "vscode": {
   "interpreter": {
    "hash": "cb468a8bbd71ee67ef9f48802575221c6bc0da5f02cb6cb243ccdc58c1f5deea"
   }
  }
 },
 "nbformat": 4,
 "nbformat_minor": 2
}
