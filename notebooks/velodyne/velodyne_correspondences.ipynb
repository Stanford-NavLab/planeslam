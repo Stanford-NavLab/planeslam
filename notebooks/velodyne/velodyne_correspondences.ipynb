{
 "cells": [
  {
   "cell_type": "markdown",
   "metadata": {},
   "source": [
    "# Test Correspondences"
   ]
  },
  {
   "cell_type": "code",
   "execution_count": null,
   "metadata": {},
   "outputs": [],
   "source": [
    "%matplotlib widget\n",
    "import numpy as np\n",
    "import os\n",
    "from plotly.subplots import make_subplots\n",
    "import plotly.graph_objects as go\n",
    "\n",
    "import planeslam.io as io\n",
    "from planeslam.general import NED_to_ENU, pc_plot_trace\n",
    "from planeslam.scan import velo_pc_to_scan\n",
    "from planeslam.registration import extract_corresponding_features, get_correspondences\n",
    "from planeslam.point_cloud import velo_preprocess\n",
    "\n",
    "os.environ['KMP_DUPLICATE_LIB_OK']='True'\n",
    "\n",
    "%load_ext autoreload\n",
    "%autoreload 2"
   ]
  },
  {
   "cell_type": "markdown",
   "metadata": {},
   "source": [
    "Read in airsim LiDAR and pose data"
   ]
  },
  {
   "cell_type": "code",
   "execution_count": null,
   "metadata": {},
   "outputs": [],
   "source": [
    "# Read in point cloud data\n",
    "pcpath = os.path.join(os.getcwd(),'..', '..', 'data', 'velodyne', '8_20_2022', 'flightroom', 'run_7', 'pcs')\n",
    "PCs = []\n",
    "#len(os.listdir(pcpath))\n",
    "#select_idxs = np.arange(0, 1000, 2)\n",
    "select_idxs = np.arange(0, len(os.listdir(pcpath)), 10)\n",
    "for i in select_idxs:  \n",
    "    filename = os.path.join(pcpath, 'pc_'+str(i)+'.npy')\n",
    "    PC = np.load(filename)\n",
    "    PCs.append(PC)"
   ]
  },
  {
   "cell_type": "code",
   "execution_count": null,
   "metadata": {},
   "outputs": [],
   "source": [
    "# Read in pose data\n",
    "posepath = os.path.join(os.getcwd(),'..', '..', 'data', 'velodyne', '8_20_2022', 'flightroom', 'run_7', 'poses')\n",
    "poses = []\n",
    "for i in select_idxs:  \n",
    "    filename = os.path.join(posepath, 'pose_'+str(i)+'.npy')\n",
    "    pose = np.load(filename)\n",
    "    poses.append(pose)"
   ]
  },
  {
   "cell_type": "markdown",
   "metadata": {},
   "source": [
    "Extract planes "
   ]
  },
  {
   "cell_type": "code",
   "execution_count": null,
   "metadata": {},
   "outputs": [],
   "source": [
    "# Plot 2 scans\n",
    "source_idx = 26\n",
    "target_idx = 25\n",
    "P_source = velo_preprocess(PCs[source_idx], poses[source_idx])\n",
    "P_target = velo_preprocess(PCs[target_idx], poses[target_idx])\n",
    "source = velo_pc_to_scan(P_source)\n",
    "target = velo_pc_to_scan(P_target)\n",
    "\n",
    "source.remove_small_planes(area_thresh=0.1)\n",
    "source.reduce_inside(p2p_dist_thresh=0.1)\n",
    "target.remove_small_planes(area_thresh=0.1)\n",
    "target.reduce_inside(p2p_dist_thresh=0.1)\n",
    "\n",
    "fig = make_subplots(rows=1, cols=2, specs=[[{'type': 'surface'}, {'type': 'surface'}]])\n",
    "\n",
    "for t in source.plot_trace(show_normals=False):\n",
    "    fig.add_trace(t, row=1, col=1)\n",
    "fig.add_trace(pc_plot_trace(P_source), row=1, col=1)\n",
    "\n",
    "for t in target.plot_trace(show_normals=False):\n",
    "    fig.add_trace(t, row=1, col=2)\n",
    "fig.add_trace(pc_plot_trace(P_target), row=1, col=2)\n",
    "\n",
    "fig.update_layout(width=1600, height=500, scene=dict(aspectmode='data'), scene2=dict(aspectmode='data'))\n",
    "fig.show()\n",
    "\n",
    "correspondences = get_correspondences(source, target)\n",
    "print(correspondences)"
   ]
  },
  {
   "cell_type": "code",
   "execution_count": null,
   "metadata": {},
   "outputs": [],
   "source": [
    "fig = go.Figure(data=source.plot_trace()+[pc_plot_trace(P_source)])\n",
    "fig.update_layout(width=1500, height=900, scene=dict(aspectmode='data'))\n",
    "fig.show()"
   ]
  },
  {
   "cell_type": "code",
   "execution_count": null,
   "metadata": {},
   "outputs": [],
   "source": [
    "from planeslam.registration import robust_GN_register\n",
    "\n",
    "R_hat, t_hat = robust_GN_register(source, target)\n",
    "\n",
    "print(R_hat)\n",
    "print(t_hat)"
   ]
  },
  {
   "cell_type": "code",
   "execution_count": null,
   "metadata": {},
   "outputs": [],
   "source": [
    "from planeslam.geometry.util import quat_to_R\n",
    "\n",
    "R_1 = quat_to_R(poses[target_idx][3:])\n",
    "R_2 = quat_to_R(poses[source_idx][3:])\n",
    "R_gt = R_2 @ R_1.T\n",
    "\n",
    "t_gt = poses[source_idx][:3] - poses[target_idx][:3]\n",
    "print(R_gt)\n",
    "print(t_gt)"
   ]
  },
  {
   "cell_type": "code",
   "execution_count": null,
   "metadata": {},
   "outputs": [],
   "source": [
    "source.transform(R_hat, t_hat.flatten())"
   ]
  },
  {
   "cell_type": "code",
   "execution_count": null,
   "metadata": {},
   "outputs": [],
   "source": [
    "fig = go.Figure(data=source.plot_trace()+target.plot_trace())\n",
    "fig.update_layout(width=1500, height=900, scene=dict(aspectmode='data'))\n",
    "fig.show()"
   ]
  },
  {
   "cell_type": "markdown",
   "metadata": {},
   "source": [
    "[(0, 0), (1, 3), (2, 1), (3, 2), (4, 4), (5, 5), (6, 8), (7, 6), (8, 7), (9, 9), (10, 10), (11, 11)]"
   ]
  },
  {
   "cell_type": "code",
   "execution_count": null,
   "metadata": {},
   "outputs": [],
   "source": []
  }
 ],
 "metadata": {
  "kernelspec": {
   "display_name": "Python 3.7.13 ('planeslam')",
   "language": "python",
   "name": "python3"
  },
  "language_info": {
   "codemirror_mode": {
    "name": "ipython",
    "version": 3
   },
   "file_extension": ".py",
   "mimetype": "text/x-python",
   "name": "python",
   "nbconvert_exporter": "python",
   "pygments_lexer": "ipython3",
   "version": "3.7.13"
  },
  "orig_nbformat": 4,
  "vscode": {
   "interpreter": {
    "hash": "cb468a8bbd71ee67ef9f48802575221c6bc0da5f02cb6cb243ccdc58c1f5deea"
   }
  }
 },
 "nbformat": 4,
 "nbformat_minor": 2
}
