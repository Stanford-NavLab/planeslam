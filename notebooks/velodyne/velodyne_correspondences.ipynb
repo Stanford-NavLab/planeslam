{
 "cells": [
  {
   "cell_type": "markdown",
   "metadata": {},
   "source": [
    "# Test Correspondences"
   ]
  },
  {
   "cell_type": "code",
   "execution_count": null,
   "metadata": {},
   "outputs": [],
   "source": [
    "%matplotlib widget\n",
    "import numpy as np\n",
    "import os\n",
    "from plotly.subplots import make_subplots\n",
    "import plotly.graph_objects as go\n",
    "\n",
    "import planeslam.io as io\n",
    "from planeslam.general import NED_to_ENU, pc_plot_trace\n",
    "from planeslam.scan import velo_pc_to_scan\n",
    "from planeslam.registration import extract_corresponding_features, get_correspondences\n",
    "from planeslam.point_cloud import velo_preprocess\n",
    "\n",
    "os.environ['KMP_DUPLICATE_LIB_OK']='True'\n",
    "\n",
    "%load_ext autoreload\n",
    "%autoreload 2"
   ]
  },
  {
   "cell_type": "markdown",
   "metadata": {},
   "source": [
    "Read in airsim LiDAR and pose data"
   ]
  },
  {
   "cell_type": "code",
   "execution_count": null,
   "metadata": {},
   "outputs": [],
   "source": [
    "# Read in point cloud data\n",
    "pcpath = os.path.join(os.getcwd(),'..', '..', 'data', 'velodyne', '8_20_2022', 'flightroom', 'run_8', 'pcs')\n",
    "PCs = []\n",
    "#len(os.listdir(pcpath))\n",
    "#select_idxs = np.arange(0, 1000, 2)\n",
    "select_idxs = np.arange(0, len(os.listdir(pcpath)))\n",
    "for i in select_idxs:  \n",
    "    filename = os.path.join(pcpath, 'pc_'+str(i)+'.npy')\n",
    "    PC = np.load(filename)\n",
    "    PCs.append(PC)"
   ]
  },
  {
   "cell_type": "code",
   "execution_count": null,
   "metadata": {},
   "outputs": [],
   "source": [
    "# Read in pose data\n",
    "posepath = os.path.join(os.getcwd(),'..', '..', 'data', 'velodyne', '8_20_2022', 'flightroom', 'run_8', 'poses')\n",
    "poses = []\n",
    "for i in select_idxs:  \n",
    "    filename = os.path.join(posepath, 'pose_'+str(i)+'.npy')\n",
    "    pose = np.load(filename)\n",
    "    poses.append(pose)"
   ]
  },
  {
   "cell_type": "markdown",
   "metadata": {},
   "source": [
    "Extract planes "
   ]
  },
  {
   "cell_type": "code",
   "execution_count": null,
   "metadata": {},
   "outputs": [],
   "source": [
    "# Plot 2 scans\n",
    "source_idx = 2\n",
    "target_idx = 1\n",
    "source = velo_pc_to_scan(velo_preprocess(PCs[source_idx], poses[source_idx]))\n",
    "target = velo_pc_to_scan(velo_preprocess(PCs[target_idx], poses[target_idx]))\n",
    "\n",
    "fig = make_subplots(rows=1, cols=2, specs=[[{'type': 'surface'}, {'type': 'surface'}]])\n",
    "\n",
    "for t in source.plot_trace(show_normals=False):\n",
    "    fig.add_trace(t, row=1, col=1)\n",
    "#fig.add_trace(pc_plot_trace(PCs[source_idx]), row=1, col=1)\n",
    "\n",
    "for t in target.plot_trace(show_normals=False):\n",
    "    fig.add_trace(t, row=1, col=2)\n",
    "#fig.add_trace(pc_plot_trace(PCs[target_idx]), row=1, col=2)\n",
    "\n",
    "fig.update_layout(width=1600, height=500, scene=dict(aspectmode='data'), scene2=dict(aspectmode='data'))\n",
    "fig.show()\n",
    "\n",
    "correspondences = get_correspondences(source, target)\n",
    "print(correspondences)"
   ]
  },
  {
   "cell_type": "code",
   "execution_count": null,
   "metadata": {},
   "outputs": [],
   "source": [
    "source.remove_small_planes(area_thresh=0.1)\n",
    "fig = go.Figure(data=source.plot_trace())\n",
    "fig.update_layout(width=1500, height=900, scene=dict(aspectmode='data'))\n",
    "fig.show()"
   ]
  },
  {
   "cell_type": "code",
   "execution_count": null,
   "metadata": {},
   "outputs": [],
   "source": [
    "n = len(source.planes) # source P\n",
    "m = len(target.planes) # target Q\n",
    "score_mat = np.zeros((n,m))\n",
    "for i in range(n):\n",
    "    for j in range(m):\n",
    "        n1 = source.planes[i].normal\n",
    "        n2 = target.planes[j].normal\n",
    "        c1 = source.planes[i].center\n",
    "        c2 = target.planes[j].center\n",
    "        a1 = source.planes[i].area()\n",
    "        a2 = target.planes[j].area()\n",
    "        score_mat[i,j] = 100 * np.linalg.norm(n1 - n2) + np.linalg.norm(c1 - c2) + 0.1 * np.abs(a1 - a2)\n",
    "        #score_mat[i,j] = np.linalg.norm(c1 - c2)"
   ]
  },
  {
   "cell_type": "code",
   "execution_count": null,
   "metadata": {},
   "outputs": [],
   "source": [
    "from scipy.optimize import linear_sum_assignment\n",
    "\n",
    "matches = linear_sum_assignment(score_mat)\n",
    "matches"
   ]
  },
  {
   "cell_type": "code",
   "execution_count": null,
   "metadata": {},
   "outputs": [],
   "source": [
    "from planeslam.registration import robust_GN_register\n",
    "\n",
    "R_hat, t_hat = robust_GN_register(source, target)\n",
    "\n",
    "print(R_hat)\n",
    "print(t_hat)"
   ]
  },
  {
   "cell_type": "code",
   "execution_count": null,
   "metadata": {},
   "outputs": [],
   "source": [
    "target.basis @ source.basis.T"
   ]
  },
  {
   "cell_type": "code",
   "execution_count": null,
   "metadata": {},
   "outputs": [],
   "source": [
    "from planeslam.geometry.util import quat_to_R\n",
    "\n",
    "R_1 = quat_to_R(poses[target_idx][3:])\n",
    "R_2 = quat_to_R(poses[source_idx][3:])\n",
    "R_gt = R_2 @ R_1.T\n",
    "\n",
    "t_gt = poses[source_idx][:3] - poses[target_idx][:3]\n",
    "print(R_gt)\n",
    "print(t_gt)"
   ]
  },
  {
   "cell_type": "code",
   "execution_count": null,
   "metadata": {},
   "outputs": [],
   "source": [
    "source.transform(R_hat, t_hat.flatten())"
   ]
  },
  {
   "cell_type": "code",
   "execution_count": null,
   "metadata": {},
   "outputs": [],
   "source": [
    "fig = make_subplots(rows=1, cols=2, specs=[[{'type': 'surface'}, {'type': 'surface'}]])\n",
    "\n",
    "for t in source.plot_trace(show_normals=True):\n",
    "    fig.add_trace(t, row=1, col=1)\n",
    "\n",
    "for t in target.plot_trace(show_normals=True):\n",
    "    fig.add_trace(t, row=1, col=2)\n",
    "\n",
    "fig.update_layout(width=1200, height=500, scene=dict(aspectmode='data'), scene2=dict(aspectmode='data'))\n",
    "fig.show()"
   ]
  },
  {
   "cell_type": "code",
   "execution_count": null,
   "metadata": {},
   "outputs": [],
   "source": [
    "fig = go.Figure(data=source.plot_trace()+target.plot_trace())\n",
    "fig.update_layout(width=1500, height=900, scene=dict(aspectmode='data'))\n",
    "fig.show()"
   ]
  },
  {
   "cell_type": "code",
   "execution_count": null,
   "metadata": {},
   "outputs": [],
   "source": []
  }
 ],
 "metadata": {
  "kernelspec": {
   "display_name": "Python 3.9.12 ('planeslam')",
   "language": "python",
   "name": "python3"
  },
  "language_info": {
   "codemirror_mode": {
    "name": "ipython",
    "version": 3
   },
   "file_extension": ".py",
   "mimetype": "text/x-python",
   "name": "python",
   "nbconvert_exporter": "python",
   "pygments_lexer": "ipython3",
   "version": "3.9.12"
  },
  "orig_nbformat": 4,
  "vscode": {
   "interpreter": {
    "hash": "b585e665bce1ccbefa5eda0ece21e432dc86e0e8165acc8779a1295e00a6ba38"
   }
  }
 },
 "nbformat": 4,
 "nbformat_minor": 2
}
