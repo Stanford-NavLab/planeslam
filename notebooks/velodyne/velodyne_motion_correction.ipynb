{
 "cells": [
  {
   "cell_type": "markdown",
   "metadata": {},
   "source": [
    "# Test on Velodyne data"
   ]
  },
  {
   "cell_type": "code",
   "execution_count": null,
   "metadata": {},
   "outputs": [],
   "source": [
    "%matplotlib widget\n",
    "import numpy as np\n",
    "import os\n",
    "import time\n",
    "import plotly.graph_objects as go\n",
    "from scipy.signal import savgol_filter\n",
    "from scipy.spatial.transform import Rotation as R\n",
    "\n",
    "from planeslam.scan import Scan, velo_pc_to_scan\n",
    "from planeslam.general import pc_plot_trace\n",
    "from planeslam.geometry.util import quat_to_R\n",
    "from planeslam.point_cloud import velo_preprocess\n",
    "\n",
    "%load_ext autoreload\n",
    "%autoreload 2"
   ]
  },
  {
   "cell_type": "markdown",
   "metadata": {},
   "source": [
    "Flight room"
   ]
  },
  {
   "cell_type": "code",
   "execution_count": null,
   "metadata": {},
   "outputs": [],
   "source": [
    "# Read in point cloud data\n",
    "pcpath = os.path.join(os.getcwd(),'..', '..', 'data', 'velodyne', '8_12_2022', 'flightroom', 'run_1', 'pcs')\n",
    "PCs = []\n",
    "for i in range(len(os.listdir(pcpath))):  \n",
    "    filename = pcpath+'\\pc_'+str(i)+'.npy'\n",
    "    PC = np.load(filename)\n",
    "    PCs.append(PC)"
   ]
  },
  {
   "cell_type": "code",
   "execution_count": null,
   "metadata": {},
   "outputs": [],
   "source": [
    "# Read in pose data\n",
    "posepath = os.path.join(os.getcwd(),'..', '..', 'data', 'velodyne', '8_12_2022', 'flightroom', 'run_1', 'poses')\n",
    "poses = []\n",
    "for i in range(len(os.listdir(posepath))):  \n",
    "    filename = posepath+'\\pose_'+str(i)+'.npy'\n",
    "    pose = np.load(filename)\n",
    "    poses.append(pose)"
   ]
  },
  {
   "cell_type": "code",
   "execution_count": null,
   "metadata": {},
   "outputs": [],
   "source": [
    "# Compute rover velocities (m/s) thru finite differencing\n",
    "vels = 10 * np.diff(np.asarray(poses)[:,:3], axis=0)\n",
    "\n",
    "# Apply some simple smoothing\n",
    "vels[:,0] = savgol_filter(vels[:,0], 20, 3)\n",
    "vels[:,1] = savgol_filter(vels[:,1], 20, 3)\n",
    "\n",
    "# Transform velocities from world frame to local (should essentially result in all x)\n",
    "local_vels = (quat_to_R(poses[i][3:]).T @ vels.T).T\n",
    "\n",
    "vel_mags = np.linalg.norm(vels, axis=1)"
   ]
  },
  {
   "cell_type": "code",
   "execution_count": null,
   "metadata": {},
   "outputs": [],
   "source": [
    "thetas = np.zeros(len(poses))\n",
    "for i in range(len(poses)):\n",
    "    r = R.from_quat(poses[i][3:])\n",
    "    thetas[i] = r.as_euler('zyx')[0]\n",
    "\n",
    "d_thetas = 10 * np.diff(thetas)  # angular velocities (rad/s)\n",
    "d_thetas = d_thetas[np.abs(d_thetas) < 1]"
   ]
  },
  {
   "cell_type": "code",
   "execution_count": null,
   "metadata": {},
   "outputs": [],
   "source": [
    "fig = go.Figure(go.Scatter(x=np.arange(len(d_thetas)), y=d_thetas))\n",
    "fig.show()"
   ]
  },
  {
   "cell_type": "code",
   "execution_count": null,
   "metadata": {},
   "outputs": [],
   "source": [
    "fig = go.Figure(go.Scatter(x=np.arange(len(vels)), y=vel_mags))\n",
    "fig.show()"
   ]
  },
  {
   "cell_type": "code",
   "execution_count": null,
   "metadata": {},
   "outputs": [],
   "source": [
    "frame_num = 283"
   ]
  },
  {
   "cell_type": "code",
   "execution_count": null,
   "metadata": {},
   "outputs": [],
   "source": [
    "vel_mags[frame_num-1]"
   ]
  },
  {
   "cell_type": "code",
   "execution_count": null,
   "metadata": {},
   "outputs": [],
   "source": [
    "d_thetas[frame_num-1]"
   ]
  },
  {
   "cell_type": "code",
   "execution_count": null,
   "metadata": {},
   "outputs": [],
   "source": [
    "PC = PCs[frame_num]\n",
    "data = go.Scatter3d(x=PC[:,0], y=PC[:,1], z=PC[:,2],\n",
    "        mode='markers', marker=dict(size=2, color=np.arange(len(PC))), hovertext=np.arange(len(PC)))\n",
    "#data1 = pc_plot_trace(PCs[156], color=np.arange(len(PCs[156])))\n",
    "#data2 = pc_plot_trace(PCs[frame_num], color=np.arange(len(PCs[frame_num])))\n",
    "fig = go.Figure(data=data)\n",
    "fig.update_layout(width=1500, height=900, scene=dict(aspectmode='data'))\n",
    "fig.show()"
   ]
  },
  {
   "cell_type": "code",
   "execution_count": null,
   "metadata": {},
   "outputs": [],
   "source": []
  }
 ],
 "metadata": {
  "kernelspec": {
   "display_name": "Python 3.9.12 ('planeslam')",
   "language": "python",
   "name": "python3"
  },
  "language_info": {
   "codemirror_mode": {
    "name": "ipython",
    "version": 3
   },
   "file_extension": ".py",
   "mimetype": "text/x-python",
   "name": "python",
   "nbconvert_exporter": "python",
   "pygments_lexer": "ipython3",
   "version": "3.9.12"
  },
  "orig_nbformat": 4,
  "vscode": {
   "interpreter": {
    "hash": "b585e665bce1ccbefa5eda0ece21e432dc86e0e8165acc8779a1295e00a6ba38"
   }
  }
 },
 "nbformat": 4,
 "nbformat_minor": 2
}
