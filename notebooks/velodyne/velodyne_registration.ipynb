{
 "cells": [
  {
   "cell_type": "markdown",
   "metadata": {},
   "source": [
    "# Test registration on velodyne scans"
   ]
  },
  {
   "cell_type": "code",
   "execution_count": null,
   "metadata": {},
   "outputs": [],
   "source": [
    "%matplotlib widget\n",
    "import numpy as np\n",
    "import os\n",
    "import time\n",
    "import plotly.graph_objects as go\n",
    "from plotly.subplots import make_subplots\n",
    "from copy import deepcopy\n",
    "import open3d as o3d\n",
    "\n",
    "import planeslam.io as io\n",
    "from planeslam.scan import velo_pc_to_scan\n",
    "from planeslam.general import NED_to_ENU, trajectory_plot_trace, pc_plot_trace\n",
    "from planeslam.geometry.util import quat_to_R\n",
    "from planeslam.registration import get_correspondences\n",
    "\n",
    "os.environ['KMP_DUPLICATE_LIB_OK']='True'\n",
    "\n",
    "%load_ext autoreload\n",
    "%autoreload 2"
   ]
  },
  {
   "cell_type": "code",
   "execution_count": null,
   "metadata": {},
   "outputs": [],
   "source": [
    "np.set_printoptions(suppress=True)"
   ]
  },
  {
   "cell_type": "code",
   "execution_count": null,
   "metadata": {},
   "outputs": [],
   "source": [
    "# Read in point cloud data\n",
    "pcpath = os.path.join(os.getcwd(),'..', '..', 'data', 'velodyne', '8_12_2022', 'flightroom', 'run_1', 'pcs')\n",
    "PCs = []\n",
    "for i in range(len(os.listdir(pcpath))):  # ignore first 200 and last 200 frames\n",
    "    filename = pcpath+'\\pc_'+str(i)+'.npy'\n",
    "    PC = np.load(filename)\n",
    "    PCs.append(PC)"
   ]
  },
  {
   "cell_type": "code",
   "execution_count": null,
   "metadata": {},
   "outputs": [],
   "source": [
    "# Read in pose data\n",
    "posepath = os.path.join(os.getcwd(),'..', '..', 'data', 'velodyne', '8_12_2022', 'flightroom', 'run_1', 'poses')\n",
    "poses = []\n",
    "for i in range(len(os.listdir(pcpath))):  # ignore first 200 and last 200 frames\n",
    "    filename = posepath+'\\pose_'+str(i)+'.npy'\n",
    "    pose = np.load(filename)\n",
    "    poses.append(pose)"
   ]
  },
  {
   "cell_type": "code",
   "execution_count": null,
   "metadata": {},
   "outputs": [],
   "source": [
    "# Extract scans\n",
    "num_scans = len(PCs)\n",
    "# scans = num_scans * [None]\n",
    "# scans_transformed = num_scans * [None]\n",
    "select_scans = np.arange(0, num_scans, 10)\n",
    "scans = len(select_scans) * [None]\n",
    "for i, s in enumerate(select_scans):\n",
    "    scans[i] = velo_pc_to_scan(PCs[s])\n",
    "    scans[i].transform(quat_to_R(poses[s][3:]), poses[s][:3])"
   ]
  },
  {
   "cell_type": "code",
   "execution_count": null,
   "metadata": {},
   "outputs": [],
   "source": [
    "# Plot 2 scans\n",
    "source_idx = 1\n",
    "target_idx = 0\n",
    "source = scans[source_idx]\n",
    "target = scans[target_idx]\n",
    "\n",
    "fig = make_subplots(rows=1, cols=2, specs=[[{'type': 'surface'}, {'type': 'surface'}]])\n",
    "\n",
    "for t in source.plot_trace(show_normals=True):\n",
    "    fig.add_trace(t, row=1, col=1)\n",
    "\n",
    "for t in target.plot_trace(show_normals=True):\n",
    "    fig.add_trace(t, row=1, col=2)\n",
    "\n",
    "fig.update_layout(width=1600, height=700, scene=dict(aspectmode='data'), scene2=dict(aspectmode='data'))\n",
    "fig.show()\n",
    "\n",
    "correspondences = get_correspondences(source, target)\n",
    "print(correspondences)"
   ]
  },
  {
   "cell_type": "code",
   "execution_count": null,
   "metadata": {},
   "outputs": [],
   "source": [
    "# Transform point clouds\n",
    "combined_P = np.array([0,0,0])\n",
    "for i, P in enumerate(PCs):\n",
    "    P = (quat_to_R(poses[i][3:]) @ P.T).T + poses[i][:3]\n",
    "    combined_P = np.vstack((combined_P, P))"
   ]
  },
  {
   "cell_type": "code",
   "execution_count": null,
   "metadata": {},
   "outputs": [],
   "source": [
    "combined_P.shape"
   ]
  },
  {
   "cell_type": "code",
   "execution_count": null,
   "metadata": {},
   "outputs": [],
   "source": [
    "P = o3d.geometry.PointCloud()\n",
    "P.points = o3d.utility.Vector3dVector(combined_P)\n",
    "o3d.visualization.draw_geometries([P])"
   ]
  },
  {
   "cell_type": "code",
   "execution_count": null,
   "metadata": {},
   "outputs": [],
   "source": [
    "# Plot scans\n",
    "fig = go.Figure()\n",
    "\n",
    "for i, scan in enumerate(scans):\n",
    "    if i % 10 == 0:\n",
    "        for t in scan.plot_trace():\n",
    "            fig.add_trace(t)\n",
    "\n",
    "fig.update_layout(width=1500, height=900, scene=dict(aspectmode='data'))\n",
    "fig.show()"
   ]
  },
  {
   "cell_type": "code",
   "execution_count": null,
   "metadata": {},
   "outputs": [],
   "source": [
    "from planeslam.registration import robust_GN_register\n",
    "\n",
    "R_abs = np.eye(3)\n",
    "t_abs = np.zeros(3)\n",
    "traj_est = np.zeros((num_scans, 3))\n",
    "traj_est[0] = t_abs\n",
    "avg_runtime = 0\n",
    "\n",
    "for i in range(1, len(scans)):\n",
    "    print(\"i = \", i)\n",
    "    start_time = time.time()\n",
    "    R_hat, t_hat = robust_GN_register(scans[i], scans[i-1])\n",
    "    t_abs += (R_abs @ t_hat).flatten()\n",
    "    R_abs = R_hat @ R_abs\n",
    "    avg_runtime += time.time() - start_time\n",
    "    traj_est[i] = t_abs\n",
    "\n",
    "avg_runtime /= len(scans)-1\n",
    "print(\"average registration time: \", avg_runtime)"
   ]
  },
  {
   "cell_type": "code",
   "execution_count": null,
   "metadata": {},
   "outputs": [],
   "source": [
    "# Plot trajectories\n",
    "est_traj_trace = go.Scatter3d(x=traj_est[:,0], y=traj_est[:,1], z=traj_est[:,2])\n",
    "fig = go.Figure(data=[est_traj_trace])\n",
    "fig.update_layout(width=1500, height=900, scene=dict(aspectmode='data'))\n",
    "fig.show()"
   ]
  },
  {
   "cell_type": "code",
   "execution_count": null,
   "metadata": {},
   "outputs": [],
   "source": []
  }
 ],
 "metadata": {
  "kernelspec": {
   "display_name": "Python 3.7.13 ('planeslam')",
   "language": "python",
   "name": "python3"
  },
  "language_info": {
   "codemirror_mode": {
    "name": "ipython",
    "version": 3
   },
   "file_extension": ".py",
   "mimetype": "text/x-python",
   "name": "python",
   "nbconvert_exporter": "python",
   "pygments_lexer": "ipython3",
   "version": "3.7.13"
  },
  "orig_nbformat": 4,
  "vscode": {
   "interpreter": {
    "hash": "cb468a8bbd71ee67ef9f48802575221c6bc0da5f02cb6cb243ccdc58c1f5deea"
   }
  }
 },
 "nbformat": 4,
 "nbformat_minor": 2
}
