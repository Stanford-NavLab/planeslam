{
 "cells": [
  {
   "cell_type": "markdown",
   "metadata": {},
   "source": [
    "# Test registration on velodyne scans"
   ]
  },
  {
   "cell_type": "code",
   "execution_count": null,
   "metadata": {},
   "outputs": [],
   "source": [
    "%matplotlib widget\n",
    "import numpy as np\n",
    "import os\n",
    "import time\n",
    "import plotly.graph_objects as go\n",
    "from plotly.subplots import make_subplots\n",
    "from copy import deepcopy\n",
    "import open3d as o3d\n",
    "\n",
    "import planeslam.io as io\n",
    "from planeslam.scan import velo_pc_to_scan\n",
    "from planeslam.general import NED_to_ENU, trajectory_plot_trace, pc_plot_trace\n",
    "from planeslam.geometry.util import quat_to_R\n",
    "from planeslam.registration import get_correspondences\n",
    "from planeslam.point_cloud import velo_preprocess\n",
    "\n",
    "os.environ['KMP_DUPLICATE_LIB_OK']='True'\n",
    "\n",
    "%load_ext autoreload\n",
    "%autoreload 2"
   ]
  },
  {
   "cell_type": "code",
   "execution_count": null,
   "metadata": {},
   "outputs": [],
   "source": [
    "np.set_printoptions(suppress=True)"
   ]
  },
  {
   "cell_type": "code",
   "execution_count": null,
   "metadata": {},
   "outputs": [],
   "source": [
    "# Read in point cloud data\n",
    "pcpath = os.path.join(os.getcwd(),'..', '..', 'data', 'velodyne', '8_12_2022', 'flightroom', 'run_1', 'pcs')\n",
    "PCs = []\n",
    "#len(os.listdir(pcpath))\n",
    "select_idxs = np.arange(0, 200, 2)\n",
    "for i in select_idxs:  \n",
    "    filename = pcpath+'\\pc_'+str(i)+'.npy'\n",
    "    PC = np.load(filename)\n",
    "    PCs.append(PC)"
   ]
  },
  {
   "cell_type": "code",
   "execution_count": null,
   "metadata": {},
   "outputs": [],
   "source": [
    "# Read in pose data\n",
    "posepath = os.path.join(os.getcwd(),'..', '..', 'data', 'velodyne', '8_12_2022', 'flightroom', 'run_1', 'poses')\n",
    "poses = []\n",
    "for i in select_idxs:  \n",
    "    filename = posepath+'\\pose_'+str(i)+'.npy'\n",
    "    pose = np.load(filename)\n",
    "    poses.append(pose)"
   ]
  },
  {
   "cell_type": "code",
   "execution_count": null,
   "metadata": {},
   "outputs": [],
   "source": [
    "# Plot ground-truth trajectory\n",
    "rover_positions = np.asarray(poses)[:,:3]\n",
    "gt_traj_trace = go.Scatter3d(x=rover_positions[:,0], y=rover_positions[:,1], z=rover_positions[:,2], hovertext=np.arange(len(rover_positions)))\n",
    "fig = go.Figure(data=gt_traj_trace)\n",
    "fig.update_layout(width=1000, height=600, scene=dict(aspectmode='data'))\n",
    "fig.show()"
   ]
  },
  {
   "cell_type": "code",
   "execution_count": null,
   "metadata": {},
   "outputs": [],
   "source": [
    "# Extract scans\n",
    "num_scans = len(PCs)\n",
    "scans = num_scans * [None]\n",
    "# scans_transformed = num_scans * [None]\n",
    "for i in range(num_scans):\n",
    "    print(i)\n",
    "    P = velo_preprocess(PCs[i], poses[i])\n",
    "    scans[i] = velo_pc_to_scan(P)\n",
    "    scans[i].remove_small_planes(area_thresh=0.1)\n",
    "    scans[i].reduce_inside(p2p_dist_thresh=0.1)\n",
    "    #scans[i].transform(quat_to_R(poses[s][3:]), poses[s][:3])"
   ]
  },
  {
   "cell_type": "code",
   "execution_count": null,
   "metadata": {},
   "outputs": [],
   "source": [
    "# Plot 2 scans\n",
    "source_idx = 44\n",
    "target_idx = 43\n",
    "source = scans[source_idx]\n",
    "target = scans[target_idx]\n",
    "\n",
    "fig = make_subplots(rows=1, cols=2, specs=[[{'type': 'surface'}, {'type': 'surface'}]])\n",
    "\n",
    "for t in source.plot_trace(show_normals=False):\n",
    "    fig.add_trace(t, row=1, col=1)\n",
    "\n",
    "for t in target.plot_trace(show_normals=False):\n",
    "    fig.add_trace(t, row=1, col=2)\n",
    "\n",
    "fig.update_layout(width=1600, height=700, scene=dict(aspectmode='data'), scene2=dict(aspectmode='data'))\n",
    "fig.show()\n",
    "\n",
    "correspondences = get_correspondences(source, target)\n",
    "print(correspondences)"
   ]
  },
  {
   "cell_type": "code",
   "execution_count": null,
   "metadata": {},
   "outputs": [],
   "source": [
    "from planeslam.registration import robust_GN_register\n",
    "\n",
    "R_hat, t_hat = robust_GN_register(source, target, t_loss_thresh=0.1)\n",
    "\n",
    "print(R_hat)\n",
    "print(t_hat)"
   ]
  },
  {
   "cell_type": "code",
   "execution_count": null,
   "metadata": {},
   "outputs": [],
   "source": [
    "from planeslam.geometry.util import quat_to_R\n",
    "\n",
    "R_1 = quat_to_R(poses[target_idx][3:])\n",
    "R_2 = quat_to_R(poses[source_idx][3:])\n",
    "R_gt = R_2 @ R_1.T\n",
    "\n",
    "t_gt = poses[source_idx][:3] - poses[target_idx][:3]\n",
    "print(R_gt)\n",
    "print(t_gt)"
   ]
  },
  {
   "cell_type": "code",
   "execution_count": null,
   "metadata": {},
   "outputs": [],
   "source": [
    "from planeslam.registration import robust_GN_register\n",
    "\n",
    "R_abs = quat_to_R(poses[0][3:])\n",
    "t_abs = poses[0][:3].copy()\n",
    "traj_est = np.zeros((len(scans), 3))\n",
    "traj_est[0] = t_abs\n",
    "avg_runtime = 0\n",
    "\n",
    "for i in range(1, len(scans)):\n",
    "    print(\"i = \", i)\n",
    "    start_time = time.time()\n",
    "    R_hat, t_hat = robust_GN_register(scans[i], scans[i-1], t_loss_thresh=0.1)\n",
    "    t_abs += (R_abs @ t_hat).flatten()\n",
    "    R_abs = R_hat @ R_abs\n",
    "    avg_runtime += time.time() - start_time\n",
    "    traj_est[i] = t_abs\n",
    "\n",
    "    R_1 = quat_to_R(poses[i-1][3:])\n",
    "    R_2 = quat_to_R(poses[i][3:])\n",
    "    R_gt = R_2 @ R_1.T\n",
    "\n",
    "    t_gt = poses[i][:3] - poses[i-1][:3]\n",
    "    print(\"R_hat: \", R_hat)\n",
    "    print(\"R_gt: \", R_gt)\n",
    "    print(\"t_hat: \", t_hat.flatten())\n",
    "    print(\"t_gt: \", t_gt)\n",
    "\n",
    "avg_runtime /= len(scans)-1\n",
    "print(\"average registration time: \", avg_runtime)"
   ]
  },
  {
   "cell_type": "code",
   "execution_count": null,
   "metadata": {},
   "outputs": [],
   "source": [
    "# Plot trajectories\n",
    "est_traj_trace = go.Scatter3d(x=traj_est[:,0], y=traj_est[:,1], z=traj_est[:,2], hovertext=np.arange(len(traj_est)))\n",
    "fig = go.Figure(data=[gt_traj_trace, est_traj_trace])\n",
    "fig.update_layout(width=1500, height=900, scene=dict(aspectmode='data'))\n",
    "fig.show()"
   ]
  },
  {
   "cell_type": "code",
   "execution_count": null,
   "metadata": {},
   "outputs": [],
   "source": []
  }
 ],
 "metadata": {
  "kernelspec": {
   "display_name": "Python 3.9.12 ('planeslam')",
   "language": "python",
   "name": "python3"
  },
  "language_info": {
   "codemirror_mode": {
    "name": "ipython",
    "version": 3
   },
   "file_extension": ".py",
   "mimetype": "text/x-python",
   "name": "python",
   "nbconvert_exporter": "python",
   "pygments_lexer": "ipython3",
   "version": "3.9.12"
  },
  "orig_nbformat": 4,
  "vscode": {
   "interpreter": {
    "hash": "b585e665bce1ccbefa5eda0ece21e432dc86e0e8165acc8779a1295e00a6ba38"
   }
  }
 },
 "nbformat": 4,
 "nbformat_minor": 2
}
