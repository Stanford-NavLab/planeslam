{
 "cells": [
  {
   "cell_type": "markdown",
   "metadata": {},
   "source": [
    "# Test on Velodyne data"
   ]
  },
  {
   "cell_type": "code",
   "execution_count": null,
   "metadata": {},
   "outputs": [],
   "source": [
    "%matplotlib widget\n",
    "import numpy as np\n",
    "import os\n",
    "import time\n",
    "import plotly.graph_objects as go\n",
    "\n",
    "from planeslam.general import downsample, adaptive_downsample\n",
    "from planeslam.mesh import LidarMesh\n",
    "from planeslam.scan import Scan, velo_pc_to_scan\n",
    "from planeslam.clustering import cluster_mesh_graph_search, plot_clusters\n",
    "from planeslam.extraction import scan_from_clusters, planes_from_clusters\n",
    "from planeslam.general import pc_plot_trace\n",
    "from planeslam.geometry.util import quat_to_R\n",
    "from planeslam.point_cloud import velo_preprocess\n",
    "\n",
    "%load_ext autoreload\n",
    "%autoreload 2"
   ]
  },
  {
   "cell_type": "markdown",
   "metadata": {},
   "source": [
    "Flight room"
   ]
  },
  {
   "cell_type": "code",
   "execution_count": null,
   "metadata": {},
   "outputs": [],
   "source": [
    "# Read in data\n",
    "frame_num = 156\n",
    "\n",
    "pcpath = os.path.join(os.getcwd(),'..', '..', 'data', 'velodyne', '8_12_2022', 'flightroom', 'run_1', 'pcs')\n",
    "filename = pcpath + '/pc_' + str(frame_num) + '.npy'\n",
    "PC = np.load(filename)\n",
    "\n",
    "posepath = os.path.join(os.getcwd(),'..', '..', 'data', 'velodyne', '8_12_2022', 'flightroom', 'run_1', 'poses')\n",
    "filename = posepath + '/pose_' + str(frame_num) + '.npy'\n",
    "pose = np.load(filename)"
   ]
  },
  {
   "cell_type": "code",
   "execution_count": null,
   "metadata": {},
   "outputs": [],
   "source": [
    "data = go.Scatter3d(x=PC[:,0], y=PC[:,1], z=PC[:,2],\n",
    "        mode='markers', marker=dict(size=2, color=np.arange(len(PC))))\n",
    "fig = go.Figure(data=data)\n",
    "fig.update_layout(width=1500, height=900, scene=dict(aspectmode='data'))\n",
    "fig.show()"
   ]
  },
  {
   "cell_type": "code",
   "execution_count": null,
   "metadata": {},
   "outputs": [],
   "source": [
    "# Pre-process \n",
    "PC = velo_preprocess(PC, pose)\n",
    "# Downsample\n",
    "scan = velo_pc_to_scan(PC)\n",
    "scan.remove_small_planes(area_thresh=0.1)\n",
    "scan.reduce_inside(p2p_dist_thresh=0.1)"
   ]
  },
  {
   "cell_type": "code",
   "execution_count": null,
   "metadata": {},
   "outputs": [],
   "source": [
    "fig = go.Figure(data=[pc_plot_trace(PC)]+scan.plot_trace())\n",
    "fig.update_layout(width=1500, height=900, scene=dict(aspectmode='data'))\n",
    "fig.show()"
   ]
  },
  {
   "cell_type": "code",
   "execution_count": null,
   "metadata": {},
   "outputs": [],
   "source": [
    "fig = go.Figure(data=pc_plot_trace(PC))\n",
    "fig.update_layout(width=1500, height=900, scene=dict(aspectmode='data'))\n",
    "fig.show()"
   ]
  },
  {
   "cell_type": "code",
   "execution_count": null,
   "metadata": {},
   "outputs": [],
   "source": [
    "R = quat_to_R(pose[3:])\n",
    "t = pose[:3]\n",
    "PC = (R @ PC.T).T + t"
   ]
  },
  {
   "cell_type": "code",
   "execution_count": null,
   "metadata": {},
   "outputs": [],
   "source": [
    "fig = go.Figure(data=pc_plot_trace(PC))\n",
    "fig.update_layout(width=1500, height=900, scene=dict(aspectmode='data'))\n",
    "fig.show()"
   ]
  },
  {
   "cell_type": "code",
   "execution_count": null,
   "metadata": {},
   "outputs": [],
   "source": [
    "# Pre-process \n",
    "PC = velo_preprocess(PC, pose)\n",
    "# Downsample\n",
    "PC = adaptive_downsample(PC, factor=5)"
   ]
  },
  {
   "cell_type": "code",
   "execution_count": null,
   "metadata": {},
   "outputs": [],
   "source": [
    "fig = go.Figure(data=pc_plot_trace(PC))\n",
    "fig.update_layout(width=1500, height=900, scene=dict(aspectmode='data'))\n",
    "fig.show()"
   ]
  },
  {
   "cell_type": "code",
   "execution_count": null,
   "metadata": {},
   "outputs": [],
   "source": [
    "# Create the mesh\n",
    "mesh = LidarMesh(PC)\n",
    "mesh.prune(edge_len_lim=0.5)\n",
    "# start_time = time.time()\n",
    "# # Cluster the mesh with graph search\n",
    "# clusters, avg_normals = cluster_mesh_graph_search(mesh)\n",
    "# print(\"elapsed time: \", time.time() - start_time)"
   ]
  },
  {
   "cell_type": "code",
   "execution_count": null,
   "metadata": {},
   "outputs": [],
   "source": [
    "import open3d as o3d\n",
    "\n",
    "o3d_mesh = o3d.geometry.TriangleMesh()\n",
    "o3d_mesh.vertices = o3d.utility.Vector3dVector(mesh.P)\n",
    "o3d_mesh.triangles = o3d.utility.Vector3iVector(mesh.DT.simplices)\n",
    "\n",
    "#o3d.visualization.draw_geometries([o3d_mesh])"
   ]
  },
  {
   "cell_type": "code",
   "execution_count": null,
   "metadata": {},
   "outputs": [],
   "source": [
    "smoothed_mesh = o3d_mesh.filter_smooth_laplacian(number_of_iterations=1)"
   ]
  },
  {
   "cell_type": "code",
   "execution_count": null,
   "metadata": {},
   "outputs": [],
   "source": [
    "mesh.P = np.asarray(smoothed_mesh.vertices)"
   ]
  },
  {
   "cell_type": "code",
   "execution_count": null,
   "metadata": {},
   "outputs": [],
   "source": [
    "# Plot mesh\n",
    "fig = go.Figure(data=mesh.plot_trace())\n",
    "fig.update_layout(width=1500, height=900, scene=dict(aspectmode='data'))\n",
    "fig.show()"
   ]
  },
  {
   "cell_type": "code",
   "execution_count": null,
   "metadata": {},
   "outputs": [],
   "source": [
    "clusters, avg_normals = cluster_mesh_graph_search(mesh)"
   ]
  },
  {
   "cell_type": "code",
   "execution_count": null,
   "metadata": {},
   "outputs": [],
   "source": [
    "# Plot clusters\n",
    "plot_clusters(PC, mesh, clusters)"
   ]
  },
  {
   "cell_type": "code",
   "execution_count": null,
   "metadata": {},
   "outputs": [],
   "source": [
    "planes = planes_from_clusters(mesh, clusters, avg_normals)\n",
    "scan = Scan(planes)"
   ]
  },
  {
   "cell_type": "code",
   "execution_count": null,
   "metadata": {},
   "outputs": [],
   "source": [
    "fig = go.Figure(data=[pc_plot_trace(PC)]+scan.plot_trace())\n",
    "fig.update_layout(width=1500, height=900, scene=dict(aspectmode='data'))\n",
    "fig.show()"
   ]
  },
  {
   "cell_type": "code",
   "execution_count": null,
   "metadata": {},
   "outputs": [],
   "source": [
    "np.dot(avg_normals[0], avg_normals[2])"
   ]
  },
  {
   "cell_type": "code",
   "execution_count": null,
   "metadata": {},
   "outputs": [],
   "source": [
    "from planeslam.general import normalize\n",
    "\n",
    "v = avg_normals[0]\n",
    "n = avg_normals[2][:,None]\n",
    "\n",
    "v_proj = normalize(v - (v @ n) @ n.T)"
   ]
  },
  {
   "cell_type": "code",
   "execution_count": null,
   "metadata": {},
   "outputs": [],
   "source": [
    "np.dot(v_proj, n)"
   ]
  },
  {
   "cell_type": "code",
   "execution_count": null,
   "metadata": {},
   "outputs": [],
   "source": [
    "from planeslam.geometry.util import project_points_to_plane\n",
    "\n",
    "n_proj = project_points_to_plane(avg_normals[0], avg_normals[2][:,None])\n",
    "np.dot(n_proj, avg_normals[2])"
   ]
  },
  {
   "cell_type": "code",
   "execution_count": null,
   "metadata": {},
   "outputs": [],
   "source": [
    "n_proj"
   ]
  },
  {
   "cell_type": "code",
   "execution_count": null,
   "metadata": {},
   "outputs": [],
   "source": [
    "avg_normals[2][:,None]"
   ]
  },
  {
   "cell_type": "code",
   "execution_count": null,
   "metadata": {},
   "outputs": [],
   "source": [
    "for p in scan.planes:\n",
    "    print(p.normal)"
   ]
  },
  {
   "cell_type": "code",
   "execution_count": null,
   "metadata": {},
   "outputs": [],
   "source": [
    "normals_arr[np.argmax(np.abs(normals_arr), axis=1)==2][0]"
   ]
  },
  {
   "cell_type": "code",
   "execution_count": null,
   "metadata": {},
   "outputs": [],
   "source": [
    "from planeslam.scan import velo_pc_to_scan\n",
    "scan = velo_pc_to_scan(PC, ds_rate=5, edge_len_lim=2)"
   ]
  },
  {
   "cell_type": "code",
   "execution_count": null,
   "metadata": {},
   "outputs": [],
   "source": [
    "fig = go.Figure(data=scan.plot_trace())\n",
    "fig.update_layout(width=1000, height=600, scene=dict(aspectmode='data'))\n",
    "fig.show()"
   ]
  },
  {
   "cell_type": "code",
   "execution_count": null,
   "metadata": {},
   "outputs": [],
   "source": [
    "from planeslam.clustering import mesh_cluster_pts, sort_mesh_clusters\n",
    "\n",
    "clusters, avg_normals = sort_mesh_clusters(clusters, avg_normals)\n",
    "i = 0\n",
    "n = avg_normals[i][:,None]\n",
    "c = clusters[i]\n",
    "cluster_pts = mesh_cluster_pts(mesh, c)  # Extract points from cluster"
   ]
  },
  {
   "cell_type": "code",
   "execution_count": null,
   "metadata": {},
   "outputs": [],
   "source": [
    "n"
   ]
  },
  {
   "cell_type": "code",
   "execution_count": null,
   "metadata": {},
   "outputs": [],
   "source": [
    "# Plot the points \n",
    "fig = go.Figure(data=pc_plot_trace(cluster_pts))\n",
    "fig.update_layout(width=1000, height=600, scene=dict(aspectmode='data'))\n",
    "fig.show()"
   ]
  },
  {
   "cell_type": "code",
   "execution_count": null,
   "metadata": {},
   "outputs": [],
   "source": [
    "# Find extraction basis based on normals\n",
    "basis = np.zeros((3,3))\n",
    "basis[:,2] = avg_normals[0]  # choose first cluster's normal as z\n",
    "dps = np.asarray(avg_normals) @ basis[:,2]\n",
    "orth_idxs = np.nonzero(np.abs(dps) < 0.2)[0]  # indices of normals approximately orthonormal to z\n",
    "basis[:,0] = avg_normals[orth_idxs[0]]  # choose the first one as x\n",
    "basis[:,1] = np.cross(basis[:,2], basis[:,0])"
   ]
  },
  {
   "cell_type": "code",
   "execution_count": null,
   "metadata": {},
   "outputs": [],
   "source": [
    "basis"
   ]
  },
  {
   "cell_type": "code",
   "execution_count": null,
   "metadata": {},
   "outputs": [],
   "source": [
    "basis.T @ basis"
   ]
  },
  {
   "cell_type": "code",
   "execution_count": null,
   "metadata": {},
   "outputs": [],
   "source": []
  }
 ],
 "metadata": {
  "kernelspec": {
   "display_name": "Python 3.9.12 ('planeslam')",
   "language": "python",
   "name": "python3"
  },
  "language_info": {
   "codemirror_mode": {
    "name": "ipython",
    "version": 3
   },
   "file_extension": ".py",
   "mimetype": "text/x-python",
   "name": "python",
   "nbconvert_exporter": "python",
   "pygments_lexer": "ipython3",
   "version": "3.9.12"
  },
  "orig_nbformat": 4,
  "vscode": {
   "interpreter": {
    "hash": "b585e665bce1ccbefa5eda0ece21e432dc86e0e8165acc8779a1295e00a6ba38"
   }
  }
 },
 "nbformat": 4,
 "nbformat_minor": 2
}
