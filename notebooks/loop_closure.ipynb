{
 "cells": [
  {
   "cell_type": "markdown",
   "metadata": {},
   "source": [
    "# Test loop closure"
   ]
  },
  {
   "cell_type": "code",
   "execution_count": null,
   "metadata": {},
   "outputs": [],
   "source": [
    "%matplotlib widget\n",
    "import numpy as np\n",
    "import os\n",
    "import time\n",
    "import plotly.graph_objects as go\n",
    "from copy import deepcopy\n",
    "\n",
    "import planeslam.io as io\n",
    "from planeslam.scan import pc_to_scan\n",
    "from planeslam.general import NED_to_ENU, trajectory_plot_trace\n",
    "from planeslam.geometry.util import quat_to_R\n",
    "\n",
    "os.environ['KMP_DUPLICATE_LIB_OK']='True'\n",
    "\n",
    "%load_ext autoreload\n",
    "%autoreload 2"
   ]
  },
  {
   "cell_type": "code",
   "execution_count": null,
   "metadata": {},
   "outputs": [],
   "source": [
    "np.set_printoptions(suppress=True)"
   ]
  },
  {
   "cell_type": "markdown",
   "metadata": {},
   "source": [
    "### Load AirSim data"
   ]
  },
  {
   "cell_type": "code",
   "execution_count": null,
   "metadata": {},
   "outputs": [],
   "source": [
    "# Read in point cloud data\n",
    "binpath = os.path.join(os.getcwd(), '..', 'data', 'airsim', 'blocks_sub_2_1200_samples_5hz_noyaw', 'lidar', 'Drone0')\n",
    "PC_data = io.read_lidar_bin(binpath)\n",
    "\n",
    "# Read in ground-truth poses (in drone local frame)\n",
    "posepath = os.path.join(os.getcwd(), '..', 'data', 'airsim', 'blocks_sub_2_1200_samples_5hz_noyaw', 'poses', 'Drone0')\n",
    "drone_positions, drone_orientations = io.read_poses(posepath)"
   ]
  },
  {
   "cell_type": "code",
   "execution_count": null,
   "metadata": {},
   "outputs": [],
   "source": [
    "# Subsample data\n",
    "sub_factor = 5\n",
    "PC_data = PC_data[::sub_factor]\n",
    "drone_positions = drone_positions[::sub_factor]\n",
    "drone_orientations = drone_orientations[::sub_factor]"
   ]
  },
  {
   "cell_type": "code",
   "execution_count": null,
   "metadata": {},
   "outputs": [],
   "source": [
    "# Convert to ENU\n",
    "num_scans = len(PC_data)\n",
    "\n",
    "for i in range(num_scans):\n",
    "    PC_data[i] = NED_to_ENU(PC_data[i])\n",
    "\n",
    "drone_positions = NED_to_ENU(drone_positions)\n",
    "drone_orientations = NED_to_ENU(drone_orientations)\n",
    "\n",
    "drone_rotations = np.zeros((3,3,num_scans))\n",
    "for i in range(num_scans):\n",
    "    drone_rotations[:,:,i] = quat_to_R(drone_orientations[i])"
   ]
  },
  {
   "cell_type": "code",
   "execution_count": null,
   "metadata": {},
   "outputs": [],
   "source": [
    "# Plot ground-truth trajectory\n",
    "gt_traj_trace = go.Scatter3d(x=drone_positions[:,0], y=drone_positions[:,1], z=drone_positions[:,2], \n",
    "    marker=dict(size=5), hovertext=np.arange(len(drone_positions)))\n",
    "fig = go.Figure(data=gt_traj_trace)\n",
    "fig.update_layout(width=1000, height=600, scene=dict(aspectmode='data'))\n",
    "fig.show()"
   ]
  },
  {
   "cell_type": "code",
   "execution_count": null,
   "metadata": {},
   "outputs": [],
   "source": [
    "# Extract scans\n",
    "num_scans = len(PC_data)\n",
    "scans = num_scans * [None]\n",
    "avg_extraction_time = 0\n",
    "for i in range(num_scans):\n",
    "    start_time = time.time()\n",
    "    scans[i] = pc_to_scan(PC_data[i])\n",
    "    scans[i].remove_small_planes(area_thresh=5.0)\n",
    "    avg_extraction_time += time.time() - start_time\n",
    "avg_extraction_time /= num_scans\n",
    "print(avg_extraction_time)"
   ]
  },
  {
   "cell_type": "markdown",
   "metadata": {},
   "source": [
    "### Open-loop registration (odometry)"
   ]
  },
  {
   "cell_type": "code",
   "execution_count": null,
   "metadata": {},
   "outputs": [],
   "source": [
    "from planeslam.registration import robust_GN_register\n",
    "\n",
    "R_abs = quat_to_R(drone_orientations[0])\n",
    "t_abs = drone_positions[0,:].copy()\n",
    "traj_est = np.zeros((num_scans, 3))\n",
    "traj_est[0] = t_abs\n",
    "traj_Rs = np.zeros((3, 3, num_scans))\n",
    "traj_Rs[:,:,0] = R_abs\n",
    "avg_runtime = 0\n",
    "\n",
    "R_hats = []\n",
    "t_hats = []\n",
    "\n",
    "loop_closure_dist_thresh = 10.0\n",
    "index_spacing_thresh = 10\n",
    "\n",
    "r_errors = []\n",
    "\n",
    "for i in range(1, num_scans):\n",
    "    print(\"i = \", i)\n",
    "    start_time = time.time()\n",
    "    R_hat, t_hat = robust_GN_register(scans[i], scans[i-1])\n",
    "    #R_hat = np.array([[0,1,0],[1,0,0],[0,0,1]]) @ R_hat.T @ np.array([[0,1,0],[1,0,0],[0,0,1]])\n",
    "    t_abs += (R_abs @ t_hat).flatten()\n",
    "    R_abs = R_hat @ R_abs\n",
    "    avg_runtime += time.time() - start_time\n",
    "    traj_est[i] = t_abs\n",
    "    traj_Rs[:,:,i] = R_abs\n",
    "\n",
    "    R_hats.append(R_hat)\n",
    "    t_hats.append(t_hat)\n",
    "\n",
    "    R_1 = quat_to_R(drone_orientations[i-1])\n",
    "    R_2 = quat_to_R(drone_orientations[i])\n",
    "    R_gt = R_2 @ R_1.T\n",
    "\n",
    "    t_gt = drone_positions[i] - drone_positions[i-1]\n",
    "\n",
    "    # print(\"  R_hat: \\n\", R_hat)\n",
    "    # print(\"  R_gt: \\n\", R_gt)\n",
    "    # print(\"  t_hat: \", t_hat.flatten())\n",
    "    # print(\"  t_gt: \", t_gt)\n",
    "    r_error = np.linalg.norm(np.eye(3) - R_hat @ R_gt.T)\n",
    "    r_errors.append(r_error)\n",
    "    #print(\"  relative rotational error: \", np.linalg.norm(np.eye(3) - R_hat @ R_gt.T))\n",
    "    #print(\"  relative translational error: \", np.linalg.norm(t_hat - t_gt))\n",
    "\n",
    "    # Loop closure detection\n",
    "    # - check if t_abs is within loop_closure_dist_thresh of any previous traj_est[j] for i-j > some spacing threshold \n",
    "    # - run registration for scan[i], scan[j]: if rotational/translational error is low enough, then add (i,j) as loop closure\n",
    "    loop_closure_dists = np.linalg.norm(t_abs - traj_est[:i], axis=1)\n",
    "    #print(loop_closure_dists)\n",
    "    loop_closure_mask = (loop_closure_dists < loop_closure_dist_thresh)\n",
    "    #print(loop_closure_mask)\n",
    "\n",
    "\n",
    "avg_runtime /= len(scans)-1\n",
    "print(\"average registration time: \", avg_runtime)"
   ]
  },
  {
   "cell_type": "code",
   "execution_count": null,
   "metadata": {},
   "outputs": [],
   "source": [
    "data = go.Scatter(x=np.arange(len(r_errors)), y=r_errors)\n",
    "fig = go.Figure(data=data)\n",
    "fig.update_layout(width=1000, height=600, scene=dict(aspectmode='data'))\n",
    "fig.show()"
   ]
  },
  {
   "cell_type": "code",
   "execution_count": null,
   "metadata": {},
   "outputs": [],
   "source": [
    "gt_traj_trace = go.Scatter3d(x=drone_positions[:,0], y=drone_positions[:,1], z=drone_positions[:,2], \n",
    "    marker=dict(size=5), hovertext=np.arange(len(drone_positions)), name=\"Ground-truth\")\n",
    "est_traj_trace = go.Scatter3d(x=traj_est[:,0], y=traj_est[:,1], z=traj_est[:,2], \n",
    "    marker=dict(size=5), hovertext=np.arange(len(traj_est)), name=\"Estimated\")\n",
    "fig = go.Figure(data=[gt_traj_trace, est_traj_trace])\n",
    "fig.update_layout(width=1500, height=900, scene=dict(aspectmode='data'), legend=dict(yanchor=\"top\", y=0.99, xanchor=\"right\", x=0.99))\n",
    "fig.show()"
   ]
  },
  {
   "cell_type": "code",
   "execution_count": null,
   "metadata": {},
   "outputs": [],
   "source": [
    "gt_traj_trace_2d = go.Scatter(x=drone_positions[:,0], y=drone_positions[:,1], mode='lines+markers',\n",
    "    marker=dict(size=5))\n",
    "gt_traj_trace_2d.name = \"Ground-truth\"\n",
    "est_traj_trace_2d = go.Scatter(x=traj_est[:,0], y=traj_est[:,1], mode='lines+markers',\n",
    "    marker=dict(size=5))\n",
    "est_traj_trace_2d.name = \"Estimated\"\n",
    "fig = go.Figure(data=[gt_traj_trace_2d, est_traj_trace_2d])\n",
    "fig.update_layout(width=1500, height=600, scene=dict(aspectmode='data'),\n",
    "    legend=dict(yanchor=\"bottom\", y=0.03, xanchor=\"right\", x=0.99))\n",
    "fig.show()"
   ]
  },
  {
   "cell_type": "code",
   "execution_count": null,
   "metadata": {},
   "outputs": [],
   "source": [
    "est_data = trajectory_plot_trace(traj_Rs, traj_est)\n",
    "gt_data = trajectory_plot_trace(drone_rotations, drone_positions, color='blue')\n",
    "fig = go.Figure(data=est_data+gt_data)\n",
    "fig.update_layout(width=1600, height=900, scene=dict(aspectmode='data'))\n",
    "fig.show()"
   ]
  },
  {
   "cell_type": "code",
   "execution_count": null,
   "metadata": {},
   "outputs": [],
   "source": [
    "np.sum(np.linalg.norm(np.diff(drone_positions, axis=0), axis=1))"
   ]
  },
  {
   "cell_type": "code",
   "execution_count": null,
   "metadata": {},
   "outputs": [],
   "source": [
    "# Translation RMSE\n",
    "np.mean(np.linalg.norm(drone_positions - traj_est, axis=1))"
   ]
  },
  {
   "cell_type": "code",
   "execution_count": null,
   "metadata": {},
   "outputs": [],
   "source": [
    "np.std(np.linalg.norm(drone_positions - traj_est, axis=1))"
   ]
  },
  {
   "cell_type": "code",
   "execution_count": null,
   "metadata": {},
   "outputs": [],
   "source": [
    "from planeslam.geometry.util import R_to_quat\n",
    "\n",
    "# Rotational error\n",
    "avg_rot_errs = []\n",
    "\n",
    "for i in range(num_scans):\n",
    "    R1 = drone_rotations[:,:,i]\n",
    "    R2 = traj_Rs[:,:,i]\n",
    "\n",
    "    q_diff = R_to_quat(R2 @ R1.T)\n",
    "    theta = np.degrees(np.arctan2(np.linalg.norm(q_diff[:3]), q_diff[3]))\n",
    "\n",
    "    avg_rot_errs.append(theta)\n",
    "\n",
    "print(np.mean(avg_rot_errs))\n",
    "print(np.std(avg_rot_errs))"
   ]
  },
  {
   "cell_type": "code",
   "execution_count": null,
   "metadata": {},
   "outputs": [],
   "source": [
    "theta"
   ]
  },
  {
   "cell_type": "markdown",
   "metadata": {},
   "source": [
    "Form pose graph"
   ]
  },
  {
   "cell_type": "code",
   "execution_count": null,
   "metadata": {},
   "outputs": [],
   "source": [
    "from graphslam.graph import Graph\n",
    "from graphslam.vertex import Vertex\n",
    "from graphslam.edge.edge_odometry import EdgeOdometry\n",
    "from graphslam.pose.se3 import PoseSE3\n",
    "\n",
    "from planeslam.geometry.util import R_to_quat"
   ]
  },
  {
   "cell_type": "code",
   "execution_count": null,
   "metadata": {},
   "outputs": [],
   "source": [
    "vertices = []\n",
    "edges = []\n",
    "\n",
    "# Add first vertex\n",
    "p = PoseSE3(traj_est[0], R_to_quat(traj_Rs[:,:,0]))\n",
    "v = Vertex(0, p)\n",
    "vertices.append(v)\n",
    "\n",
    "# For each scan\n",
    "for i in range(1, num_scans):\n",
    "    # Add new vertex\n",
    "    p = PoseSE3(traj_est[i], R_to_quat(traj_Rs[:,:,i]))\n",
    "    v = Vertex(i, p)\n",
    "    vertices.append(v)\n",
    "\n",
    "    # Add odometry edge\n",
    "    information = np.eye(6)\n",
    "    estimate = PoseSE3(t_hats[i-1], R_to_quat(R_hats[i-1]))\n",
    "    estimate.normalize()\n",
    "    e = EdgeOdometry([i-1, i], information, estimate)\n",
    "    edges.append(e)"
   ]
  },
  {
   "cell_type": "code",
   "execution_count": null,
   "metadata": {},
   "outputs": [],
   "source": [
    "from planeslam.registration import loop_closure_register\n",
    "\n",
    "# Add loop closure edges\n",
    "loop_closures = [(0, 59)]\n",
    "\n",
    "for (i,j) in loop_closures:\n",
    "    R_hat, t_hat = loop_closure_register(scans[j], scans[i], (traj_Rs[:,:,j], traj_est[j]), (traj_Rs[:,:,i], traj_est[i]), t_loss_thresh=0.1)\n",
    "    information = np.eye(6)\n",
    "    estimate = PoseSE3(t_hat, R_to_quat(R_hat))\n",
    "    estimate.normalize()\n",
    "    e = EdgeOdometry([i, j], information, estimate)\n",
    "    edges.append(e)"
   ]
  },
  {
   "cell_type": "code",
   "execution_count": null,
   "metadata": {},
   "outputs": [],
   "source": [
    "g = Graph(edges, vertices)"
   ]
  },
  {
   "cell_type": "code",
   "execution_count": null,
   "metadata": {},
   "outputs": [],
   "source": [
    "g.optimize()"
   ]
  },
  {
   "cell_type": "code",
   "execution_count": null,
   "metadata": {},
   "outputs": [],
   "source": [
    "g._edges"
   ]
  },
  {
   "cell_type": "code",
   "execution_count": null,
   "metadata": {},
   "outputs": [],
   "source": [
    "positions = np.zeros((num_scans, 3))\n",
    "for i, v in enumerate(g._vertices):\n",
    "    positions[i] = v.pose.position"
   ]
  },
  {
   "cell_type": "code",
   "execution_count": null,
   "metadata": {},
   "outputs": [],
   "source": [
    "rotations = np.zeros((3, 3, num_scans))\n",
    "for i, v in enumerate(g._vertices):\n",
    "    rotations[:,:,i] = quat_to_R(v.pose.orientation)"
   ]
  },
  {
   "cell_type": "code",
   "execution_count": null,
   "metadata": {},
   "outputs": [],
   "source": [
    "gt_traj_trace = go.Scatter3d(x=drone_positions[:,0], y=drone_positions[:,1], z=drone_positions[:,2], \n",
    "    marker=dict(size=5), hovertext=np.arange(len(drone_positions)), name=\"Ground-truth\")\n",
    "est_traj_trace = go.Scatter3d(x=positions[:,0], y=positions[:,1], z=positions[:,2], \n",
    "    marker=dict(size=5), hovertext=np.arange(len(traj_est)), name=\"Estimated\")\n",
    "fig = go.Figure(data=[gt_traj_trace, est_traj_trace])\n",
    "fig.update_layout(width=1500, height=900, scene=dict(aspectmode='data'), legend=dict(yanchor=\"top\", y=0.7, xanchor=\"left\", x=0.1))\n",
    "fig.show()"
   ]
  },
  {
   "cell_type": "code",
   "execution_count": null,
   "metadata": {},
   "outputs": [],
   "source": [
    "# est_data = trajectory_plot_trace(rotations, positions)\n",
    "# gt_data = trajectory_plot_trace(drone_rotations, drone_positions, color='blue')\n",
    "# fig = go.Figure(data=est_data+gt_data)\n",
    "# fig.update_layout(width=1600, height=900, scene=dict(aspectmode='data'))\n",
    "# fig.show()"
   ]
  },
  {
   "cell_type": "code",
   "execution_count": null,
   "metadata": {},
   "outputs": [],
   "source": [
    "# RMSE error\n",
    "np.mean(np.linalg.norm(positions - drone_positions, axis=1))"
   ]
  },
  {
   "cell_type": "markdown",
   "metadata": {},
   "source": [
    "Map"
   ]
  },
  {
   "cell_type": "code",
   "execution_count": null,
   "metadata": {},
   "outputs": [],
   "source": [
    "# Initialize transformed scans\n",
    "scans_transformed = []\n",
    "for i in range(num_scans):\n",
    "    scans_transformed.append(deepcopy(scans[i]))\n",
    "    scans_transformed[i].transform(rotations[:,:,i], positions[i])"
   ]
  },
  {
   "cell_type": "code",
   "execution_count": null,
   "metadata": {},
   "outputs": [],
   "source": [
    "P_transformed = num_scans * [None]\n",
    "for i in range(num_scans):\n",
    "    P_transformed[i] = (drone_rotations[:,:,i] @ PC_data[i].T).T + drone_positions[i]"
   ]
  },
  {
   "cell_type": "code",
   "execution_count": null,
   "metadata": {},
   "outputs": [],
   "source": [
    "from planeslam.general import pc_plot_trace\n",
    "\n",
    "i = 50\n",
    "\n",
    "fig = go.Figure(data=[pc_plot_trace(P_transformed[i])]+scans_transformed[i].plot_trace())\n",
    "fig.update_layout(width=1500, height=900, scene=dict(aspectmode='data'))\n",
    "fig.show()"
   ]
  },
  {
   "cell_type": "code",
   "execution_count": null,
   "metadata": {},
   "outputs": [],
   "source": [
    "# Plot scans\n",
    "fig = go.Figure()\n",
    "\n",
    "for i, scan in enumerate(scans_transformed):\n",
    "    for t in scan.plot_trace():\n",
    "        fig.add_trace(t)\n",
    "\n",
    "fig.update_layout(width=1500, height=900, scene=dict(aspectmode='data'))\n",
    "fig.show()"
   ]
  },
  {
   "cell_type": "code",
   "execution_count": null,
   "metadata": {},
   "outputs": [],
   "source": [
    "merged = scans_transformed[0]\n",
    "\n",
    "for s in scans_transformed[1:]:\n",
    "    merged = merged.merge(s, dist_thresh=7.5)\n",
    "    merged.reduce_inside(p2p_dist_thresh=5)\n",
    "    merged.remove_small_planes(area_thresh=1.0)\n",
    "    merged.fuse_edges(vertex_merge_thresh=2.0)"
   ]
  },
  {
   "cell_type": "code",
   "execution_count": null,
   "metadata": {},
   "outputs": [],
   "source": [
    "# Plot merge\n",
    "fig = go.Figure(data=merged.plot_trace(colors=['blue']))\n",
    "fig.update_layout(width=1500, height=900, scene=dict(aspectmode='data'))\n",
    "fig.show()"
   ]
  },
  {
   "cell_type": "code",
   "execution_count": null,
   "metadata": {},
   "outputs": [],
   "source": []
  }
 ],
 "metadata": {
  "kernelspec": {
   "display_name": "Python 3.9.12 ('planeslam')",
   "language": "python",
   "name": "python3"
  },
  "language_info": {
   "codemirror_mode": {
    "name": "ipython",
    "version": 3
   },
   "file_extension": ".py",
   "mimetype": "text/x-python",
   "name": "python",
   "nbconvert_exporter": "python",
   "pygments_lexer": "ipython3",
   "version": "3.9.12"
  },
  "orig_nbformat": 4,
  "vscode": {
   "interpreter": {
    "hash": "b585e665bce1ccbefa5eda0ece21e432dc86e0e8165acc8779a1295e00a6ba38"
   }
  }
 },
 "nbformat": 4,
 "nbformat_minor": 2
}
