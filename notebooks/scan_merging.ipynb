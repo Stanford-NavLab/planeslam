{
 "cells": [
  {
   "cell_type": "markdown",
   "metadata": {},
   "source": [
    "# Test Scan merging"
   ]
  },
  {
   "cell_type": "code",
   "execution_count": null,
   "metadata": {},
   "outputs": [],
   "source": [
    "%matplotlib widget\n",
    "import numpy as np\n",
    "import matplotlib.pyplot as plt\n",
    "from matplotlib import cm\n",
    "import os\n",
    "\n",
    "from planeslam.geometry.util import quat_to_rot_mat\n",
    "from planeslam.general import plot_3D_setup\n",
    "import planeslam.io as io\n",
    "from planeslam.extraction import pc_to_planes\n",
    "from planeslam.scan import pc_to_scan\n",
    "\n",
    "%load_ext autoreload\n",
    "%autoreload 2"
   ]
  },
  {
   "cell_type": "markdown",
   "metadata": {},
   "source": [
    "Read in airsim LiDAR and pose data"
   ]
  },
  {
   "cell_type": "code",
   "execution_count": null,
   "metadata": {},
   "outputs": [],
   "source": [
    "# Read in point cloud data\n",
    "binpath = os.path.join(os.getcwd(),'..', 'data', 'airsim', 'blocks_20_samples_1', 'lidar', 'Drone0')\n",
    "PC_data = io.read_lidar_bin(binpath)"
   ]
  },
  {
   "cell_type": "code",
   "execution_count": null,
   "metadata": {},
   "outputs": [],
   "source": [
    "# Read in ground-truth poses (in drone local frame)\n",
    "posepath = os.path.join(os.getcwd(),'..', 'data', 'airsim', 'blocks_20_samples_1', 'poses', 'Drone0')\n",
    "drone_positions, drone_orientations = io.read_poses(posepath)"
   ]
  },
  {
   "cell_type": "markdown",
   "metadata": {},
   "source": [
    "Extract scans from LiDAR point clouds"
   ]
  },
  {
   "cell_type": "code",
   "execution_count": null,
   "metadata": {},
   "outputs": [],
   "source": [
    "# Extract scans and planesets\n",
    "num_scans = len(PC_data)\n",
    "scans = num_scans * [None]\n",
    "planesets = num_scans * [None]\n",
    "\n",
    "for i in range(num_scans):\n",
    "    scans[i] = pc_to_scan(PC_data[i])\n",
    "    scans[i].transform(quat_to_rot_mat(drone_orientations[i,:]), drone_positions[i,:])"
   ]
  },
  {
   "cell_type": "code",
   "execution_count": null,
   "metadata": {},
   "outputs": [],
   "source": [
    "# Plot scans\n",
    "ax = plot_3D_setup(PC_data[0])\n",
    "\n",
    "cmap = cm.get_cmap('plasma')\n",
    "cmap_idxs = int(len(cmap.colors) / num_scans) * np.arange(num_scans)\n",
    "colors = np.asarray(cmap.colors)[cmap_idxs,:]\n",
    "\n",
    "for i, scan in enumerate(scans):\n",
    "    scan.plot(ax, color=colors[i])"
   ]
  },
  {
   "cell_type": "markdown",
   "metadata": {},
   "source": [
    "Merge Scans"
   ]
  },
  {
   "cell_type": "code",
   "execution_count": null,
   "metadata": {},
   "outputs": [],
   "source": [
    "idx_1 = 1\n",
    "idx_2 = 2\n",
    "\n",
    "# Plot 2 scans\n",
    "fig = plt.figure(figsize=(15,7))\n",
    "ax1 = fig.add_subplot(1, 2, 1, projection='3d')\n",
    "ax2 = fig.add_subplot(1, 2, 2, projection='3d')\n",
    "\n",
    "ax1.set_box_aspect((np.ptp(PC_data[0][:,0]), np.ptp(PC_data[0][:,1]), np.ptp(PC_data[0][:,2])))\n",
    "ax2.set_box_aspect((np.ptp(PC_data[0][:,0]), np.ptp(PC_data[0][:,1]), np.ptp(PC_data[0][:,2])))\n",
    "ax1.set_xlabel(\"X\")\n",
    "ax1.set_ylabel(\"Y\")\n",
    "ax2.set_xlabel(\"X\")\n",
    "ax2.set_ylabel(\"Y\")\n",
    "\n",
    "scans[idx_1].plot(ax1, color='r', show_normals=False)\n",
    "scans[idx_2].plot(ax2, color='b', show_normals=False)"
   ]
  },
  {
   "cell_type": "code",
   "execution_count": null,
   "metadata": {},
   "outputs": [],
   "source": [
    "merge = scans[idx_1].merge(scans[idx_2])"
   ]
  },
  {
   "cell_type": "code",
   "execution_count": null,
   "metadata": {},
   "outputs": [],
   "source": [
    "# Plot merge\n",
    "ax = plot_3D_setup(PC_data[0])\n",
    "\n",
    "scans[idx_1].plot(ax, color='r', show_normals=False)\n",
    "scans[idx_2].plot(ax, color='b', show_normals=False)\n",
    "\n",
    "merge.plot(ax, color='m', show_normals=False)"
   ]
  },
  {
   "cell_type": "code",
   "execution_count": null,
   "metadata": {},
   "outputs": [],
   "source": [
    "merged = scans[0]\n",
    "\n",
    "for s in scans[1:]:\n",
    "    merged = merged.merge(s)"
   ]
  },
  {
   "cell_type": "code",
   "execution_count": null,
   "metadata": {},
   "outputs": [],
   "source": [
    "# Plot merge\n",
    "ax = plot_3D_setup(PC_data[0])\n",
    "merged.plot(ax)"
   ]
  },
  {
   "cell_type": "code",
   "execution_count": null,
   "metadata": {},
   "outputs": [],
   "source": []
  }
 ],
 "metadata": {
  "kernelspec": {
   "display_name": "Python 3.7.13 ('planeslam')",
   "language": "python",
   "name": "python3"
  },
  "language_info": {
   "codemirror_mode": {
    "name": "ipython",
    "version": 3
   },
   "file_extension": ".py",
   "mimetype": "text/x-python",
   "name": "python",
   "nbconvert_exporter": "python",
   "pygments_lexer": "ipython3",
   "version": "3.7.13"
  },
  "orig_nbformat": 4,
  "vscode": {
   "interpreter": {
    "hash": "b585e665bce1ccbefa5eda0ece21e432dc86e0e8165acc8779a1295e00a6ba38"
   }
  }
 },
 "nbformat": 4,
 "nbformat_minor": 2
}
