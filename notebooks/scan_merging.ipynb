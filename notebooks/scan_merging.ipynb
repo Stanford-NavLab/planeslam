{
 "cells": [
  {
   "cell_type": "markdown",
   "metadata": {},
   "source": [
    "# Test Scan merging"
   ]
  },
  {
   "cell_type": "code",
   "execution_count": null,
   "metadata": {},
   "outputs": [],
   "source": [
    "%matplotlib widget\n",
    "import numpy as np\n",
    "import matplotlib.pyplot as plt\n",
    "from matplotlib import cm\n",
    "import os\n",
    "import plotly.graph_objects as go\n",
    "from plotly.subplots import make_subplots\n",
    "\n",
    "from planeslam.geometry.util import quat_to_rot_mat\n",
    "from planeslam.general import plot_3D_setup, NED_to_ENU\n",
    "import planeslam.io as io\n",
    "from planeslam.extraction import pc_to_planes\n",
    "from planeslam.scan import pc_to_scan\n",
    "\n",
    "%load_ext autoreload\n",
    "%autoreload 2"
   ]
  },
  {
   "cell_type": "markdown",
   "metadata": {},
   "source": [
    "Read in airsim LiDAR and pose data"
   ]
  },
  {
   "cell_type": "code",
   "execution_count": null,
   "metadata": {},
   "outputs": [],
   "source": [
    "# Read in point cloud data\n",
    "binpath = os.path.join(os.getcwd(),'..', 'data', 'airsim', 'blocks_60_samples_loop_closure', 'lidar', 'Drone0')\n",
    "PC_data = io.read_lidar_bin(binpath)"
   ]
  },
  {
   "cell_type": "code",
   "execution_count": null,
   "metadata": {},
   "outputs": [],
   "source": [
    "# Read in ground-truth poses (in drone local frame)\n",
    "posepath = os.path.join(os.getcwd(),'..', 'data', 'airsim', 'blocks_60_samples_loop_closure', 'poses', 'Drone0')\n",
    "drone_positions, drone_orientations = io.read_poses(posepath)"
   ]
  },
  {
   "cell_type": "code",
   "execution_count": null,
   "metadata": {},
   "outputs": [],
   "source": [
    "# Convert to ENU\n",
    "num_scans = len(PC_data)\n",
    "\n",
    "for i in range(num_scans):\n",
    "    PC_data[i] = NED_to_ENU(PC_data[i])\n",
    "\n",
    "drone_positions = NED_to_ENU(drone_positions)\n",
    "drone_orientations = NED_to_ENU(drone_orientations)"
   ]
  },
  {
   "cell_type": "markdown",
   "metadata": {},
   "source": [
    "Extract scans from LiDAR point clouds"
   ]
  },
  {
   "cell_type": "code",
   "execution_count": null,
   "metadata": {},
   "outputs": [],
   "source": [
    "# Extract scans\n",
    "scans = num_scans * [None]\n",
    "\n",
    "for i in range(num_scans):\n",
    "    scans[i] = pc_to_scan(PC_data[i])\n",
    "    scans[i].transform(quat_to_rot_mat(drone_orientations[i,:]), drone_positions[i,:])"
   ]
  },
  {
   "cell_type": "code",
   "execution_count": null,
   "metadata": {},
   "outputs": [],
   "source": [
    "# Plot scans\n",
    "fig = go.Figure()\n",
    "\n",
    "for i, scan in enumerate(scans):\n",
    "    for t in scan.plot_trace():\n",
    "        fig.add_trace(t)\n",
    "\n",
    "fig.update_layout(width=1000, height=600, scene=dict(aspectmode='data'))\n",
    "fig.show()"
   ]
  },
  {
   "cell_type": "markdown",
   "metadata": {},
   "source": [
    "Test single-scan simplification"
   ]
  },
  {
   "cell_type": "code",
   "execution_count": null,
   "metadata": {},
   "outputs": [],
   "source": [
    "idx = 1\n",
    "scan = scans[idx]\n",
    "\n",
    "fig = go.Figure(data=scan.plot_trace())\n",
    "fig.update_layout(width=1000, height=600, scene=dict(aspectmode='data'))\n",
    "fig.show()"
   ]
  },
  {
   "cell_type": "code",
   "execution_count": null,
   "metadata": {},
   "outputs": [],
   "source": [
    "from planeslam.geometry.plane import BoundedPlane, merge_plane\n",
    "\n",
    "vertices = list(scan.planes[0].vertices)\n",
    "update_idxs = []\n",
    "update_planes = []\n",
    "vertex_merge_thresh = 2.0\n",
    "\n",
    "vertices"
   ]
  },
  {
   "cell_type": "code",
   "execution_count": null,
   "metadata": {},
   "outputs": [],
   "source": [
    "# Iterate over remaining planes\n",
    "for i, p in enumerate(scan.planes[1:]):\n",
    "    plane_pts = p.vertices\n",
    "    new_face = -np.ones(4, dtype=int)\n",
    "    merge_mask = np.zeros(4, dtype=bool)\n",
    "\n",
    "    # Check if this plane shares any vertices with previous planes\n",
    "    for k in range(len(vertices)):\n",
    "        dists = np.linalg.norm(plane_pts - vertices[k], axis=1)\n",
    "        best_match = np.argsort(dists)[0]\n",
    "        if dists[best_match] < vertex_merge_thresh:\n",
    "            new_face[best_match] = k\n",
    "            merge_mask[best_match] = True\n",
    "\n",
    "    # If shared, adjust plane accordingly\n",
    "    if sum(merge_mask) == 2:\n",
    "        anchor_idxs = new_face[new_face!=-1]\n",
    "        anchor_verts = np.asarray(vertices)[anchor_idxs]\n",
    "        new_plane = merge_plane(merge_mask, anchor_verts, plane_pts, p.normal)\n",
    "\n",
    "        vertices += list(new_plane[~merge_mask,:])\n",
    "        update_idxs.append(i+1)\n",
    "        update_planes.append(BoundedPlane(new_plane))\n",
    "    else:\n",
    "        vertices += list(plane_pts)\n",
    "\n",
    "# Update planes\n",
    "for i, idx in enumerate(update_idxs):\n",
    "    scan.planes[idx] = update_planes[i]"
   ]
  },
  {
   "cell_type": "code",
   "execution_count": null,
   "metadata": {},
   "outputs": [],
   "source": [
    "update_idxs"
   ]
  },
  {
   "cell_type": "code",
   "execution_count": null,
   "metadata": {},
   "outputs": [],
   "source": [
    "fig = make_subplots(rows=1, cols=2, specs=[[{'type': 'surface'}, {'type': 'surface'}]])\n",
    "\n",
    "for t in scan.plot_trace():\n",
    "    fig.add_trace(t, row=1, col=1)\n",
    "\n",
    "scan.fuse_edges()\n",
    "\n",
    "for t in scan.plot_trace():\n",
    "    fig.add_trace(t, row=1, col=2)\n",
    "\n",
    "fig.update_layout(width=1500, height=600, scene=dict(aspectmode='data'), scene2=dict(aspectmode='data'))\n",
    "fig.show()"
   ]
  },
  {
   "cell_type": "markdown",
   "metadata": {},
   "source": [
    "Merge Scans"
   ]
  },
  {
   "cell_type": "code",
   "execution_count": null,
   "metadata": {},
   "outputs": [],
   "source": [
    "merged = scans[0]\n",
    "\n",
    "for s in scans[1:]:\n",
    "    merged = merged.merge(s)"
   ]
  },
  {
   "cell_type": "code",
   "execution_count": null,
   "metadata": {},
   "outputs": [],
   "source": [
    "# Plot merge\n",
    "fig = go.Figure(data=merged.plot_trace())\n",
    "fig.update_layout(width=1000, height=600, scene=dict(aspectmode='data'))\n",
    "fig.show()"
   ]
  },
  {
   "cell_type": "code",
   "execution_count": null,
   "metadata": {},
   "outputs": [],
   "source": [
    "merged.reduce_inside()\n",
    "fig = go.Figure(data=merged.plot_trace())\n",
    "fig.update_layout(width=1000, height=600, scene=dict(aspectmode='data'))\n",
    "fig.show()"
   ]
  },
  {
   "cell_type": "code",
   "execution_count": null,
   "metadata": {},
   "outputs": [],
   "source": []
  }
 ],
 "metadata": {
  "kernelspec": {
   "display_name": "Python 3.7.13 ('planeslam')",
   "language": "python",
   "name": "python3"
  },
  "language_info": {
   "codemirror_mode": {
    "name": "ipython",
    "version": 3
   },
   "file_extension": ".py",
   "mimetype": "text/x-python",
   "name": "python",
   "nbconvert_exporter": "python",
   "pygments_lexer": "ipython3",
   "version": "3.7.13"
  },
  "orig_nbformat": 4,
  "vscode": {
   "interpreter": {
    "hash": "b585e665bce1ccbefa5eda0ece21e432dc86e0e8165acc8779a1295e00a6ba38"
   }
  }
 },
 "nbformat": 4,
 "nbformat_minor": 2
}
