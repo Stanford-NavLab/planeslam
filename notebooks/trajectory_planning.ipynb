{
 "cells": [
  {
   "cell_type": "markdown",
   "metadata": {},
   "source": [
    "# Test trajectory planning in generated map"
   ]
  },
  {
   "cell_type": "code",
   "execution_count": null,
   "metadata": {},
   "outputs": [],
   "source": [
    "%matplotlib widget\n",
    "import numpy as np\n",
    "import os\n",
    "import time\n",
    "import plotly.graph_objects as go\n",
    "from copy import deepcopy\n",
    "\n",
    "import planeslam.io as io\n",
    "from planeslam.scan import pc_to_scan\n",
    "from planeslam.general import NED_to_ENU, trajectory_plot_trace\n",
    "from planeslam.geometry.util import quat_to_R\n",
    "\n",
    "os.environ['KMP_DUPLICATE_LIB_OK']='True'\n",
    "\n",
    "%load_ext autoreload\n",
    "%autoreload 2"
   ]
  },
  {
   "cell_type": "code",
   "execution_count": null,
   "metadata": {},
   "outputs": [],
   "source": [
    "np.set_printoptions(suppress=True)"
   ]
  },
  {
   "cell_type": "markdown",
   "metadata": {},
   "source": [
    "### Load AirSim data"
   ]
  },
  {
   "cell_type": "code",
   "execution_count": null,
   "metadata": {},
   "outputs": [],
   "source": [
    "# Read in point cloud data\n",
    "binpath = os.path.join(os.getcwd(), '..', 'data', 'airsim', 'blocks_60_samples_loop_closure', 'lidar', 'Drone0')\n",
    "PC_data = io.read_lidar_bin(binpath)\n",
    "\n",
    "# Read in ground-truth poses (in drone local frame)\n",
    "posepath = os.path.join(os.getcwd(), '..', 'data', 'airsim', 'blocks_60_samples_loop_closure', 'poses', 'Drone0')\n",
    "drone_positions, drone_orientations = io.read_poses(posepath)"
   ]
  },
  {
   "cell_type": "code",
   "execution_count": null,
   "metadata": {},
   "outputs": [],
   "source": [
    "# Convert to ENU\n",
    "num_scans = len(PC_data)\n",
    "\n",
    "for i in range(num_scans):\n",
    "    PC_data[i] = NED_to_ENU(PC_data[i])\n",
    "\n",
    "drone_positions = NED_to_ENU(drone_positions)\n",
    "drone_orientations = NED_to_ENU(drone_orientations)\n",
    "\n",
    "drone_rotations = np.zeros((3,3,num_scans))\n",
    "for i in range(num_scans):\n",
    "    drone_rotations[:,:,i] = quat_to_R(drone_orientations[i])"
   ]
  },
  {
   "cell_type": "code",
   "execution_count": null,
   "metadata": {},
   "outputs": [],
   "source": [
    "# Extract scans\n",
    "num_scans = len(PC_data)\n",
    "scans = []\n",
    "avg_extraction_time = 0\n",
    "for i in range(num_scans):\n",
    "    start_time = time.time()\n",
    "    scans.append(pc_to_scan(PC_data[i]))\n",
    "    avg_extraction_time += time.time() - start_time\n",
    "avg_extraction_time /= num_scans\n",
    "print(avg_extraction_time)"
   ]
  },
  {
   "cell_type": "markdown",
   "metadata": {},
   "source": [
    "### Open-loop registration (odometry)"
   ]
  },
  {
   "cell_type": "code",
   "execution_count": null,
   "metadata": {},
   "outputs": [],
   "source": [
    "from planeslam.registration import robust_GN_register\n",
    "\n",
    "R_abs = quat_to_R(drone_orientations[0])\n",
    "t_abs = drone_positions[0,:].copy()\n",
    "traj_est = np.zeros((num_scans, 3))\n",
    "traj_est[0] = t_abs\n",
    "traj_Rs = np.zeros((3, 3, num_scans))\n",
    "traj_Rs[:,:,0] = R_abs\n",
    "avg_runtime = 0\n",
    "\n",
    "R_hats = []\n",
    "t_hats = []\n",
    "\n",
    "loop_closure_dist_thresh = 10.0\n",
    "index_spacing_thresh = 10\n",
    "\n",
    "r_errors = []\n",
    "\n",
    "for i in range(1, num_scans):\n",
    "    start_time = time.time()\n",
    "    R_hat, t_hat = robust_GN_register(scans[i], scans[i-1])\n",
    "    #R_hat = np.array([[0,1,0],[1,0,0],[0,0,1]]) @ R_hat.T @ np.array([[0,1,0],[1,0,0],[0,0,1]])\n",
    "    t_abs += (R_abs @ t_hat).flatten()\n",
    "    R_abs = R_hat @ R_abs\n",
    "    avg_runtime += time.time() - start_time\n",
    "    traj_est[i] = t_abs\n",
    "    traj_Rs[:,:,i] = R_abs\n",
    "\n",
    "    R_hats.append(R_hat)\n",
    "    t_hats.append(t_hat)\n",
    "\n",
    "avg_runtime /= len(scans)-1\n",
    "print(\"average registration time: \", avg_runtime)"
   ]
  },
  {
   "cell_type": "markdown",
   "metadata": {},
   "source": [
    "Form pose graph"
   ]
  },
  {
   "cell_type": "code",
   "execution_count": null,
   "metadata": {},
   "outputs": [],
   "source": [
    "from graphslam.graph import Graph\n",
    "from graphslam.vertex import Vertex\n",
    "from graphslam.edge.edge_odometry import EdgeOdometry\n",
    "from graphslam.pose.se3 import PoseSE3\n",
    "\n",
    "from planeslam.geometry.util import R_to_quat"
   ]
  },
  {
   "cell_type": "code",
   "execution_count": null,
   "metadata": {},
   "outputs": [],
   "source": [
    "vertices = []\n",
    "edges = []\n",
    "\n",
    "# Add first vertex\n",
    "p = PoseSE3(traj_est[0], R_to_quat(traj_Rs[:,:,0]))\n",
    "v = Vertex(0, p)\n",
    "vertices.append(v)\n",
    "\n",
    "# For each scan\n",
    "for i in range(1, num_scans):\n",
    "    # Add new vertex\n",
    "    p = PoseSE3(traj_est[i], R_to_quat(traj_Rs[:,:,i]))\n",
    "    v = Vertex(i, p)\n",
    "    vertices.append(v)\n",
    "\n",
    "    # Add odometry edge\n",
    "    information = np.eye(6)\n",
    "    estimate = PoseSE3(t_hats[i-1], R_to_quat(R_hats[i-1]))\n",
    "    estimate.normalize()\n",
    "    e = EdgeOdometry([i-1, i], information, estimate)\n",
    "    edges.append(e)"
   ]
  },
  {
   "cell_type": "code",
   "execution_count": null,
   "metadata": {},
   "outputs": [],
   "source": [
    "# Add loop closure edge\n",
    "R_hat, t_hat = robust_GN_register(scans[59], scans[0])\n",
    "information = np.eye(6)\n",
    "estimate = PoseSE3(t_hat, R_to_quat(R_hat))\n",
    "estimate.normalize()\n",
    "e = EdgeOdometry([0, 59], information, estimate)\n",
    "edges.append(e)"
   ]
  },
  {
   "cell_type": "code",
   "execution_count": null,
   "metadata": {},
   "outputs": [],
   "source": [
    "g = Graph(edges, vertices)"
   ]
  },
  {
   "cell_type": "code",
   "execution_count": null,
   "metadata": {},
   "outputs": [],
   "source": [
    "g.optimize()"
   ]
  },
  {
   "cell_type": "code",
   "execution_count": null,
   "metadata": {},
   "outputs": [],
   "source": [
    "positions = np.zeros((num_scans, 3))\n",
    "for i, v in enumerate(g._vertices):\n",
    "    positions[i] = v.pose.position"
   ]
  },
  {
   "cell_type": "code",
   "execution_count": null,
   "metadata": {},
   "outputs": [],
   "source": [
    "rotations = np.zeros((3, 3, num_scans))\n",
    "for i, v in enumerate(g._vertices):\n",
    "    rotations[:,:,i] = quat_to_R(v.pose.orientation)"
   ]
  },
  {
   "cell_type": "code",
   "execution_count": null,
   "metadata": {},
   "outputs": [],
   "source": [
    "est_traj_trace = go.Scatter3d(x=positions[:,0], y=positions[:,1], z=positions[:,2], \n",
    "    marker=dict(size=5), hovertext=np.arange(len(positions)))\n",
    "gt_traj_trace = go.Scatter3d(x=drone_positions[:,0], y=drone_positions[:,1], z=drone_positions[:,2], \n",
    "    marker=dict(size=5), hovertext=np.arange(len(drone_positions)))\n",
    "fig = go.Figure(data=[gt_traj_trace, est_traj_trace])\n",
    "fig.update_layout(width=1500, height=900, scene=dict(aspectmode='data'))\n",
    "fig.show()"
   ]
  },
  {
   "cell_type": "markdown",
   "metadata": {},
   "source": [
    "Generate Map"
   ]
  },
  {
   "cell_type": "code",
   "execution_count": null,
   "metadata": {},
   "outputs": [],
   "source": [
    "# Initialize transformed scans\n",
    "scans_transformed = []\n",
    "for i in range(num_scans):\n",
    "    scans_transformed.append(deepcopy(scans[i]))\n",
    "    scans_transformed[i].transform(rotations[:,:,i], positions[i])"
   ]
  },
  {
   "cell_type": "code",
   "execution_count": null,
   "metadata": {},
   "outputs": [],
   "source": [
    "merged = scans_transformed[0]\n",
    "\n",
    "for s in scans_transformed[1:50]:\n",
    "    merged = merged.merge(s, dist_thresh=7.5)\n",
    "    merged.reduce_inside(p2p_dist_thresh=5)\n",
    "    merged.remove_small_planes(area_thresh=1.0)\n",
    "    merged.fuse_edges(vertex_merge_thresh=2.0)"
   ]
  },
  {
   "cell_type": "code",
   "execution_count": null,
   "metadata": {},
   "outputs": [],
   "source": [
    "# Plot merge\n",
    "fig = go.Figure(data=merged.plot_trace())\n",
    "fig.update_layout(width=1500, height=900, scene=dict(aspectmode='data'))\n",
    "fig.show()"
   ]
  },
  {
   "cell_type": "markdown",
   "metadata": {},
   "source": [
    "Trajectory planning"
   ]
  },
  {
   "cell_type": "code",
   "execution_count": null,
   "metadata": {},
   "outputs": [],
   "source": [
    "from planeslam.geometry.box3d import Box3D\n",
    "from planeslam.planning.LPM import LPM\n",
    "from planeslam.planning.reach_planner import ReachPlanner\n",
    "import planeslam.planning.params as params\n",
    "from planeslam.planning.zonotope import Zonotope"
   ]
  },
  {
   "cell_type": "code",
   "execution_count": null,
   "metadata": {},
   "outputs": [],
   "source": [
    "LPM_file = os.path.join(os.getcwd(),'..', 'data', 'planning_models', 'quadrotor_linear_planning_model.mat')\n",
    "\n",
    "p_0 = np.array([-80.0, -60.0, 2.0])[:,None]\n",
    "#r_body = Box3D(np.zeros(3), np.eye(3)/2)\n",
    "r_body = Zonotope(np.zeros((3,1)), np.eye(3)/2)\n",
    "\n",
    "planner = ReachPlanner(LPM_file, p_0, map=merged, r_body=r_body)\n",
    "planner.p_goal = np.array([0.0, 0.0, 2.0])[:,None]"
   ]
  },
  {
   "cell_type": "code",
   "execution_count": null,
   "metadata": {},
   "outputs": [],
   "source": [
    "import matplotlib.pyplot as plt\n",
    "from planeslam.planning.reachability import compute_PRS, generate_collision_constraints, check_collision_constraints\n",
    "\n",
    "lpm = LPM(LPM_file)"
   ]
  },
  {
   "cell_type": "code",
   "execution_count": null,
   "metadata": {},
   "outputs": [],
   "source": [
    "v_0 = np.zeros((3,1))\n",
    "a_0 = np.zeros((3,1))\n",
    "FRS = compute_PRS(lpm, p_0, v_0, a_0)"
   ]
  },
  {
   "cell_type": "code",
   "execution_count": null,
   "metadata": {},
   "outputs": [],
   "source": [
    "fig, ax = plt.subplots()\n",
    "\n",
    "for zono in FRS[1:]:\n",
    "    #print(zono)\n",
    "    zono_2D = zono.index([0,1])\n",
    "    zono_2D.plot(ax=ax, alpha=0.05)"
   ]
  },
  {
   "cell_type": "code",
   "execution_count": null,
   "metadata": {},
   "outputs": [],
   "source": [
    "zono_map = []\n",
    "for plane in merged.planes: \n",
    "    c = plane.center[:,None]\n",
    "    G = np.diff(plane.vertices[:3], axis=0).T / 2\n",
    "    zono_map.append(Zonotope(c, G))"
   ]
  },
  {
   "cell_type": "code",
   "execution_count": null,
   "metadata": {},
   "outputs": [],
   "source": [
    "zono_map[0].index([0,1]).plot()"
   ]
  },
  {
   "cell_type": "code",
   "execution_count": null,
   "metadata": {},
   "outputs": [],
   "source": [
    "FRS[-1]"
   ]
  },
  {
   "cell_type": "code",
   "execution_count": null,
   "metadata": {},
   "outputs": [],
   "source": [
    "c = FRS[-1].c[params.OBS_DIM]\n",
    "G = FRS[-1].G\n",
    "\n",
    "# Find columns of G which are nonzero in k_dim (\"k-sliceable\")\n",
    "# - this forms a linear map from the parameter space to workspace\n",
    "k_col = list(set(np.nonzero(G[params.K_DIM,:])[1]))\n",
    "k_slc_G = G[params.OBS_DIM][:,k_col]\n",
    "\n",
    "# \"non-k-sliceable\" generators - have constant contribution regardless of chosen trajectory parameter\n",
    "k_no_slc_G = G[params.OBS_DIM]\n",
    "k_no_slc_G = np.delete(k_no_slc_G, k_col, axis=1)"
   ]
  },
  {
   "cell_type": "code",
   "execution_count": null,
   "metadata": {},
   "outputs": [],
   "source": [
    "# Get current obstacle\n",
    "obs = zono_map[0].Z\n",
    "\n",
    "# Obstacle is \"buffered\" by non-k-sliceable part of FRS\n",
    "buff_obs_c = obs[:,0][:,None] - c\n",
    "buff_obs_G = np.hstack((obs[:,1:], k_no_slc_G))\n",
    "#buff_obs_G = remove_zero_columns(buff_obs_G)\n",
    "buff_obs = Zonotope(buff_obs_c, buff_obs_G)\n",
    "\n",
    "A_obs, b_obs = buff_obs.halfspace()"
   ]
  },
  {
   "cell_type": "code",
   "execution_count": null,
   "metadata": {},
   "outputs": [],
   "source": [
    "obs"
   ]
  },
  {
   "cell_type": "code",
   "execution_count": null,
   "metadata": {},
   "outputs": [],
   "source": [
    "c = np.zeros((3,1))\n",
    "G = np.array([[1, 0], [0, 1], [0, 0]])\n",
    "Z = np.hstack((c,G))"
   ]
  },
  {
   "cell_type": "code",
   "execution_count": null,
   "metadata": {},
   "outputs": [],
   "source": [
    "np.linalg.svd(G)"
   ]
  },
  {
   "cell_type": "code",
   "execution_count": null,
   "metadata": {},
   "outputs": [],
   "source": [
    "S,_,V = np.linalg.svd(G)"
   ]
  },
  {
   "cell_type": "code",
   "execution_count": null,
   "metadata": {},
   "outputs": [],
   "source": [
    "import scipy\n",
    "\n",
    "\n",
    "scipy.linalg.svd(G)"
   ]
  },
  {
   "cell_type": "code",
   "execution_count": null,
   "metadata": {},
   "outputs": [],
   "source": [
    "V"
   ]
  },
  {
   "cell_type": "code",
   "execution_count": null,
   "metadata": {},
   "outputs": [],
   "source": [
    "A_con, b_con = generate_collision_constraints(FRS, [zono_map[0]])"
   ]
  },
  {
   "cell_type": "code",
   "execution_count": null,
   "metadata": {},
   "outputs": [],
   "source": [
    "v_peak = np.array([1, 1, -1.5])[:,None]\n",
    "k = np.hstack((v_0, a_0, v_peak))\n",
    "lpm.compute_positions(k)"
   ]
  },
  {
   "cell_type": "code",
   "execution_count": null,
   "metadata": {},
   "outputs": [],
   "source": [
    "lambdas = v_peak / params.V_MAX\n",
    "lambdas"
   ]
  },
  {
   "cell_type": "code",
   "execution_count": null,
   "metadata": {},
   "outputs": [],
   "source": [
    "print(A_con[29], b_con[29])"
   ]
  },
  {
   "cell_type": "code",
   "execution_count": null,
   "metadata": {},
   "outputs": [],
   "source": [
    "A_con[29] @ lambdas - b_con[29]"
   ]
  },
  {
   "cell_type": "code",
   "execution_count": null,
   "metadata": {},
   "outputs": [],
   "source": [
    "check_collision_constraints(A_con, b_con, v_peak)"
   ]
  },
  {
   "cell_type": "code",
   "execution_count": null,
   "metadata": {},
   "outputs": [],
   "source": [
    "# \"Controller\" loop frequency \n",
    "# Determined by trajectory discretization\n",
    "# Currently the controller just pops off setpoints from the planner trajectories to save for plotting\n",
    "controller_hz = 10  # 0.1 s\n",
    "\n",
    "# Planner loop frequency\n",
    "# Determines time between replans\n",
    "planner_hz = 2  # 0.5 s\n",
    "\n",
    "t_sim = 0  # counter for simulation time\n",
    "trajectory = None\n",
    "traj_idx = 0\n",
    "done = False\n",
    "\n",
    "# Initialize state\n",
    "p = p_0\n",
    "v = np.zeros((3,1))\n",
    "a = np.zeros((3,1))\n",
    "# State history\n",
    "P = []\n",
    "planning_times = []\n",
    "\n",
    "while not done:\n",
    "\n",
    "    # Planner\n",
    "    if t_sim % int(controller_hz/planner_hz) == 0:\n",
    "        # Replan\n",
    "        print(\"Replanning: t_sim = \", t_sim)\n",
    "        start_t = time.time()\n",
    "        trajectory = planner.replan((p,v,a))\n",
    "        planning_times.append(time.time() - start_t)\n",
    "        traj_idx = 0\n",
    "\n",
    "        if trajectory is None:\n",
    "            print(\"Replanning failed, stopping\")\n",
    "            break\n",
    "\n",
    "    # Controller\n",
    "    # Pop off next setpoint\n",
    "    p = trajectory[0][:,traj_idx][:,None]\n",
    "    v = trajectory[1][:,traj_idx][:,None]\n",
    "    a = trajectory[2][:,traj_idx][:,None]\n",
    "    P.append(p)\n",
    "    traj_idx += 1\n",
    "\n",
    "    if np.linalg.norm(p - planner.p_goal) < params.R_GOAL_REACHED:\n",
    "        print(\"Goal reached\")\n",
    "        done = True\n",
    "\n",
    "    t_sim += 1\n",
    "\n",
    "P = np.hstack(P)\n",
    "print(\"Average planning time: \", np.mean(planning_times), \" seconds\")"
   ]
  },
  {
   "cell_type": "code",
   "execution_count": null,
   "metadata": {},
   "outputs": [],
   "source": [
    "planning_times"
   ]
  },
  {
   "cell_type": "code",
   "execution_count": null,
   "metadata": {},
   "outputs": [],
   "source": [
    "# Plot trajectory\n",
    "fig = go.Figure(data=merged.plot_trace()+[go.Scatter3d(x=P[0,:], y=P[1,:], z=P[2,:], marker=dict(size=2))])\n",
    "fig.update_layout(width=1500, height=900, scene=dict(aspectmode='data'))\n",
    "fig.show()"
   ]
  },
  {
   "cell_type": "code",
   "execution_count": null,
   "metadata": {},
   "outputs": [],
   "source": [
    "lpm = LPM(LPM_file)\n",
    "\n",
    "k = np.array([[0, 0, 5],\n",
    "              [0, 0, 5],\n",
    "              [0, 0, 5]])\n",
    "positions = lpm.compute_positions(k)"
   ]
  },
  {
   "cell_type": "code",
   "execution_count": null,
   "metadata": {},
   "outputs": [],
   "source": [
    "v_0 = np.array([1,2,3])\n",
    "a_0 = np.array([2,3,4])\n",
    "k_0 = np.vstack((v_0, a_0))"
   ]
  },
  {
   "cell_type": "code",
   "execution_count": null,
   "metadata": {},
   "outputs": [],
   "source": [
    "from planeslam.planning.reachability import compute_PRS\n",
    "\n",
    "PRS = compute_PRS(lpm, v_0, a_0)"
   ]
  },
  {
   "cell_type": "code",
   "execution_count": null,
   "metadata": {},
   "outputs": [],
   "source": [
    "z = Zonotope(np.zeros((3,1)), np.eye(3))\n",
    "z.contains(np.array([0,0,1.1])[:,None])"
   ]
  },
  {
   "cell_type": "markdown",
   "metadata": {},
   "source": [
    "Test generate collision constraints"
   ]
  },
  {
   "cell_type": "code",
   "execution_count": null,
   "metadata": {},
   "outputs": [],
   "source": [
    "from planeslam.general import remove_zero_columns"
   ]
  },
  {
   "cell_type": "code",
   "execution_count": null,
   "metadata": {},
   "outputs": [],
   "source": [
    "k_dim = np.array([6, 9])\n",
    "obs_dim = np.array([0, 1])"
   ]
  },
  {
   "cell_type": "code",
   "execution_count": null,
   "metadata": {},
   "outputs": [],
   "source": [
    "obs = np.array([[3, 1, 0], [-3, 0, 1]])"
   ]
  },
  {
   "cell_type": "code",
   "execution_count": null,
   "metadata": {},
   "outputs": [],
   "source": [
    "c = np.array([5.43, 5.0])[:,None]\n",
    "G = np.array([[0, 0, 0.0807, -0.0462, 0.0348, -0.0846], \n",
    "              [0, 0, 0.0462, 0.0807, -0.0846, -0.0348],\n",
    "              [0, 0, -0.0757, -0.0433, 0.0371, -0.0902],\n",
    "              [0, 0, -0.0433, -0.0757, -0.0902, -0.0371],\n",
    "              [0, 0, 0, 0, 0, 0],\n",
    "              [0, 0, 0, 0, 0, 0],\n",
    "              [3, 0, 0, 0, 0, 0],\n",
    "              [0, 0, 0, 0, 0, 0],\n",
    "              [0, 0, 0, 0, 0, 0],\n",
    "              [0, 3, 0, 0, 0, 0]])"
   ]
  },
  {
   "cell_type": "code",
   "execution_count": null,
   "metadata": {},
   "outputs": [],
   "source": [
    "# Find columns of G which are nonzero in k_dim (\"k-sliceable\")\n",
    "k_col = list(set(np.nonzero(G[k_dim,:])[1]))"
   ]
  },
  {
   "cell_type": "code",
   "execution_count": null,
   "metadata": {},
   "outputs": [],
   "source": [
    "k_slc_G = G[obs_dim][:,k_col]"
   ]
  },
  {
   "cell_type": "code",
   "execution_count": null,
   "metadata": {},
   "outputs": [],
   "source": [
    "# \"non-k-sliceable\" generators - have constant contribution regardless of chosen trajectory parameter\n",
    "k_no_slc_G = G[obs_dim]\n",
    "k_no_slc_G = np.delete(k_no_slc_G, k_col, axis=1)"
   ]
  },
  {
   "cell_type": "code",
   "execution_count": null,
   "metadata": {},
   "outputs": [],
   "source": [
    "# Obstacle is \"buffered\" by non-k-sliceable part of FRS\n",
    "buff_obs_c = obs[:,0][:,None] - c\n",
    "buff_obs_G = np.hstack((obs[:,1:], k_no_slc_G))\n",
    "buff_obs_G = remove_zero_columns(buff_obs_G)\n",
    "buff_obs = np.hstack((buff_obs_c, buff_obs_G))"
   ]
  },
  {
   "cell_type": "markdown",
   "metadata": {},
   "source": [
    "Test zonotope to halfspace conversion"
   ]
  },
  {
   "cell_type": "code",
   "execution_count": null,
   "metadata": {},
   "outputs": [],
   "source": [
    "buff_obs = Zonotope(buff_obs_c, buff_obs_G)"
   ]
  },
  {
   "cell_type": "code",
   "execution_count": null,
   "metadata": {},
   "outputs": [],
   "source": [
    "A_obs, b_obs = buff_obs.halfspace()"
   ]
  },
  {
   "cell_type": "code",
   "execution_count": null,
   "metadata": {},
   "outputs": [],
   "source": [
    "a = np.array([0,0,1])[:,None]\n",
    "np.kron(np.eye(3),a)"
   ]
  },
  {
   "cell_type": "code",
   "execution_count": null,
   "metadata": {},
   "outputs": [],
   "source": [
    "Z = buff_obstacle\n",
    "c = Z[:,0][:,None]\n",
    "G = Z[:,1:]\n",
    "\n",
    "(dim, n_gen) = G.shape"
   ]
  },
  {
   "cell_type": "code",
   "execution_count": null,
   "metadata": {},
   "outputs": [],
   "source": [
    "#if dim > 1:\n",
    "\n",
    "# Build C matrices\n",
    "#if dim == 2:\n",
    "C = G\n",
    "C = np.vstack((-C[1,:], C[0,:]))# get perpendicular vector"
   ]
  },
  {
   "cell_type": "code",
   "execution_count": null,
   "metadata": {},
   "outputs": [],
   "source": [
    "# if dim == 3:\n",
    "comb = list(itertools.combinations(np.arange(n_gen), dim-1))"
   ]
  },
  {
   "cell_type": "code",
   "execution_count": null,
   "metadata": {},
   "outputs": [],
   "source": [
    "# Normalize normal vectors\n",
    "C = np.divide(C, np.linalg.norm(C, axis=0)).T"
   ]
  },
  {
   "cell_type": "code",
   "execution_count": null,
   "metadata": {},
   "outputs": [],
   "source": [
    "# Compute dPos, dNeg\n",
    "d = C @ c"
   ]
  },
  {
   "cell_type": "code",
   "execution_count": null,
   "metadata": {},
   "outputs": [],
   "source": [
    "A = np.vstack((C, -C))\n",
    "b = np.vstack((d + deltaD, -d + deltaD))"
   ]
  },
  {
   "cell_type": "code",
   "execution_count": null,
   "metadata": {},
   "outputs": [],
   "source": [
    "b"
   ]
  },
  {
   "cell_type": "code",
   "execution_count": null,
   "metadata": {},
   "outputs": [],
   "source": [
    "zero_idx = np.argwhere(np.all(A[...,:]==0, axis=0))"
   ]
  },
  {
   "cell_type": "code",
   "execution_count": null,
   "metadata": {},
   "outputs": [],
   "source": [
    "np.delete(A, zero_idx, axis=1)"
   ]
  },
  {
   "cell_type": "code",
   "execution_count": null,
   "metadata": {},
   "outputs": [],
   "source": []
  }
 ],
 "metadata": {
  "kernelspec": {
   "display_name": "Python 3.9.12 ('planeslam')",
   "language": "python",
   "name": "python3"
  },
  "language_info": {
   "codemirror_mode": {
    "name": "ipython",
    "version": 3
   },
   "file_extension": ".py",
   "mimetype": "text/x-python",
   "name": "python",
   "nbconvert_exporter": "python",
   "pygments_lexer": "ipython3",
   "version": "3.9.12"
  },
  "orig_nbformat": 4,
  "vscode": {
   "interpreter": {
    "hash": "b585e665bce1ccbefa5eda0ece21e432dc86e0e8165acc8779a1295e00a6ba38"
   }
  }
 },
 "nbformat": 4,
 "nbformat_minor": 2
}
