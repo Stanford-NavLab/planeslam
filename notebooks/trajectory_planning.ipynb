{
 "cells": [
  {
   "cell_type": "markdown",
   "metadata": {},
   "source": [
    "# Test trajectory planning in generated map"
   ]
  },
  {
   "cell_type": "code",
   "execution_count": null,
   "metadata": {},
   "outputs": [],
   "source": [
    "%matplotlib widget\n",
    "import numpy as np\n",
    "import os\n",
    "import time\n",
    "import plotly.graph_objects as go\n",
    "from copy import deepcopy\n",
    "\n",
    "import planeslam.io as io\n",
    "from planeslam.scan import pc_to_scan\n",
    "from planeslam.general import NED_to_ENU, trajectory_plot_trace\n",
    "from planeslam.geometry.util import quat_to_R\n",
    "\n",
    "os.environ['KMP_DUPLICATE_LIB_OK']='True'\n",
    "\n",
    "%load_ext autoreload\n",
    "%autoreload 2\n",
    "%load_ext line_profiler"
   ]
  },
  {
   "cell_type": "code",
   "execution_count": null,
   "metadata": {},
   "outputs": [],
   "source": [
    "np.set_printoptions(suppress=True)"
   ]
  },
  {
   "cell_type": "markdown",
   "metadata": {},
   "source": [
    "### Load AirSim data"
   ]
  },
  {
   "cell_type": "code",
   "execution_count": null,
   "metadata": {},
   "outputs": [],
   "source": [
    "# Read in point cloud data\n",
    "binpath = os.path.join(os.getcwd(), '..', 'data', 'airsim', 'blocks_sub_2_1200_samples_5hz_noyaw', 'lidar', 'Drone0')\n",
    "PC_data = io.read_lidar_bin(binpath)\n",
    "\n",
    "# Read in ground-truth poses (in drone local frame)\n",
    "posepath = os.path.join(os.getcwd(), '..', 'data', 'airsim', 'blocks_sub_2_1200_samples_5hz_noyaw', 'poses', 'Drone0')\n",
    "drone_positions, drone_orientations = io.read_poses(posepath)"
   ]
  },
  {
   "cell_type": "code",
   "execution_count": null,
   "metadata": {},
   "outputs": [],
   "source": [
    "# Subsample data\n",
    "sub_factor = 5\n",
    "PC_data = PC_data[::sub_factor]\n",
    "drone_positions = drone_positions[::sub_factor]\n",
    "drone_orientations = drone_orientations[::sub_factor]"
   ]
  },
  {
   "cell_type": "code",
   "execution_count": null,
   "metadata": {},
   "outputs": [],
   "source": [
    "# Plot ground-truth trajectory\n",
    "gt_traj_trace = go.Scatter3d(x=drone_positions[:,0], y=drone_positions[:,1], z=drone_positions[:,2], \n",
    "    marker=dict(size=2, color='orange'), hovertext=np.arange(len(drone_positions)))\n",
    "fig = go.Figure(data=gt_traj_trace)\n",
    "fig.update_layout(width=1000, height=600, scene=dict(aspectmode='data'))\n",
    "fig.show()"
   ]
  },
  {
   "cell_type": "code",
   "execution_count": null,
   "metadata": {},
   "outputs": [],
   "source": [
    "# Convert to ENU\n",
    "num_scans = len(PC_data)\n",
    "\n",
    "for i in range(num_scans):\n",
    "    PC_data[i] = NED_to_ENU(PC_data[i])\n",
    "\n",
    "drone_positions = NED_to_ENU(drone_positions)\n",
    "drone_orientations = NED_to_ENU(drone_orientations)\n",
    "\n",
    "drone_rotations = np.zeros((3,3,num_scans))\n",
    "for i in range(num_scans):\n",
    "    drone_rotations[:,:,i] = quat_to_R(drone_orientations[i])"
   ]
  },
  {
   "cell_type": "code",
   "execution_count": null,
   "metadata": {},
   "outputs": [],
   "source": [
    "# Extract scans\n",
    "num_scans = len(PC_data)\n",
    "scans = []\n",
    "avg_extraction_time = 0\n",
    "for i in range(num_scans):\n",
    "    start_time = time.time()\n",
    "    scans.append(pc_to_scan(PC_data[i]))\n",
    "    avg_extraction_time += time.time() - start_time\n",
    "avg_extraction_time /= num_scans\n",
    "print(avg_extraction_time)"
   ]
  },
  {
   "cell_type": "markdown",
   "metadata": {},
   "source": [
    "Generate Map"
   ]
  },
  {
   "cell_type": "code",
   "execution_count": null,
   "metadata": {},
   "outputs": [],
   "source": [
    "# Initialize transformed scans\n",
    "scans_transformed = []\n",
    "for i in range(num_scans):\n",
    "    scans_transformed.append(deepcopy(scans[i]))\n",
    "    scans_transformed[i].transform(drone_rotations[:,:,i], drone_positions[i])"
   ]
  },
  {
   "cell_type": "code",
   "execution_count": null,
   "metadata": {},
   "outputs": [],
   "source": [
    "merged = scans_transformed[0]\n",
    "\n",
    "for s in scans_transformed[1:76] + scans_transformed[77:-5]:\n",
    "    merged = merged.merge(s, dist_thresh=7.5)\n",
    "    merged.reduce_inside(p2p_dist_thresh=5)\n",
    "    merged.remove_small_planes(area_thresh=5.0)\n",
    "    merged.fuse_edges(vertex_merge_thresh=2.0)"
   ]
  },
  {
   "cell_type": "code",
   "execution_count": null,
   "metadata": {},
   "outputs": [],
   "source": [
    "# Plot merge\n",
    "fig = go.Figure(data=merged.plot_trace(colors=['blue']))\n",
    "fig.update_layout(width=1500, height=900, scene=dict(aspectmode='data'))\n",
    "fig.show()"
   ]
  },
  {
   "cell_type": "markdown",
   "metadata": {},
   "source": [
    "High-level planner (RRT)"
   ]
  },
  {
   "cell_type": "code",
   "execution_count": null,
   "metadata": {},
   "outputs": [],
   "source": [
    "import networkx as nx\n",
    "\n",
    "G = nx.Graph()\n",
    "G.add_node(0, pos=np.array([0,0,0]))"
   ]
  },
  {
   "cell_type": "code",
   "execution_count": null,
   "metadata": {},
   "outputs": [],
   "source": [
    "G.nodes[0]['pos']"
   ]
  },
  {
   "cell_type": "code",
   "execution_count": null,
   "metadata": {},
   "outputs": [],
   "source": [
    "root_pos = np.array([40.0, -75.0, 2.0])\n",
    "\n",
    "G_pos = root_pos\n",
    "G_edges = []\n",
    "\n",
    "RRT_radius = 5\n",
    "world_bounds = np.array([[-26, 204],  # x_min, x_max\n",
    "                         [-122, 19],  # y_min, y_max,\n",
    "                         [-1, 24]])   # z_min, z_max"
   ]
  },
  {
   "cell_type": "code",
   "execution_count": null,
   "metadata": {},
   "outputs": [],
   "source": [
    "N_iters = 1000\n",
    "vertex_ct = 1\n",
    "\n",
    "start_time = time.time()\n",
    "\n",
    "for i in range(N_iters):\n",
    "    # Sample a random position in bounds\n",
    "    rand_sample = np.random.random_sample(size=3)\n",
    "    rand_pos = world_bounds[:,0] + rand_sample * np.diff(world_bounds).flatten()\n",
    "\n",
    "    # Find nearest vertex in G\n",
    "    if G_pos.ndim > 1:\n",
    "        dists = np.linalg.norm(G_pos - rand_pos, axis=1)\n",
    "        nearest = np.argmin(dists)\n",
    "        nearest_pos = G_pos[nearest]\n",
    "        dist_nearest = dists[nearest]\n",
    "    else:\n",
    "        nearest = 0\n",
    "        nearest_pos = G_pos\n",
    "        dist_nearest = np.linalg.norm(G_pos - rand_pos)\n",
    "\n",
    "    # Find new vertex along path and check for collision\n",
    "    new_pos = nearest_pos + (RRT_radius / dist_nearest) * (rand_pos - nearest_pos)\n",
    "    line = np.vstack((nearest_pos, new_pos))\n",
    "    collision = False\n",
    "    start_time = time.time()\n",
    "    for plane in merged.planes:\n",
    "        if plane.check_line_intersect(line):\n",
    "            collision = True\n",
    "    \n",
    "    # If no collision, add new vertex to G\n",
    "    if not collision:\n",
    "        G_pos = np.vstack((G_pos, new_pos))\n",
    "        G_edges.append((nearest, vertex_ct))\n",
    "        vertex_ct += 1\n",
    "        \n",
    "print(\"elapsed: \", time.time() - start_time)"
   ]
  },
  {
   "cell_type": "code",
   "execution_count": null,
   "metadata": {},
   "outputs": [],
   "source": [
    "# Visualize\n",
    "edge_x = []\n",
    "edge_y = []\n",
    "edge_z = []\n",
    "for edge in G_edges:\n",
    "    x0, y0, z0 = G_pos[edge[0]]\n",
    "    x1, y1, z1 = G_pos[edge[1]]\n",
    "    edge_x.append(x0)\n",
    "    edge_x.append(x1)\n",
    "    edge_x.append(None)\n",
    "    edge_y.append(y0)\n",
    "    edge_y.append(y1)\n",
    "    edge_y.append(None)\n",
    "    edge_z.append(z0)\n",
    "    edge_z.append(z1)\n",
    "    edge_z.append(None)\n",
    "\n",
    "edge_trace = go.Scatter3d(x=edge_x, y=edge_y, z=edge_z, mode='lines')\n",
    "node_trace = go.Scatter3d(x=G_pos[:,0], y=G_pos[:,1], z=G_pos[:,2], mode='markers', marker=dict(size=5))"
   ]
  },
  {
   "cell_type": "code",
   "execution_count": null,
   "metadata": {},
   "outputs": [],
   "source": [
    "fig = go.Figure(data=merged.plot_trace(colors=['blue'])+[edge_trace, node_trace])\n",
    "fig.update_layout(width=1500, height=900, scene=dict(aspectmode='data'))\n",
    "fig.show()"
   ]
  },
  {
   "cell_type": "markdown",
   "metadata": {},
   "source": [
    "Trajectory planning"
   ]
  },
  {
   "cell_type": "code",
   "execution_count": null,
   "metadata": {},
   "outputs": [],
   "source": [
    "from planeslam.geometry.box3d import Box3D\n",
    "from planeslam.planning.LPM import LPM\n",
    "from planeslam.planning.reach_planner import ReachPlanner\n",
    "import planeslam.planning.params as params\n",
    "from planeslam.planning.zonotope import Zonotope"
   ]
  },
  {
   "cell_type": "code",
   "execution_count": null,
   "metadata": {},
   "outputs": [],
   "source": [
    "from planeslam.planning.reachability import compute_FRS, generate_collision_constraints_FRS, check_collision_constraints, check_collision_constraints_vectorized"
   ]
  },
  {
   "cell_type": "code",
   "execution_count": null,
   "metadata": {},
   "outputs": [],
   "source": [
    "LPM_file = os.path.join(os.getcwd(),'..', 'data', 'planning_models', 'quadrotor_linear_planning_model.mat')\n",
    "\n",
    "p_0 = np.array([40.0, -75.0, 2.0])[:,None]\n",
    "#r_body = Box3D(np.zeros(3), np.eye(3)/2)\n",
    "r_body = Zonotope(np.zeros((3,1)), 2*np.eye(3))\n",
    "\n",
    "planner = ReachPlanner(LPM_file, p_0, map=merged, r_body=r_body)"
   ]
  },
  {
   "cell_type": "code",
   "execution_count": null,
   "metadata": {},
   "outputs": [],
   "source": [
    "waypts = np.array([[40, -75, 2.0],\n",
    "                   [60, -45, 2.0],\n",
    "                   [80, -65, 2.0],\n",
    "                   [100, -65, 2.0],\n",
    "                   [120, -80, 2.0],\n",
    "                   [140, -45, 2.0]])\n",
    "waypt_idx = 1"
   ]
  },
  {
   "cell_type": "code",
   "execution_count": null,
   "metadata": {},
   "outputs": [],
   "source": [
    "# Plot merge\n",
    "fig = go.Figure(data=merged.plot_trace(colors=['blue'])+[go.Scatter3d(x=waypts[:,0], y=waypts[:,1], z=waypts[:,2], marker=dict(size=5, color='orange'))])\n",
    "fig.update_layout(width=1500, height=900, scene=dict(aspectmode='data'))\n",
    "fig.show()"
   ]
  },
  {
   "cell_type": "code",
   "execution_count": null,
   "metadata": {},
   "outputs": [],
   "source": [
    "# \"Controller\" loop frequency \n",
    "# Determined by trajectory discretization\n",
    "# Currently the controller just pops off setpoints from the planner trajectories to save for plotting\n",
    "controller_hz = 10  # 0.1 s\n",
    "\n",
    "# Planner loop frequency\n",
    "# Determines time between replans\n",
    "planner_hz = 2  # 0.5 s\n",
    "\n",
    "t_sim = 0  # counter for simulation time\n",
    "trajectory = None\n",
    "traj_idx = 0\n",
    "done = False\n",
    "\n",
    "# Initialize state\n",
    "p = p_0\n",
    "v = np.zeros((3,1))\n",
    "a = np.zeros((3,1))\n",
    "# State history\n",
    "P = []\n",
    "planning_times = []\n",
    "\n",
    "# Set initial goal\n",
    "planner.p_goal = waypts[waypt_idx,:][:,None]\n",
    "\n",
    "while not done:\n",
    "\n",
    "    # Planner\n",
    "    if t_sim % int(controller_hz/planner_hz) == 0:\n",
    "        # Replan\n",
    "        print(\"Replanning: t_sim = \", t_sim)\n",
    "        start_t = time.time()\n",
    "        trajectory = planner.replan((p,v,a))\n",
    "        planning_times.append(time.time() - start_t)\n",
    "        traj_idx = 0\n",
    "\n",
    "        if trajectory is None:\n",
    "            print(\"Replanning failed, stopping\")\n",
    "            break\n",
    "\n",
    "    # Controller\n",
    "    # Pop off next setpoint\n",
    "    p = trajectory[0][:,traj_idx][:,None]\n",
    "    v = trajectory[1][:,traj_idx][:,None]\n",
    "    a = trajectory[2][:,traj_idx][:,None]\n",
    "    P.append(p)\n",
    "    traj_idx += 1\n",
    "\n",
    "    if np.linalg.norm(p - planner.p_goal) < params.R_GOAL_REACHED:\n",
    "        print(\"Waypoint reached\")\n",
    "        waypt_idx += 1\n",
    "        if waypt_idx < len(waypts):\n",
    "            planner.p_goal = waypts[waypt_idx,:][:,None]\n",
    "        else:\n",
    "            print(\"Done.\")\n",
    "            done = True\n",
    "\n",
    "    t_sim += 1\n",
    "\n",
    "P = np.hstack(P)\n",
    "print(\"Average planning time: \", np.mean(planning_times), \" seconds\")"
   ]
  },
  {
   "cell_type": "code",
   "execution_count": null,
   "metadata": {},
   "outputs": [],
   "source": [
    "np.std(planning_times)"
   ]
  },
  {
   "cell_type": "code",
   "execution_count": null,
   "metadata": {},
   "outputs": [],
   "source": [
    "# Plot trajectory\n",
    "fig = go.Figure(data=merged.plot_trace(colors=['blue'])\n",
    "    +[go.Scatter3d(x=waypts[:,0], y=waypts[:,1], z=waypts[:,2], marker=dict(size=5, color='orange'))]\n",
    "    +[go.Scatter3d(x=P[0,:], y=P[1,:], z=P[2,:], marker=dict(size=2, color='red'))])\n",
    "fig.update_layout(width=1500, height=900, scene=dict(aspectmode='data', xaxis=dict(visible=False), yaxis=dict(visible=False), zaxis=dict(visible=False)))\n",
    "fig.show()"
   ]
  },
  {
   "cell_type": "code",
   "execution_count": null,
   "metadata": {},
   "outputs": [],
   "source": [
    "# Compute FRS from initial conditions\n",
    "FRS = compute_FRS(planner.LPM, planner.p_0, planner.v_0, planner.a_0)\n",
    "\n",
    "# Generate collision constraints\n",
    "# NOTE: For now, only generate constraints for final element of FRS\n",
    "nearby_obs = [planner.zono_map[i] for i in planner.get_nearby_obs_idxs()]\n",
    "A_con, b_con = generate_collision_constraints_FRS(FRS, nearby_obs)"
   ]
  },
  {
   "cell_type": "code",
   "execution_count": null,
   "metadata": {},
   "outputs": [],
   "source": [
    "lpm = LPM(LPM_file)\n",
    "v_0 = np.zeros((3,1))\n",
    "a_0 = np.zeros((3,1))\n",
    "v_peak = np.array([3, 0, 0])[:,None]\n",
    "k = np.hstack((v_0, a_0, v_peak))\n",
    "#(p_0 + lpm.compute_positions(k)).T"
   ]
  },
  {
   "cell_type": "code",
   "execution_count": null,
   "metadata": {},
   "outputs": [],
   "source": [
    "check_collision_constraints(A_con, b_con, v_peak)"
   ]
  },
  {
   "cell_type": "code",
   "execution_count": null,
   "metadata": {},
   "outputs": [],
   "source": [
    "check_collision_constraints_vectorized(A_con, b_con, v_peak)"
   ]
  },
  {
   "cell_type": "code",
   "execution_count": null,
   "metadata": {},
   "outputs": [],
   "source": [
    "%lprun -f check_collision_constraints check_collision_constraints(A_con, b_con, v_peak)"
   ]
  },
  {
   "cell_type": "code",
   "execution_count": null,
   "metadata": {},
   "outputs": [],
   "source": [
    "%lprun -f check_collision_constraints_vectorized check_collision_constraints_vectorized(A_con, b_con, v_peak)"
   ]
  },
  {
   "cell_type": "code",
   "execution_count": null,
   "metadata": {},
   "outputs": [],
   "source": [
    "import matplotlib.pyplot as plt\n",
    "from planeslam.planning.reachability import compute_PRS, compute_FRS, generate_collision_constraints, check_collision_constraints\n",
    "\n",
    "lpm = LPM(LPM_file)"
   ]
  },
  {
   "cell_type": "code",
   "execution_count": null,
   "metadata": {},
   "outputs": [],
   "source": [
    "v_0 = np.zeros((3,1))\n",
    "a_0 = np.zeros((3,1))\n",
    "FRS = compute_FRS(lpm, p_0, v_0, a_0)"
   ]
  },
  {
   "cell_type": "code",
   "execution_count": null,
   "metadata": {},
   "outputs": [],
   "source": [
    "fig, ax = plt.subplots()\n",
    "\n",
    "for zono in FRS[1:]:\n",
    "    #print(zono)\n",
    "    zono_2D = zono.index([0,1])\n",
    "    zono_2D.plot(ax=ax, alpha=0.05)"
   ]
  },
  {
   "cell_type": "code",
   "execution_count": null,
   "metadata": {},
   "outputs": [],
   "source": [
    "zono_map = []\n",
    "for plane in merged.planes: \n",
    "    c = plane.center[:,None]\n",
    "    G = np.diff(plane.vertices[:3], axis=0).T / 2\n",
    "    zono_map.append(Zonotope(c, G))"
   ]
  },
  {
   "cell_type": "code",
   "execution_count": null,
   "metadata": {},
   "outputs": [],
   "source": [
    "zono_map[0].index([0,1]).plot()"
   ]
  },
  {
   "cell_type": "code",
   "execution_count": null,
   "metadata": {},
   "outputs": [],
   "source": [
    "FRS[-1]"
   ]
  },
  {
   "cell_type": "code",
   "execution_count": null,
   "metadata": {},
   "outputs": [],
   "source": [
    "c = FRS[-1].c[params.OBS_DIM]\n",
    "G = FRS[-1].G\n",
    "\n",
    "# Find columns of G which are nonzero in k_dim (\"k-sliceable\")\n",
    "# - this forms a linear map from the parameter space to workspace\n",
    "k_col = list(set(np.nonzero(G[params.K_DIM,:])[1]))\n",
    "k_slc_G = G[params.OBS_DIM][:,k_col]\n",
    "\n",
    "# \"non-k-sliceable\" generators - have constant contribution regardless of chosen trajectory parameter\n",
    "k_no_slc_G = G[params.OBS_DIM]\n",
    "k_no_slc_G = np.delete(k_no_slc_G, k_col, axis=1)"
   ]
  },
  {
   "cell_type": "code",
   "execution_count": null,
   "metadata": {},
   "outputs": [],
   "source": [
    "k_no_slc_G"
   ]
  },
  {
   "cell_type": "code",
   "execution_count": null,
   "metadata": {},
   "outputs": [],
   "source": [
    "# Get current obstacle\n",
    "obs = zono_map[0].Z\n",
    "\n",
    "# Obstacle is \"buffered\" by non-k-sliceable part of FRS\n",
    "buff_obs_c = obs[:,0][:,None] - c\n",
    "buff_obs_G = np.hstack((obs[:,1:], k_no_slc_G))\n",
    "#buff_obs_G = remove_zero_columns(buff_obs_G)\n",
    "buff_obs = Zonotope(buff_obs_c, buff_obs_G)\n",
    "\n",
    "A_obs, b_obs = buff_obs.halfspace()"
   ]
  },
  {
   "cell_type": "code",
   "execution_count": null,
   "metadata": {},
   "outputs": [],
   "source": [
    "A = A_obs @ k_slc_G\n",
    "b = b_obs"
   ]
  },
  {
   "cell_type": "code",
   "execution_count": null,
   "metadata": {},
   "outputs": [],
   "source": [
    "b"
   ]
  },
  {
   "cell_type": "code",
   "execution_count": null,
   "metadata": {},
   "outputs": [],
   "source": [
    "A_con, b_con = generate_collision_constraints(FRS, [zono_map[0]])"
   ]
  },
  {
   "cell_type": "code",
   "execution_count": null,
   "metadata": {},
   "outputs": [],
   "source": [
    "b_con[-1]"
   ]
  },
  {
   "cell_type": "code",
   "execution_count": null,
   "metadata": {},
   "outputs": [],
   "source": [
    "v_peak = np.array([1, 1, -1.5])[:,None]\n",
    "k = np.hstack((v_0, a_0, v_peak))\n",
    "lpm.compute_positions(k)"
   ]
  },
  {
   "cell_type": "code",
   "execution_count": null,
   "metadata": {},
   "outputs": [],
   "source": [
    "lambdas = v_peak / params.V_MAX\n",
    "lambdas"
   ]
  },
  {
   "cell_type": "code",
   "execution_count": null,
   "metadata": {},
   "outputs": [],
   "source": [
    "print(A_con[29], b_con[29])"
   ]
  },
  {
   "cell_type": "code",
   "execution_count": null,
   "metadata": {},
   "outputs": [],
   "source": [
    "A_con[-1] @ lambdas - b_con[-1]"
   ]
  },
  {
   "cell_type": "code",
   "execution_count": null,
   "metadata": {},
   "outputs": [],
   "source": [
    "check_collision_constraints(A_con, b_con, v_peak)"
   ]
  },
  {
   "cell_type": "code",
   "execution_count": null,
   "metadata": {},
   "outputs": [],
   "source": [
    "P = np.hstack(P)"
   ]
  },
  {
   "cell_type": "code",
   "execution_count": null,
   "metadata": {},
   "outputs": [],
   "source": [
    "# Plot trajectory\n",
    "fig = go.Figure(data=merged.plot_trace()+[go.Scatter3d(x=P[0,:], y=P[1,:], z=P[2,:], marker=dict(size=2))])\n",
    "fig.update_layout(width=1500, height=900, scene=dict(aspectmode='data'))\n",
    "fig.show()"
   ]
  },
  {
   "cell_type": "code",
   "execution_count": null,
   "metadata": {},
   "outputs": [],
   "source": [
    "lpm = LPM(LPM_file)\n",
    "\n",
    "k = np.array([[0, 0, 5],\n",
    "              [0, 0, 5],\n",
    "              [0, 0, 5]])\n",
    "positions = lpm.compute_positions(k)"
   ]
  },
  {
   "cell_type": "code",
   "execution_count": null,
   "metadata": {},
   "outputs": [],
   "source": [
    "v_0 = np.array([1,2,3])\n",
    "a_0 = np.array([2,3,4])\n",
    "k_0 = np.vstack((v_0, a_0))"
   ]
  },
  {
   "cell_type": "code",
   "execution_count": null,
   "metadata": {},
   "outputs": [],
   "source": [
    "from planeslam.planning.reachability import compute_PRS\n",
    "\n",
    "PRS = compute_PRS(lpm, v_0, a_0)"
   ]
  },
  {
   "cell_type": "code",
   "execution_count": null,
   "metadata": {},
   "outputs": [],
   "source": [
    "z = Zonotope(np.zeros((3,1)), np.eye(3))\n",
    "z.contains(np.array([0,0,1.1])[:,None])"
   ]
  },
  {
   "cell_type": "markdown",
   "metadata": {},
   "source": [
    "Test generate collision constraints"
   ]
  },
  {
   "cell_type": "code",
   "execution_count": null,
   "metadata": {},
   "outputs": [],
   "source": [
    "from planeslam.general import remove_zero_columns"
   ]
  },
  {
   "cell_type": "code",
   "execution_count": null,
   "metadata": {},
   "outputs": [],
   "source": [
    "k_dim = np.array([6, 9])\n",
    "obs_dim = np.array([0, 1])"
   ]
  },
  {
   "cell_type": "code",
   "execution_count": null,
   "metadata": {},
   "outputs": [],
   "source": [
    "obs = np.array([[3, 1, 0], [-3, 0, 1]])"
   ]
  },
  {
   "cell_type": "code",
   "execution_count": null,
   "metadata": {},
   "outputs": [],
   "source": [
    "c = np.array([5.43, 5.0])[:,None]\n",
    "G = np.array([[0, 0, 0.0807, -0.0462, 0.0348, -0.0846], \n",
    "              [0, 0, 0.0462, 0.0807, -0.0846, -0.0348],\n",
    "              [0, 0, -0.0757, -0.0433, 0.0371, -0.0902],\n",
    "              [0, 0, -0.0433, -0.0757, -0.0902, -0.0371],\n",
    "              [0, 0, 0, 0, 0, 0],\n",
    "              [0, 0, 0, 0, 0, 0],\n",
    "              [3, 0, 0, 0, 0, 0],\n",
    "              [0, 0, 0, 0, 0, 0],\n",
    "              [0, 0, 0, 0, 0, 0],\n",
    "              [0, 3, 0, 0, 0, 0]])"
   ]
  },
  {
   "cell_type": "code",
   "execution_count": null,
   "metadata": {},
   "outputs": [],
   "source": [
    "# Find columns of G which are nonzero in k_dim (\"k-sliceable\")\n",
    "k_col = list(set(np.nonzero(G[k_dim,:])[1]))"
   ]
  },
  {
   "cell_type": "code",
   "execution_count": null,
   "metadata": {},
   "outputs": [],
   "source": [
    "k_slc_G = G[obs_dim][:,k_col]"
   ]
  },
  {
   "cell_type": "code",
   "execution_count": null,
   "metadata": {},
   "outputs": [],
   "source": [
    "# \"non-k-sliceable\" generators - have constant contribution regardless of chosen trajectory parameter\n",
    "k_no_slc_G = G[obs_dim]\n",
    "k_no_slc_G = np.delete(k_no_slc_G, k_col, axis=1)"
   ]
  },
  {
   "cell_type": "code",
   "execution_count": null,
   "metadata": {},
   "outputs": [],
   "source": [
    "# Obstacle is \"buffered\" by non-k-sliceable part of FRS\n",
    "buff_obs_c = obs[:,0][:,None] - c\n",
    "buff_obs_G = np.hstack((obs[:,1:], k_no_slc_G))\n",
    "buff_obs_G = remove_zero_columns(buff_obs_G)\n",
    "buff_obs = np.hstack((buff_obs_c, buff_obs_G))"
   ]
  },
  {
   "cell_type": "markdown",
   "metadata": {},
   "source": [
    "Test zonotope to halfspace conversion"
   ]
  },
  {
   "cell_type": "code",
   "execution_count": null,
   "metadata": {},
   "outputs": [],
   "source": [
    "buff_obs = Zonotope(buff_obs_c, buff_obs_G)"
   ]
  },
  {
   "cell_type": "code",
   "execution_count": null,
   "metadata": {},
   "outputs": [],
   "source": [
    "A_obs, b_obs = buff_obs.halfspace()"
   ]
  },
  {
   "cell_type": "code",
   "execution_count": null,
   "metadata": {},
   "outputs": [],
   "source": [
    "a = np.array([0,0,1])[:,None]\n",
    "np.kron(np.eye(3),a)"
   ]
  },
  {
   "cell_type": "code",
   "execution_count": null,
   "metadata": {},
   "outputs": [],
   "source": [
    "Z = buff_obstacle\n",
    "c = Z[:,0][:,None]\n",
    "G = Z[:,1:]\n",
    "\n",
    "(dim, n_gen) = G.shape"
   ]
  },
  {
   "cell_type": "code",
   "execution_count": null,
   "metadata": {},
   "outputs": [],
   "source": [
    "#if dim > 1:\n",
    "\n",
    "# Build C matrices\n",
    "#if dim == 2:\n",
    "C = G\n",
    "C = np.vstack((-C[1,:], C[0,:]))# get perpendicular vector"
   ]
  },
  {
   "cell_type": "code",
   "execution_count": null,
   "metadata": {},
   "outputs": [],
   "source": [
    "# if dim == 3:\n",
    "comb = list(itertools.combinations(np.arange(n_gen), dim-1))"
   ]
  },
  {
   "cell_type": "code",
   "execution_count": null,
   "metadata": {},
   "outputs": [],
   "source": [
    "# Normalize normal vectors\n",
    "C = np.divide(C, np.linalg.norm(C, axis=0)).T"
   ]
  },
  {
   "cell_type": "code",
   "execution_count": null,
   "metadata": {},
   "outputs": [],
   "source": [
    "# Compute dPos, dNeg\n",
    "d = C @ c"
   ]
  },
  {
   "cell_type": "code",
   "execution_count": null,
   "metadata": {},
   "outputs": [],
   "source": [
    "A = np.vstack((C, -C))\n",
    "b = np.vstack((d + deltaD, -d + deltaD))"
   ]
  },
  {
   "cell_type": "code",
   "execution_count": null,
   "metadata": {},
   "outputs": [],
   "source": [
    "b"
   ]
  },
  {
   "cell_type": "code",
   "execution_count": null,
   "metadata": {},
   "outputs": [],
   "source": [
    "zero_idx = np.argwhere(np.all(A[...,:]==0, axis=0))"
   ]
  },
  {
   "cell_type": "code",
   "execution_count": null,
   "metadata": {},
   "outputs": [],
   "source": [
    "np.delete(A, zero_idx, axis=1)"
   ]
  },
  {
   "cell_type": "code",
   "execution_count": null,
   "metadata": {},
   "outputs": [],
   "source": []
  }
 ],
 "metadata": {
  "kernelspec": {
   "display_name": "Python 3.9.12 ('planeslam')",
   "language": "python",
   "name": "python3"
  },
  "language_info": {
   "codemirror_mode": {
    "name": "ipython",
    "version": 3
   },
   "file_extension": ".py",
   "mimetype": "text/x-python",
   "name": "python",
   "nbconvert_exporter": "python",
   "pygments_lexer": "ipython3",
   "version": "3.9.12"
  },
  "orig_nbformat": 4,
  "vscode": {
   "interpreter": {
    "hash": "b585e665bce1ccbefa5eda0ece21e432dc86e0e8165acc8779a1295e00a6ba38"
   }
  }
 },
 "nbformat": 4,
 "nbformat_minor": 2
}
