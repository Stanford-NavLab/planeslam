{
 "cells": [
  {
   "cell_type": "markdown",
   "metadata": {},
   "source": [
    "# Test Mesh Simplification"
   ]
  },
  {
   "cell_type": "code",
   "execution_count": null,
   "metadata": {},
   "outputs": [],
   "source": [
    "import numpy as np\n",
    "import os\n",
    "import plotly.graph_objects as go\n",
    "\n",
    "import planeslam.io as io\n",
    "import planeslam.general as general\n",
    "from planeslam.mesh import LidarMesh\n",
    "from planeslam.clustering import cluster_mesh_graph_search, mesh_cluster_pts, find_cluster_boundary\n",
    "\n",
    "%load_ext autoreload\n",
    "%autoreload 2"
   ]
  },
  {
   "cell_type": "code",
   "execution_count": null,
   "metadata": {},
   "outputs": [],
   "source": [
    "binpath = os.path.join(os.getcwd(),'..', 'data', 'airsim', 'blocks_60_samples_loop_closure', 'lidar', 'Drone0')\n",
    "PCs = io.read_lidar_bin(binpath)"
   ]
  },
  {
   "cell_type": "code",
   "execution_count": null,
   "metadata": {},
   "outputs": [],
   "source": [
    "P = PCs[0]\n",
    "\n",
    "# Convert points to ENU\n",
    "P = general.NED_to_ENU(P)"
   ]
  },
  {
   "cell_type": "code",
   "execution_count": null,
   "metadata": {},
   "outputs": [],
   "source": [
    "# Downsample the points\n",
    "P = general.downsample(P, factor=2, axis=0)"
   ]
  },
  {
   "cell_type": "code",
   "execution_count": null,
   "metadata": {},
   "outputs": [],
   "source": [
    "# Plot the scan\n",
    "fig = go.Figure(data=general.pc_plot_trace(P))\n",
    "fig.update_layout(width=1500, height=900, scene=dict(aspectmode='data'))\n",
    "fig.show()"
   ]
  },
  {
   "cell_type": "code",
   "execution_count": null,
   "metadata": {},
   "outputs": [],
   "source": [
    "mesh = LidarMesh(P)\n",
    "mesh.prune(edge_len_lim=10)"
   ]
  },
  {
   "cell_type": "code",
   "execution_count": null,
   "metadata": {},
   "outputs": [],
   "source": [
    "fig = go.Figure(data=mesh.plot_trace())\n",
    "fig.update_layout(width=1500, height=900, scene=dict(aspectmode='data'))\n",
    "fig.show()"
   ]
  },
  {
   "cell_type": "code",
   "execution_count": null,
   "metadata": {},
   "outputs": [],
   "source": [
    "def cluster_mesh_graph_search(mesh, normal_match_thresh=0.866, min_cluster_size=20):\n",
    "    # Compute surface normals\n",
    "    normals = mesh.compute_normals()\n",
    "\n",
    "    # Graph search\n",
    "    clusters = []  # Clusters are idxs of triangles, triangles are idxs of points\n",
    "    # For each cluster, also maintain a polygon representation\n",
    "    cluster_polys = []\n",
    "    to_cluster = set(range(len(mesh.DT.simplices)))\n",
    "\n",
    "    while to_cluster:\n",
    "        root = to_cluster.pop()\n",
    "        cluster_normal = normals[root,:]\n",
    "\n",
    "        cluster = [root]\n",
    "        poly = \n",
    "        search_queue = set(mesh.tri_nbr_dict[root])\n",
    "        search_queue = set([x for x in search_queue if x in to_cluster])  # Don't search nodes that have already been clustered\n",
    "\n",
    "        while search_queue:\n",
    "            i = search_queue.pop()\n",
    "            if np.dot(normals[i,:], cluster_normal) > normal_match_thresh:\n",
    "                # Add node to cluster and remove from to_cluster\n",
    "                cluster.append(i)\n",
    "                to_cluster.remove(i)\n",
    "                # Add its neighbors (that are not already clustered) to the search queue\n",
    "                search_nbrs = mesh.tri_nbr_dict[i].copy()\n",
    "                search_nbrs = [x for x in search_nbrs if x in to_cluster]\n",
    "                search_queue.update(search_nbrs)\n",
    "\n",
    "        if len(cluster) >= min_cluster_size:\n",
    "            clusters.append(cluster)\n",
    "\n",
    "    avg_normals = len(clusters) * [None]\n",
    "    for i, c in enumerate(clusters):\n",
    "        avg_normals[i] = normalize(np.mean(normals[c], axis=0))\n",
    "\n",
    "    return clusters, avg_normals"
   ]
  },
  {
   "cell_type": "code",
   "execution_count": null,
   "metadata": {},
   "outputs": [],
   "source": [
    "# Cluster the mesh and identify boundary/non-boundary points of clusters\n",
    "clusters, avg_normals = cluster_mesh_graph_search(mesh)"
   ]
  },
  {
   "cell_type": "code",
   "execution_count": null,
   "metadata": {},
   "outputs": [],
   "source": [
    "cluster_pts = mesh_cluster_pts(mesh, clusters[0])"
   ]
  },
  {
   "cell_type": "code",
   "execution_count": null,
   "metadata": {},
   "outputs": [],
   "source": [
    "fig = go.Figure(data=general.pc_plot_trace(cluster_pts))\n",
    "fig.update_layout(width=1500, height=900, scene=dict(aspectmode='data', xaxis=dict(visible=False), yaxis=dict(visible=False), zaxis=dict(visible=False)))\n",
    "fig.show()"
   ]
  },
  {
   "cell_type": "code",
   "execution_count": null,
   "metadata": {},
   "outputs": [],
   "source": [
    "bd_idxs = find_cluster_boundary(clusters[0], mesh)\n",
    "bd_pts = mesh.P[bd_idxs,:]"
   ]
  },
  {
   "cell_type": "code",
   "execution_count": null,
   "metadata": {},
   "outputs": [],
   "source": [
    "fig = go.Figure(data=general.pc_plot_trace(bd_pts))\n",
    "fig.update_layout(width=1500, height=900, scene=dict(aspectmode='data', xaxis=dict(visible=False), yaxis=dict(visible=False), zaxis=dict(visible=False)))\n",
    "fig.show()"
   ]
  },
  {
   "cell_type": "code",
   "execution_count": null,
   "metadata": {},
   "outputs": [],
   "source": []
  }
 ],
 "metadata": {
  "kernelspec": {
   "display_name": "Python 3.7.13 ('planeslam')",
   "language": "python",
   "name": "python3"
  },
  "language_info": {
   "codemirror_mode": {
    "name": "ipython",
    "version": 3
   },
   "file_extension": ".py",
   "mimetype": "text/x-python",
   "name": "python",
   "nbconvert_exporter": "python",
   "pygments_lexer": "ipython3",
   "version": "3.7.13"
  },
  "orig_nbformat": 4,
  "vscode": {
   "interpreter": {
    "hash": "cb468a8bbd71ee67ef9f48802575221c6bc0da5f02cb6cb243ccdc58c1f5deea"
   }
  }
 },
 "nbformat": 4,
 "nbformat_minor": 2
}
