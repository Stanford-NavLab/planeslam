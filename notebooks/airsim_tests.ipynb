{
 "cells": [
  {
   "cell_type": "markdown",
   "metadata": {},
   "source": [
    "# Tests on sequences of data from AirSim"
   ]
  },
  {
   "cell_type": "code",
   "execution_count": null,
   "metadata": {},
   "outputs": [],
   "source": [
    "%matplotlib widget\n",
    "import numpy as np\n",
    "import matplotlib.pyplot as plt\n",
    "from matplotlib import cm\n",
    "import os\n",
    "from scipy.spatial.transform import Rotation as R\n",
    "\n",
    "import planeslam.geometry as geometry\n",
    "import planeslam.io as io\n",
    "from planeslam.scanrep import ScanRep, pc_to_scan\n",
    "from planeslam.plane import plane_to_plane_dist, pc_to_planes\n",
    "from planeslam.box import Box\n",
    "from planeslam.rectangle import Rectangle"
   ]
  },
  {
   "cell_type": "markdown",
   "metadata": {},
   "source": [
    "Read in airsim LiDAR and pose data"
   ]
  },
  {
   "cell_type": "code",
   "execution_count": null,
   "metadata": {},
   "outputs": [],
   "source": [
    "# Read in point cloud data\n",
    "binpath = os.path.join(os.getcwd(),'..', 'data', 'airsim', 'blocks_20_samples_1', 'lidar', 'Drone0')\n",
    "PC_data = io.read_lidar_bin(binpath)"
   ]
  },
  {
   "cell_type": "code",
   "execution_count": null,
   "metadata": {},
   "outputs": [],
   "source": [
    "# Read in ground-truth poses (in drone local frame)\n",
    "posepath = os.path.join(os.getcwd(),'..', 'data', 'airsim', 'blocks_20_samples_1', 'poses', 'Drone0')\n",
    "drone_positions, drone_orientations = io.read_poses(posepath)"
   ]
  },
  {
   "cell_type": "markdown",
   "metadata": {},
   "source": [
    "Extract planes for LiDAR scans"
   ]
  },
  {
   "cell_type": "code",
   "execution_count": null,
   "metadata": {},
   "outputs": [],
   "source": [
    "# Extract scans and planesets\n",
    "num_scans = len(PC_data)\n",
    "scans = num_scans * [None]\n",
    "planesets = num_scans * [None]\n",
    "scans_transformed = num_scans * [None]\n",
    "for i in range(num_scans):\n",
    "    # scans[i] = pc_to_scan(PC_data[i])\n",
    "    # r = R.from_quat(drone_orientations[i,:])\n",
    "    # scans[i].transform(r.as_matrix(), drone_positions[i,:])\n",
    "\n",
    "    planesets[i] = pc_to_planes(PC_data[i])"
   ]
  },
  {
   "cell_type": "code",
   "execution_count": null,
   "metadata": {},
   "outputs": [],
   "source": [
    "# Plot scans\n",
    "fig = plt.figure(figsize=(15,10))\n",
    "ax = fig.add_subplot(1, 1, 1, projection='3d')\n",
    "cmap = cm.get_cmap('viridis')\n",
    "cmap_idxs = int(len(cmap.colors) / num_scans) * np.arange(num_scans)\n",
    "colors = np.asarray(cmap.colors)[cmap_idxs,:]\n",
    "for i, s in enumerate(scans):\n",
    "    s.plot(ax, color=colors[i])\n",
    "ax.set_box_aspect((np.ptp(PC_data[0][:,0]), np.ptp(PC_data[0][:,1]), np.ptp(PC_data[0][:,2])))\n",
    "ax.set_xlabel(\"X\")\n",
    "ax.set_ylabel(\"Y\")"
   ]
  },
  {
   "cell_type": "markdown",
   "metadata": {},
   "source": [
    "Merge Scans"
   ]
  },
  {
   "cell_type": "code",
   "execution_count": null,
   "metadata": {},
   "outputs": [],
   "source": [
    "# Plot planesets\n",
    "fig = plt.figure(figsize=(15,10))\n",
    "ax = fig.add_subplot(1, 1, 1, projection='3d')\n",
    "colors = ['r', 'b']\n",
    "for i, planes in enumerate(planesets[0:2]):\n",
    "    for p in planes:\n",
    "        r = R.from_quat(drone_orientations[i,:])\n",
    "        p.transform(r.as_matrix(), drone_positions[i,:])\n",
    "        p.plot(ax, color=colors[i], show_normal=True)\n",
    "ax.set_box_aspect((np.ptp(PC_data[0][:,0]), np.ptp(PC_data[0][:,1]), np.ptp(PC_data[0][:,2])))\n",
    "ax.set_xlabel(\"X\")\n",
    "ax.set_ylabel(\"Y\")"
   ]
  },
  {
   "cell_type": "code",
   "execution_count": null,
   "metadata": {},
   "outputs": [],
   "source": [
    "for i, p in enumerate(planesets[0]):\n",
    "    print(i)\n",
    "    print(\" normal: \", np.round(p.normal, 2))\n",
    "    box, _ = p.to_2D()\n",
    "    print(\" area: \", box.area())\n",
    "    print(\" center: \", p.center)"
   ]
  },
  {
   "cell_type": "code",
   "execution_count": null,
   "metadata": {},
   "outputs": [],
   "source": [
    "r = Rectangle(np.array([[0,0],[1,0],[1,1],[0,1]]))"
   ]
  },
  {
   "cell_type": "code",
   "execution_count": null,
   "metadata": {},
   "outputs": [],
   "source": [
    "def merge_scans(P, Q, norm_thresh=0.1, dist_thresh=5.0):\n",
    "    \"\"\"Merge scans\n",
    "    \n",
    "    Merge scan P into scan Q. (scan = set of planes) \n",
    "\n",
    "    Parameters\n",
    "    ----------\n",
    "    P : list\n",
    "        List of planes\n",
    "    Q : list\n",
    "        List of planes\n",
    "    norm_thresh : float \n",
    "        Correspodence threshold for comparing normal vectors\n",
    "    dist_thesh : float\n",
    "        Correspondence threshold for plane to plane distance\n",
    "    \n",
    "    \"\"\"\n",
    "    merged_planes = []\n",
    "\n",
    "    # Keep track of which faces in each scan have been matched\n",
    "    P_matched = []\n",
    "    Q_matched = []  \n",
    "\n",
    "    fig, ax = plt.subplots(6)\n",
    "    plot_counter = 0\n",
    "\n",
    "    for i, p in enumerate(P):\n",
    "        for j, q in enumerate(Q):\n",
    "            \n",
    "            correspondences = []  # correspondences of planes in scan_2\n",
    "\n",
    "            # Check if 2 planes are approximately coplanar\n",
    "            if np.linalg.norm(p.normal - q.normal) < norm_thresh:\n",
    "                print(\"normal match \", i, j)\n",
    "                # Check plane to plane distance    \n",
    "                if plane_to_plane_dist(p, q) < dist_thresh:\n",
    "                    print(\" p2p dist match\")\n",
    "                    # Check if planes overlap\n",
    "                    # Project q onto p's basis\n",
    "                    q_proj = (np.linalg.inv(p.basis) @ q.vertices.T).T\n",
    "                    p_rect = Rectangle(p.vertices[:,0:2])\n",
    "                    q_rect = Rectangle\n",
    "\n",
    "                    # Plot for debugging\n",
    "                    p_box.plot(ax[plot_counter], color='r'); q_box.plot(ax[plot_counter], color='b')  \n",
    "                    plot_counter += 1  \n",
    "\n",
    "                    if int_box is not None:\n",
    "                        # It's a match! Create merged plane\n",
    "                        print(\"  iou match\")\n",
    "                        \n",
    "                        # scan_1_matched.append(idx_1)\n",
    "                        # scan_2_matched.append(idx_2)\n",
    "\n",
    "                    # Break from inner loop (scan_2)\n",
    "                    break\n",
    "            \n"
   ]
  },
  {
   "cell_type": "code",
   "execution_count": null,
   "metadata": {},
   "outputs": [],
   "source": [
    "np.linalg.inv(planesets[0][3].basis) @ planesets[1][3].vertices.T"
   ]
  },
  {
   "cell_type": "code",
   "execution_count": null,
   "metadata": {},
   "outputs": [],
   "source": [
    "merge_scans(planesets[0], planesets[1])"
   ]
  },
  {
   "cell_type": "code",
   "execution_count": null,
   "metadata": {},
   "outputs": [],
   "source": [
    "def project_plane_to_2D(plane):\n",
    "    \"\"\"Project a 3D plane to 2D\n",
    "    \n",
    "    Project a (rectangularly bounded) plane that exists in 3D into its \n",
    "    2D subspace based on its normal vector.\n",
    "\n",
    "    Returns\n",
    "    -------\n",
    "    np.array (4 x 2)\n",
    "        Vertices in 2D\n",
    "    \n",
    "    \"\"\"\n",
    "    # Change basis to plane's basis\n",
    "    A = np.linalg.inv(plane.basis)\n",
    "    V = (A @ plane.vertices.T).T\n",
    "    return V[:,0:2]\n"
   ]
  },
  {
   "cell_type": "code",
   "execution_count": null,
   "metadata": {},
   "outputs": [],
   "source": [
    "scan_1 = scans[0]\n",
    "scan_2 = scans[1]\n",
    "\n",
    "face_1 = scan_1.faces[0]\n",
    "plane_1 = scan_1.vertices[face_1]\n",
    "centroid_1 = np.mean(plane_1, axis=0)\n",
    "normal_1 = scan_1.normals[0]\n",
    "\n",
    "face_2 = scan_2.faces[0]\n",
    "plane_2 = scan_2.vertices[face_2]\n",
    "centroid_2 = np.mean(plane_2, axis=0)\n",
    "normal_2 = scan_2.normals[0]\n",
    "\n",
    "geometry.plane_to_plane_dist(plane_1, normal_1, plane_2, normal_2)"
   ]
  },
  {
   "cell_type": "code",
   "execution_count": null,
   "metadata": {},
   "outputs": [],
   "source": [
    "def face_correspondences(scan_1, scan_2, norm_thresh=0.1, dist_thresh=1.0):\n",
    "    for idx_1, face_1 in enumerate(scan_1.faces):\n",
    "        # Extract vertices and normal\n",
    "        plane_1 = scan_1.vertices[face_1]\n",
    "        normal_1 = scan_1.normals[idx_1]\n",
    "        for idx_2, face_2 in enumerate(scan_2.faces):\n",
    "            # Extract vertices and normal\n",
    "            plane_2 = scan_2.vertices[face_2]\n",
    "            normal_2 = scan_2.normals[idx_2]\n",
    "            # Check if 2 planes are approximately coplanar\n",
    "            if np.linalg.norm(normal_1 - normal_2) < norm_thresh:\n",
    "                print(\"norm check\")\n",
    "                # Check plane to plane distance\n",
    "                p2p_dist = geometry.plane_to_plane_dist(plane_1, normal_1, plane_2, normal_2)\n",
    "                if p2p_dist < dist_thresh:\n",
    "                    print(\"dist check: \", p2p_dist)\n",
    "                    # TODO: check overlap in plane\n",
    "                    # Create merged plane\n",
    "            "
   ]
  },
  {
   "cell_type": "code",
   "execution_count": null,
   "metadata": {},
   "outputs": [],
   "source": [
    "face_correspondences(scans[0], scans[1])"
   ]
  },
  {
   "cell_type": "code",
   "execution_count": null,
   "metadata": {},
   "outputs": [],
   "source": [
    "fig = plt.figure(figsize=(15,10))\n",
    "ax = fig.add_subplot(1, 1, 1, projection='3d')\n",
    "\n",
    "scans[0].plot(ax, color='b', show_normals=True)\n",
    "scans[1].plot(ax, color='r', show_normals=True)\n",
    "\n",
    "# for idx, face in enumerate(scans[0].faces):\n",
    "#     face_verts = scans[0].vertices[face]\n",
    "#     c = np.mean(face_verts, axis=0)\n",
    "#     n = 10*scans[0].normals[idx]\n",
    "#     ax.quiver(c[0], c[1], c[2], n[0], n[1], n[2], color='b')\n",
    "\n",
    "# for idx, face in enumerate(scans[1].faces):\n",
    "#     face_verts = scans[1].vertices[face]\n",
    "#     c = np.mean(face_verts, axis=0)\n",
    "#     n = 10*scans[0].normals[idx]\n",
    "#     ax.quiver(c[0], c[1], c[2], n[0], n[1], n[2], color='b')\n",
    "\n",
    "ax.set_box_aspect((np.ptp(PC_data[0][:,0]), np.ptp(PC_data[0][:,1]), np.ptp(PC_data[0][:,2])))\n",
    "ax.set_xlabel(\"X\")\n",
    "ax.set_ylabel(\"Y\")"
   ]
  },
  {
   "cell_type": "code",
   "execution_count": null,
   "metadata": {},
   "outputs": [],
   "source": []
  }
 ],
 "metadata": {
  "interpreter": {
   "hash": "f73b47a0533d4f2a2602f733a5154d6b23ac8443ceaa7aba4bc7725174021a2c"
  },
  "kernelspec": {
   "display_name": "Python 3.7.13",
   "language": "python",
   "name": "python3"
  },
  "language_info": {
   "codemirror_mode": {
    "name": "ipython",
    "version": 3
   },
   "file_extension": ".py",
   "mimetype": "text/x-python",
   "name": "python",
   "nbconvert_exporter": "python",
   "pygments_lexer": "ipython3",
   "version": "3.7.13"
  },
  "orig_nbformat": 4
 },
 "nbformat": 4,
 "nbformat_minor": 2
}
