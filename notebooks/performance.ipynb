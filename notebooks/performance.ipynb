{
 "cells": [
  {
   "cell_type": "markdown",
   "metadata": {},
   "source": [
    "# Evaluating Performace of Registration Methods"
   ]
  },
  {
   "cell_type": "code",
   "execution_count": 1,
   "metadata": {},
   "outputs": [],
   "source": [
    "import numpy as np\n",
    "import os\n",
    "\n",
    "import planeslam.io as io\n",
    "from planeslam.geometry.util import quat_to_rot_mat"
   ]
  },
  {
   "cell_type": "markdown",
   "metadata": {},
   "source": [
    "Read in airsim LiDAR and pose data"
   ]
  },
  {
   "cell_type": "code",
   "execution_count": 2,
   "metadata": {},
   "outputs": [],
   "source": [
    "# Read in point cloud data\n",
    "binpath = os.path.join(os.getcwd(),'..', 'data', 'airsim', 'blocks_20_samples_1', 'lidar', 'Drone0')\n",
    "PC_data = io.read_lidar_bin(binpath)"
   ]
  },
  {
   "cell_type": "code",
   "execution_count": 3,
   "metadata": {},
   "outputs": [],
   "source": [
    "# Read in ground-truth poses (in drone local frame)\n",
    "posepath = os.path.join(os.getcwd(),'..', 'data', 'airsim', 'blocks_20_samples_1', 'poses', 'Drone0')\n",
    "drone_positions, drone_orientations = io.read_poses(posepath)"
   ]
  },
  {
   "cell_type": "markdown",
   "metadata": {},
   "source": [
    "Compute the ground truth rotations and transformations"
   ]
  },
  {
   "cell_type": "code",
   "execution_count": 4,
   "metadata": {},
   "outputs": [],
   "source": [
    "# Compute the ground truth rotations\n",
    "gt_R = []\n",
    "for drone_orientation in drone_orientations[1:]:\n",
    "    gt_R.append(quat_to_rot_mat(drone_orientation))\n",
    "\n",
    "# Compute the groud truth translations\n",
    "gt_t = drone_positions[1:] - drone_positions[0]"
   ]
  },
  {
   "cell_type": "markdown",
   "metadata": {},
   "source": [
    "Evaluate the Perfomance of the Registration Methods"
   ]
  },
  {
   "cell_type": "code",
   "execution_count": 5,
   "metadata": {},
   "outputs": [],
   "source": [
    "def get_R_t(filename):\n",
    "    transformations = np.load(os.path.join(os.getcwd(),'registration', filename))\n",
    "    R = transformations[:,:3,:3]\n",
    "    t = transformations[:,:3,3]\n",
    "    return R, t\n",
    "\n",
    "p2p_R, p2p_t = get_R_t('p2p_abs_traj_transformations.npy')\n",
    "p2l_R, p2l_t = get_R_t('p2l_abs_traj_transformations.npy')\n",
    "#l2l_R, l2l_t = get_R_t('l2l_abs_traj_transformations.npy')"
   ]
  },
  {
   "cell_type": "code",
   "execution_count": 6,
   "metadata": {},
   "outputs": [
    {
     "name": "stdout",
     "output_type": "stream",
     "text": [
      "Point-to-Point translational error: 576.6921489844618\n",
      "Point-to-Point rotational error: 3.4281935755668864\n",
      "Point-to-Plane translational error: 303.89834218119904\n",
      "Point-to-Plane rotational error: 0.18804396054093891\n"
     ]
    }
   ],
   "source": [
    "def get_t_error(target_t, pred_t):\n",
    "    t_errors = np.zeros(len(target_t))\n",
    "    for i in range(len(target_t)):\n",
    "        t_errors[i] =  np.linalg.norm(pred_t[i] - target_t[i])\n",
    "    return np.sum(t_errors)\n",
    "\n",
    "def get_R_error(target_R, pred_R):\n",
    "    R_errors = np.zeros(len(target_R))\n",
    "    for i in range(len(target_R)):\n",
    "        R_errors[i] = np.linalg.norm(pred_R[i] @ np.linalg.inv(target_R)[i] - np.eye(3))\n",
    "    return np.sum(R_errors)\n",
    "\n",
    "p2p_t_error = get_t_error(gt_t, p2p_t)\n",
    "p2p_R_error = get_R_error(gt_R, p2p_R)\n",
    "print(f'Point-to-Point translational error: {p2p_t_error}')\n",
    "print(f'Point-to-Point rotational error: {p2p_R_error}')\n",
    "\n",
    "p2l_t_error = get_t_error(gt_t, p2l_t)\n",
    "p2l_R_error = get_R_error(gt_R, p2l_R)\n",
    "print(f'Point-to-Plane translational error: {p2l_t_error}')\n",
    "print(f'Point-to-Plane rotational error: {p2l_R_error}')\n",
    "\n",
    "#l2l_t_error = get_t_error(gt_t, l2l_t)\n",
    "#l2l_R_error = get_R_error(gt_R, l2l_R)\n",
    "#print(f'Plane-to-Plane translational error: {l2l_t_error}')\n",
    "#print(f'Plane-to-Plane rotational error: {l2l_R_error}')"
   ]
  }
 ],
 "metadata": {
  "kernelspec": {
   "display_name": "Python 3.7.13 ('planeslam')",
   "language": "python",
   "name": "python3"
  },
  "language_info": {
   "codemirror_mode": {
    "name": "ipython",
    "version": 3
   },
   "file_extension": ".py",
   "mimetype": "text/x-python",
   "name": "python",
   "nbconvert_exporter": "python",
   "pygments_lexer": "ipython3",
   "version": "3.7.13"
  },
  "orig_nbformat": 4,
  "vscode": {
   "interpreter": {
    "hash": "bcf8be14bf9d3e4d3351247134c9a8ce7cbafaaf6787875f555e85342c7d0acf"
   }
  }
 },
 "nbformat": 4,
 "nbformat_minor": 2
}
