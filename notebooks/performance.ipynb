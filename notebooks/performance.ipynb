{
 "cells": [
  {
   "cell_type": "markdown",
   "metadata": {},
   "source": [
    "# Evaluating Performace of Registration Methods"
   ]
  },
  {
   "cell_type": "code",
   "execution_count": 1,
   "metadata": {},
   "outputs": [],
   "source": [
    "import numpy as np\n",
    "import os\n",
    "\n",
    "import planeslam.io as io\n",
    "from planeslam.geometry.util import quat_to_rot_mat"
   ]
  },
  {
   "cell_type": "markdown",
   "metadata": {},
   "source": [
    "Read in airsim LiDAR and pose data"
   ]
  },
  {
   "cell_type": "code",
   "execution_count": 2,
   "metadata": {},
   "outputs": [],
   "source": [
    "# Read in point cloud data\n",
    "binpath = os.path.join(os.getcwd(),'..', 'data', 'airsim', 'blocks_20_samples_1', 'lidar', 'Drone0')\n",
    "PC_data = io.read_lidar_bin(binpath)"
   ]
  },
  {
   "cell_type": "code",
   "execution_count": 3,
   "metadata": {},
   "outputs": [],
   "source": [
    "# Read in ground-truth poses (in drone local frame)\n",
    "posepath = os.path.join(os.getcwd(),'..', 'data', 'airsim', 'blocks_20_samples_1', 'poses', 'Drone0')\n",
    "drone_positions, drone_orientations = io.read_poses(posepath)"
   ]
  },
  {
   "cell_type": "markdown",
   "metadata": {},
   "source": [
    "Compute the ground truth rotations and transformations"
   ]
  },
  {
   "cell_type": "code",
   "execution_count": 4,
   "metadata": {},
   "outputs": [],
   "source": [
    "# Compute the ground truth rotations\n",
    "gt_R = []\n",
    "for drone_orientation in drone_orientations[1:]:\n",
    "    gt_R.append(quat_to_rot_mat(drone_orientation))\n",
    "\n",
    "# Compute the groud truth translations\n",
    "gt_t = drone_positions[1:] - drone_positions[0]"
   ]
  },
  {
   "cell_type": "markdown",
   "metadata": {},
   "source": [
    "Evaluate the Perfomance of the Registration Methods"
   ]
  },
  {
   "cell_type": "code",
   "execution_count": 5,
   "metadata": {},
   "outputs": [],
   "source": [
    "def get_R_t(filename):\n",
    "    transformations = np.load(os.path.join(os.getcwd(),'registration', filename))\n",
    "    R = transformations[:,:3,:3]\n",
    "    t = transformations[:,:3,3]\n",
    "    return R, t\n",
    "\n",
    "p2p_R, p2p_t = get_R_t('p2p_abs_traj_transformations.npy')\n",
    "p2l_R, p2l_t = get_R_t('p2l_abs_traj_transformations.npy')"
   ]
  },
  {
   "cell_type": "code",
   "execution_count": 6,
   "metadata": {},
   "outputs": [
    {
     "name": "stdout",
     "output_type": "stream",
     "text": [
      "148.27796578003853\n",
      "0.9983505135018088\n",
      "83.16566965645953\n",
      "0.04508361224573657\n"
     ]
    }
   ],
   "source": [
    "def get_t_error(target_t, pred_t):\n",
    "    return np.linalg.norm(pred_t - target_t)\n",
    "\n",
    "def get_R_error(target_R, pred_R):\n",
    "    return np.linalg.norm(pred_R @ np.linalg.inv(target_R) - np.eye(3))\n",
    "\n",
    "p2p_t_error = get_t_error(gt_t, p2p_t)\n",
    "p2p_R_error = get_R_error(gt_R, p2p_R)\n",
    "print(p2p_t_error)\n",
    "print(p2p_R_error)\n",
    "\n",
    "p2l_t_error = get_t_error(gt_t, p2l_t)\n",
    "p2l_R_error = get_R_error(gt_R, p2l_R)\n",
    "print(p2l_t_error)\n",
    "print(p2l_R_error)"
   ]
  }
 ],
 "metadata": {
  "kernelspec": {
   "display_name": "Python 3.7.13 ('planeslam')",
   "language": "python",
   "name": "python3"
  },
  "language_info": {
   "codemirror_mode": {
    "name": "ipython",
    "version": 3
   },
   "file_extension": ".py",
   "mimetype": "text/x-python",
   "name": "python",
   "nbconvert_exporter": "python",
   "pygments_lexer": "ipython3",
   "version": "3.7.13"
  },
  "orig_nbformat": 4,
  "vscode": {
   "interpreter": {
    "hash": "bcf8be14bf9d3e4d3351247134c9a8ce7cbafaaf6787875f555e85342c7d0acf"
   }
  }
 },
 "nbformat": 4,
 "nbformat_minor": 2
}
