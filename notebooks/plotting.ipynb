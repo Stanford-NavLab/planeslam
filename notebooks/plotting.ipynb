{
 "cells": [
  {
   "cell_type": "markdown",
   "metadata": {},
   "source": [
    "# Plotting code for making figures"
   ]
  },
  {
   "cell_type": "code",
   "execution_count": null,
   "metadata": {},
   "outputs": [],
   "source": [
    "%matplotlib widget\n",
    "import numpy as np\n",
    "import matplotlib.pyplot as plt\n",
    "from matplotlib import cm\n",
    "import os\n",
    "import time\n",
    "import open3d as o3d\n",
    "import plotly.graph_objects as go\n",
    "\n",
    "import planeslam.general as general\n",
    "from planeslam.mesh import LidarMesh\n",
    "from planeslam.scan import Scan\n",
    "from planeslam.clustering import cluster_mesh_graph_search, plot_clusters\n",
    "from planeslam.extraction import scan_from_clusters\n",
    "from planeslam.scan import pc_to_scan\n",
    "import planeslam.io as io\n",
    "\n",
    "%load_ext autoreload\n",
    "%autoreload 2\n",
    "%load_ext line_profiler"
   ]
  },
  {
   "cell_type": "markdown",
   "metadata": {},
   "source": [
    "Some example data to plot"
   ]
  },
  {
   "cell_type": "code",
   "execution_count": null,
   "metadata": {},
   "outputs": [],
   "source": [
    "binpath = os.path.join(os.getcwd(),'..', 'data', 'airsim', 'blocks_60_samples_loop_closure', 'lidar', 'Drone0')\n",
    "PCs = io.read_lidar_bin(binpath)"
   ]
  },
  {
   "cell_type": "code",
   "execution_count": null,
   "metadata": {},
   "outputs": [],
   "source": [
    "P = PCs[7]\n",
    "\n",
    "# Convert points to ENU\n",
    "P = general.NED_to_ENU(P)"
   ]
  },
  {
   "cell_type": "code",
   "execution_count": null,
   "metadata": {},
   "outputs": [],
   "source": [
    "scan = pc_to_scan(P)"
   ]
  },
  {
   "cell_type": "markdown",
   "metadata": {},
   "source": [
    "Plot without axes/grid"
   ]
  },
  {
   "cell_type": "code",
   "execution_count": null,
   "metadata": {},
   "outputs": [],
   "source": [
    "fig = go.Figure(data=scan.plot_trace())\n",
    "fig.update_layout(width=1500, height=900, scene=dict(aspectmode='data', xaxis=dict(visible=False), yaxis=dict(visible=False), zaxis=dict(visible=False)))\n",
    "fig.show()"
   ]
  },
  {
   "cell_type": "markdown",
   "metadata": {},
   "source": [
    "2D trajectory plot"
   ]
  },
  {
   "cell_type": "code",
   "execution_count": null,
   "metadata": {},
   "outputs": [],
   "source": [
    "gt_traj_trace_2d = go.Scatter(x=rover_positions[:,0], y=rover_positions[:,1], mode='lines+markers',\n",
    "    marker=dict(size=5), hovertext=np.arange(len(rover_positions)))\n",
    "gt_traj_trace_2d.name = \"Ground-truth\"\n",
    "est_traj_trace_2d = go.Scatter(x=positions[:,0], y=positions[:,1], mode='lines+markers',\n",
    "    marker=dict(size=5), hovertext=np.arange(len(positions)))\n",
    "est_traj_trace_2d.name = \"Estimated\"\n",
    "fig = go.Figure(data=[gt_traj_trace_2d, est_traj_trace_2d])\n",
    "fig.update_layout(width=1500, height=600, scene=dict(aspectmode='data'),\n",
    "    legend=dict(yanchor=\"top\", y=0.99, xanchor=\"left\", x=0.01))\n",
    "fig.show()"
   ]
  },
  {
   "cell_type": "markdown",
   "metadata": {},
   "source": [
    "Fix camera angle"
   ]
  },
  {
   "cell_type": "code",
   "execution_count": null,
   "metadata": {},
   "outputs": [],
   "source": [
    "camera = dict(\n",
    "    up=dict(x=0, y=0, z=1),\n",
    "    center=dict(x=0, y=0, z=0),\n",
    "    eye=dict(x=0, y=-1.75, z=1.75)\n",
    ")\n",
    "\n",
    "fig = go.Figure(data=merged.plot_trace(colors=['blue'])+[gt_traj_trace])\n",
    "fig.update_layout(width=1500, height=900, scene=dict(aspectmode='data', xaxis=dict(showticklabels=False, title=dict(text='')), \n",
    "    yaxis=dict(showticklabels=False, title=dict(text='')), zaxis=dict(showticklabels=False, title=dict(text=''))),\n",
    "    scene_camera=camera)\n",
    "fig.show()"
   ]
  },
  {
   "cell_type": "markdown",
   "metadata": {},
   "source": [
    "TODO: export vector images\n",
    "https://plotly.com/python/static-image-export/"
   ]
  },
  {
   "cell_type": "code",
   "execution_count": null,
   "metadata": {},
   "outputs": [],
   "source": [
    "from planeslam.geometry.plane import BoundedPlane"
   ]
  },
  {
   "cell_type": "code",
   "execution_count": null,
   "metadata": {},
   "outputs": [],
   "source": [
    "B = np.array([[1, 0, 0],\n",
    "              [0, 1, 0],\n",
    "              [0, 0, 1]])"
   ]
  },
  {
   "cell_type": "code",
   "execution_count": null,
   "metadata": {},
   "outputs": [],
   "source": [
    "from scipy.spatial.transform import Rotation as R\n",
    "\n",
    "r = R.from_euler('xy', [30, 45], degrees=True)\n",
    "B = r.as_matrix()"
   ]
  },
  {
   "cell_type": "code",
   "execution_count": null,
   "metadata": {},
   "outputs": [],
   "source": [
    "B"
   ]
  },
  {
   "cell_type": "code",
   "execution_count": null,
   "metadata": {},
   "outputs": [],
   "source": [
    "V = np.array([-B[:,0] - B[:,1], \n",
    "               B[:,0] - B[:,1],\n",
    "               B[:,0] + B[:,1],\n",
    "              -B[:,0] + B[:,1]])\n",
    "p = BoundedPlane(V)"
   ]
  },
  {
   "cell_type": "code",
   "execution_count": null,
   "metadata": {},
   "outputs": [],
   "source": [
    "cone = go.Cone(x=[B[0,2]], y=[B[1,2]], z=[B[2,2]], u=[B[0,2]], v=[B[1,2]], w=[0.4*B[2,2]], colorscale=[[0, 'rgb(0,0,0)'], [1, 'rgb(0,0,0)']])\n",
    "lines = go.Scatter3d(x=[0,B[0,0],None,0,B[0,1],None,0,B[0,2]], y=[0,B[1,0],None,0,B[1,1],None,0,B[1,2]], z=[0,B[2,0],None,0,B[2,1],None,0,B[2,2]], \n",
    "    mode=\"lines\", line=dict(color=\"black\",width=5), showlegend=False)\n",
    "\n",
    "fig = go.Figure(data=p.plot_trace() + [lines])\n",
    "fig.update_layout(width=1500, height=900, scene=dict(aspectmode='data', \n",
    "    xaxis=dict(visible=False), yaxis=dict(visible=False), zaxis=dict(visible=False)))\n",
    "fig.show()"
   ]
  },
  {
   "cell_type": "code",
   "execution_count": null,
   "metadata": {},
   "outputs": [],
   "source": []
  }
 ],
 "metadata": {
  "kernelspec": {
   "display_name": "Python 3.7.13 ('planeslam')",
   "language": "python",
   "name": "python3"
  },
  "language_info": {
   "codemirror_mode": {
    "name": "ipython",
    "version": 3
   },
   "file_extension": ".py",
   "mimetype": "text/x-python",
   "name": "python",
   "nbconvert_exporter": "python",
   "pygments_lexer": "ipython3",
   "version": "3.7.13"
  },
  "orig_nbformat": 4,
  "vscode": {
   "interpreter": {
    "hash": "cb468a8bbd71ee67ef9f48802575221c6bc0da5f02cb6cb243ccdc58c1f5deea"
   }
  }
 },
 "nbformat": 4,
 "nbformat_minor": 2
}
