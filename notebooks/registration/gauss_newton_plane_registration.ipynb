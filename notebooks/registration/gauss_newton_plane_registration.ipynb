{
 "cells": [
  {
   "cell_type": "markdown",
   "metadata": {},
   "source": [
    "# Test Gauss-Newton plane-based registration"
   ]
  },
  {
   "cell_type": "code",
   "execution_count": null,
   "metadata": {},
   "outputs": [],
   "source": [
    "%matplotlib widget\n",
    "import numpy as np\n",
    "import matplotlib.pyplot as plt\n",
    "import os\n",
    "\n",
    "import planeslam.io as io\n",
    "from planeslam.general import plot_3D_setup, color_legend\n",
    "from planeslam.scan import pc_to_scan\n",
    "from planeslam.registration import extract_corresponding_features, get_correspondences, residual, jacobian\n",
    "\n",
    "%load_ext autoreload\n",
    "%autoreload 2"
   ]
  },
  {
   "cell_type": "markdown",
   "metadata": {},
   "source": [
    "Read in airsim LiDAR and pose data"
   ]
  },
  {
   "cell_type": "code",
   "execution_count": null,
   "metadata": {},
   "outputs": [],
   "source": [
    "# Read in point cloud data\n",
    "binpath = os.path.join(os.getcwd(), '..', '..', 'data', 'airsim', 'blocks_20_samples_1', 'lidar', 'Drone0')\n",
    "PC_data = io.read_lidar_bin(binpath)"
   ]
  },
  {
   "cell_type": "code",
   "execution_count": null,
   "metadata": {},
   "outputs": [],
   "source": [
    "# Read in ground-truth poses (in drone local frame)\n",
    "posepath = os.path.join(os.getcwd(), '..', '..', 'data', 'airsim', 'blocks_20_samples_1', 'poses', 'Drone0')\n",
    "drone_positions, drone_orientations = io.read_poses(posepath)"
   ]
  },
  {
   "cell_type": "markdown",
   "metadata": {},
   "source": [
    "Extract planes "
   ]
  },
  {
   "cell_type": "code",
   "execution_count": null,
   "metadata": {},
   "outputs": [],
   "source": [
    "num_scans = len(PC_data)\n",
    "scans = num_scans * [None]\n",
    "scans_transformed = num_scans * [None]\n",
    "for i in range(num_scans):\n",
    "    scans[i] = pc_to_scan(PC_data[i])"
   ]
  },
  {
   "cell_type": "markdown",
   "metadata": {},
   "source": [
    "Get correspondences"
   ]
  },
  {
   "cell_type": "code",
   "execution_count": null,
   "metadata": {},
   "outputs": [],
   "source": [
    "idx_1 = 7\n",
    "idx_2 = 8\n",
    "\n",
    "# Plot 2 scans\n",
    "fig = plt.figure(figsize=(15,7))\n",
    "ax1 = fig.add_subplot(1, 2, 1, projection='3d')\n",
    "ax2 = fig.add_subplot(1, 2, 2, projection='3d')\n",
    "\n",
    "ax1.set_box_aspect((np.ptp(PC_data[0][:,0]), np.ptp(PC_data[0][:,1]), np.ptp(PC_data[0][:,2])))\n",
    "ax2.set_box_aspect((np.ptp(PC_data[0][:,0]), np.ptp(PC_data[0][:,1]), np.ptp(PC_data[0][:,2])))\n",
    "ax1.set_xlabel(\"X\")\n",
    "ax1.set_ylabel(\"Y\")\n",
    "ax2.set_xlabel(\"X\")\n",
    "ax2.set_ylabel(\"Y\")\n",
    "\n",
    "scans[idx_1].plot(ax1, show_normals=True)\n",
    "scans[idx_2].plot(ax2, show_normals=True)\n",
    "\n",
    "# Color legend\n",
    "num_colors = max([len(s.planes) for s in scans[0:2]])\n",
    "color_legend(ax1, num_colors)\n",
    "color_legend(ax2, num_colors)"
   ]
  },
  {
   "cell_type": "code",
   "execution_count": null,
   "metadata": {},
   "outputs": [],
   "source": [
    "# Extract normals and distances\n",
    "# Use idx_2 as source and idx_1 as target\n",
    "#correspondences = get_correspondences(scans[idx_2], scans[idx_1])\n",
    "correspondences = [(0,0), (1,1), (2,3), (3,4)]\n",
    "n_s, d_s, n_t, d_t = extract_corresponding_features(scans[idx_2], scans[idx_1], correspondences)"
   ]
  },
  {
   "cell_type": "code",
   "execution_count": null,
   "metadata": {},
   "outputs": [],
   "source": [
    "q = np.array([[     4.865],\n",
    "        [     0.006],\n",
    "        [    -0.015],\n",
    "        [    17.059],\n",
    "        [     7.844],\n",
    "        [     1.633]])\n",
    "\n",
    "r, n_q = residual(n_s, d_s, n_t, d_t, q)\n",
    "J = jacobian(n_s, n_q)\n",
    "\n",
    "np.set_printoptions(precision=2)\n",
    "J"
   ]
  },
  {
   "cell_type": "markdown",
   "metadata": {},
   "source": [
    "Test Gauss-Newton registration"
   ]
  },
  {
   "cell_type": "code",
   "execution_count": null,
   "metadata": {},
   "outputs": [],
   "source": [
    "# Initial transformation\n",
    "t = np.array([0, 1, 0])[:,None]\n",
    "u = np.array([1, 0, 0])[:,None]\n",
    "theta = 0.1\n",
    "#q = np.vstack((t, theta*u))\n",
    "q = np.random.randn(6,1)\n",
    "\n",
    "# Gauss-Newton\n",
    "n_iters = 10\n",
    "lmbda = 1e-8\n",
    "mu = 5e-1\n",
    "\n",
    "for i in range(n_iters):\n",
    "    r, n_q = residual(n_s, d_s, n_t, d_t, q)\n",
    "    print(\"loss: \", np.linalg.norm(r)**2)\n",
    "    J = jacobian(n_s, n_q)\n",
    "    q = q + mu * np.linalg.inv(J.T @ J + lmbda * np.eye(6)) @ J.T @ r"
   ]
  },
  {
   "cell_type": "code",
   "execution_count": null,
   "metadata": {},
   "outputs": [],
   "source": [
    "q"
   ]
  },
  {
   "cell_type": "code",
   "execution_count": null,
   "metadata": {},
   "outputs": [],
   "source": [
    "# Extract R and t from q\n",
    "#t_est = q[:3]\n",
    "t_est = np.zeros((3,1))\n",
    "R_est = expmap(q[3:].flatten())\n",
    "\n",
    "source_transformed = scans[0]\n",
    "source_transformed.transform(R_est, t_est.flatten())\n",
    "target = scans[1]\n",
    "\n",
    "ax = plot_3D_setup(PC_data[0])\n",
    "\n",
    "source_transformed.plot(ax, show_normals=True)\n",
    "target.plot(ax, show_normals=True)\n"
   ]
  },
  {
   "cell_type": "markdown",
   "metadata": {},
   "source": [
    "Test with two planes"
   ]
  },
  {
   "cell_type": "code",
   "execution_count": null,
   "metadata": {},
   "outputs": [],
   "source": [
    "from planeslam.geometry.plane import BoundedPlane\n",
    "from planeslam.registration import so3_expmap, se3_expmap\n",
    "from planeslam.scan import Scan\n",
    "import copy\n",
    "\n",
    "V1 = np.array([[-1, 1, -1],\n",
    "              [1, 1, -1],\n",
    "              [1, 1, 1],\n",
    "              [-1, 1, 1]])\n",
    "V2 = np.array([[-1, -1, -1],\n",
    "              [-1, 1, -1],\n",
    "              [-1, 1, 1],\n",
    "              [-1, -1, 1]])\n",
    "P = Scan([BoundedPlane(V1), BoundedPlane(V2)])\n",
    "\n",
    "# Ground-truth transformation\n",
    "t = np.array([0, -0.5, 0])[:,None]\n",
    "u = np.array([0, 1, 0])[:,None]\n",
    "theta = np.pi/12\n",
    "q = np.vstack((t, theta*u))\n",
    "\n",
    "R = so3_expmap(q[3:].flatten())\n",
    "\n",
    "print(\"t: \", t)\n",
    "print(\"R: \", R)"
   ]
  },
  {
   "cell_type": "code",
   "execution_count": null,
   "metadata": {},
   "outputs": [],
   "source": [
    "# P is source, Q is target\n",
    "Q = copy.deepcopy(P)\n",
    "Q.transform(R, t.flatten())"
   ]
  },
  {
   "cell_type": "code",
   "execution_count": null,
   "metadata": {},
   "outputs": [],
   "source": [
    "ax = plot_3D_setup()\n",
    "P.plot(ax, color='b')\n",
    "Q.plot(ax, color='r')"
   ]
  },
  {
   "cell_type": "code",
   "execution_count": null,
   "metadata": {},
   "outputs": [],
   "source": [
    "# n_s = P.normal \n",
    "# d_s = np.dot(P.normal.flatten(), P.center)\n",
    "# n_t = Q.normal \n",
    "# d_t = np.dot(Q.normal.flatten(), Q.center)\n",
    "correspondences = [(0,0), (1,1)]\n",
    "n_s, d_s, n_t, d_t = extract_corresponding_features(P, Q, correspondences)"
   ]
  },
  {
   "cell_type": "code",
   "execution_count": null,
   "metadata": {},
   "outputs": [],
   "source": [
    "# Initial transformation\n",
    "# t = np.array([0, 1, 0])[:,None]\n",
    "# u = np.array([1, 0, 0])[:,None]\n",
    "# theta = 0.1\n",
    "# q = np.vstack((t, theta*u))\n",
    "T = np.eye(4)\n",
    "\n",
    "# Gauss-Newton\n",
    "n_iters = 20\n",
    "lmbda = 1e-8\n",
    "mu = 0.5\n",
    "\n",
    "for i in range(n_iters):\n",
    "    r, n_q = residual(n_s, d_s, n_t, d_t, T)\n",
    "    print(\"loss: \", np.linalg.norm(r)**2)\n",
    "    J = jacobian(n_s, n_q)\n",
    "    dv = - mu * np.linalg.inv(J.T @ J + lmbda*np.eye(6)) @ J.T @ r\n",
    "    T = se3_expmap(dv.flatten()) @ T"
   ]
  },
  {
   "cell_type": "code",
   "execution_count": null,
   "metadata": {},
   "outputs": [],
   "source": [
    "# Extract R and t from q\n",
    "t_est = q[:3]\n",
    "R_est = expmap(q[3:].flatten())\n",
    "print(\"t_est: \", t_est)\n",
    "print(\"R_est: \", R_est)\n",
    "\n",
    "# Apply transformation to source\n",
    "P_T = copy.copy(P)\n",
    "P_T.transform(R_est, t_est.flatten())"
   ]
  },
  {
   "cell_type": "code",
   "execution_count": null,
   "metadata": {},
   "outputs": [],
   "source": [
    "plot_P = np.vstack((np.eye(3), -np.eye(3)))\n",
    "ax = plot_3D_setup(P=plot_P)\n",
    "P_T.plot(ax, color='b')\n",
    "Q.plot(ax, color='r')"
   ]
  },
  {
   "cell_type": "markdown",
   "metadata": {},
   "source": [
    "Test with R as state and updating R thru exponential map"
   ]
  },
  {
   "cell_type": "code",
   "execution_count": null,
   "metadata": {},
   "outputs": [],
   "source": [
    "from planeslam.geometry.plane import BoundedPlane\n",
    "from planeslam.registration import expmap\n",
    "from planeslam.scan import Scan\n",
    "import copy\n",
    "\n",
    "V1 = np.array([[-1, 1, -1],\n",
    "              [1, 1, -1],\n",
    "              [1, 1, 1],\n",
    "              [-1, 1, 1]])\n",
    "V2 = np.array([[-1, -1, -1],\n",
    "              [-1, 1, -1],\n",
    "              [-1, 1, 1],\n",
    "              [-1, -1, 1]])\n",
    "P = Scan([BoundedPlane(V1), BoundedPlane(V2)])\n",
    "\n",
    "# Ground-truth transformation\n",
    "t = np.array([0, -0.5, 0])[:,None]\n",
    "u = np.array([0, 1, 0])[:,None]\n",
    "theta = np.pi/12\n",
    "q = np.vstack((t, theta*u))\n",
    "\n",
    "R = expmap(q[3:].flatten())\n",
    "\n",
    "print(\"t: \", t)\n",
    "print(\"R: \", R)\n",
    "\n",
    "# P is source, Q is target\n",
    "Q = copy.deepcopy(P)\n",
    "Q.transform(R, t.flatten())\n",
    "\n",
    "correspondences = [(0,0), (1,1)]\n",
    "n_s, d_s, n_t, d_t = extract_corresponding_features(P, Q, correspondences)"
   ]
  },
  {
   "cell_type": "code",
   "execution_count": null,
   "metadata": {},
   "outputs": [],
   "source": [
    "# Initial transformation\n",
    "t0 = np.array([0, 0.1, 0])[:,None]\n",
    "R0 = np.eye(3)\n",
    "\n",
    "# Gauss-Newton\n",
    "n_iters = 5\n",
    "lmbda = 1e-8\n",
    "\n",
    "for i in range(n_iters):\n",
    "    r, n_q = residual(n_s, d_s, n_t, d_t, R0, t0)\n",
    "    J = jacobian(n_s, n_q)\n",
    "    dq = -np.linalg.inv(J.T @ J + lmbda * np.eye(6)) @ J.T @ r\n",
    "    print(r)\n",
    "    t0 = t0 + dq[:3]\n",
    "    R0 = expmap(dq[3:].flatten()) @ R0\n",
    "\n",
    "print(\"t_est: \", t0)\n",
    "print(\"R_est: \", R0)"
   ]
  },
  {
   "cell_type": "code",
   "execution_count": null,
   "metadata": {},
   "outputs": [],
   "source": []
  }
 ],
 "metadata": {
  "interpreter": {
   "hash": "b585e665bce1ccbefa5eda0ece21e432dc86e0e8165acc8779a1295e00a6ba38"
  },
  "kernelspec": {
   "display_name": "Python 3.7.13 ('planeslam')",
   "language": "python",
   "name": "python3"
  },
  "language_info": {
   "codemirror_mode": {
    "name": "ipython",
    "version": 3
   },
   "file_extension": ".py",
   "mimetype": "text/x-python",
   "name": "python",
   "nbconvert_exporter": "python",
   "pygments_lexer": "ipython3",
   "version": "3.7.13"
  },
  "orig_nbformat": 4
 },
 "nbformat": 4,
 "nbformat_minor": 2
}
