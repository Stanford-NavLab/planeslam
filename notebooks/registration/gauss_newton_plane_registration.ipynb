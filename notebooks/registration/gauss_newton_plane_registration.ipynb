{
 "cells": [
  {
   "cell_type": "markdown",
   "metadata": {},
   "source": [
    "# Test Gauss-Newton plane-based registration"
   ]
  },
  {
   "cell_type": "code",
   "execution_count": null,
   "metadata": {},
   "outputs": [],
   "source": [
    "%matplotlib widget\n",
    "import numpy as np\n",
    "import matplotlib.pyplot as plt\n",
    "import os\n",
    "\n",
    "import planeslam.io as io\n",
    "from planeslam.general import plot_3D_setup, color_legend\n",
    "from planeslam.scan import pc_to_scan\n",
    "from planeslam.registration import extract_corresponding_features, get_correspondences, residual, jacobian, so3_expmap, se3_expmap\n",
    "from planeslam.geometry.util import skew\n",
    "\n",
    "os.environ['KMP_DUPLICATE_LIB_OK']='True'\n",
    "\n",
    "%load_ext autoreload\n",
    "%autoreload 2"
   ]
  },
  {
   "cell_type": "code",
   "execution_count": null,
   "metadata": {},
   "outputs": [],
   "source": [
    "w = np.array([1,0,0])\n",
    "so3_expmap(w)"
   ]
  },
  {
   "cell_type": "markdown",
   "metadata": {},
   "source": [
    "Read in airsim LiDAR and pose data"
   ]
  },
  {
   "cell_type": "code",
   "execution_count": null,
   "metadata": {},
   "outputs": [],
   "source": [
    "# Read in point cloud data\n",
    "binpath = os.path.join(os.getcwd(), '..', '..', 'data', 'airsim', 'blocks_20_samples_1', 'lidar', 'Drone0')\n",
    "PC_data = io.read_lidar_bin(binpath)"
   ]
  },
  {
   "cell_type": "code",
   "execution_count": null,
   "metadata": {},
   "outputs": [],
   "source": [
    "# Read in ground-truth poses (in drone local frame)\n",
    "posepath = os.path.join(os.getcwd(), '..', '..', 'data', 'airsim', 'blocks_20_samples_1', 'poses', 'Drone0')\n",
    "drone_positions, drone_orientations = io.read_poses(posepath)"
   ]
  },
  {
   "cell_type": "markdown",
   "metadata": {},
   "source": [
    "Extract planes "
   ]
  },
  {
   "cell_type": "code",
   "execution_count": null,
   "metadata": {},
   "outputs": [],
   "source": [
    "num_scans = len(PC_data)\n",
    "scans = num_scans * [None]\n",
    "scans_transformed = num_scans * [None]\n",
    "for i in range(num_scans):\n",
    "    scans[i] = pc_to_scan(PC_data[i])"
   ]
  },
  {
   "cell_type": "markdown",
   "metadata": {},
   "source": [
    "Get correspondences"
   ]
  },
  {
   "cell_type": "code",
   "execution_count": null,
   "metadata": {},
   "outputs": [],
   "source": [
    "idx_1 = 7\n",
    "idx_2 = 8\n",
    "\n",
    "# Plot 2 scans\n",
    "fig = plt.figure(figsize=(15,7))\n",
    "ax1 = fig.add_subplot(1, 2, 1, projection='3d')\n",
    "ax2 = fig.add_subplot(1, 2, 2, projection='3d')\n",
    "\n",
    "ax1.set_box_aspect((np.ptp(PC_data[0][:,0]), np.ptp(PC_data[0][:,1]), np.ptp(PC_data[0][:,2])))\n",
    "ax2.set_box_aspect((np.ptp(PC_data[0][:,0]), np.ptp(PC_data[0][:,1]), np.ptp(PC_data[0][:,2])))\n",
    "ax1.set_xlabel(\"X\")\n",
    "ax1.set_ylabel(\"Y\")\n",
    "ax2.set_xlabel(\"X\")\n",
    "ax2.set_ylabel(\"Y\")\n",
    "\n",
    "scans[idx_1].plot(ax1, show_normals=True)\n",
    "scans[idx_2].plot(ax2, show_normals=True)\n",
    "\n",
    "# Color legend\n",
    "num_colors = max([len(s.planes) for s in scans[0:2]])\n",
    "color_legend(ax1, num_colors)\n",
    "color_legend(ax2, num_colors)"
   ]
  },
  {
   "cell_type": "code",
   "execution_count": null,
   "metadata": {},
   "outputs": [],
   "source": [
    "# Extract normals and distances\n",
    "# Use idx_2 as source and idx_1 as target\n",
    "correspondences = get_correspondences(scans[idx_2], scans[idx_1])\n",
    "#correspondences = [(0,0), (1,1), (2,3), (3,4)]\n",
    "n_s, d_s, n_t, d_t = extract_corresponding_features(scans[idx_2], scans[idx_1], correspondences)"
   ]
  },
  {
   "cell_type": "code",
   "execution_count": null,
   "metadata": {},
   "outputs": [],
   "source": [
    "correspondences"
   ]
  },
  {
   "cell_type": "code",
   "execution_count": null,
   "metadata": {},
   "outputs": [],
   "source": [
    "from planeslam.geometry.util import quat_to_rot_mat\n",
    "\n",
    "R_1 = quat_to_rot_mat(drone_orientations[idx_1])\n",
    "R_2 = quat_to_rot_mat(drone_orientations[idx_2])\n",
    "R_gt = R_2 @ R_1.T\n",
    "\n",
    "t_gt = drone_positions[idx_2] - drone_positions[idx_1]"
   ]
  },
  {
   "cell_type": "code",
   "execution_count": null,
   "metadata": {},
   "outputs": [],
   "source": [
    "R_gt"
   ]
  },
  {
   "cell_type": "markdown",
   "metadata": {},
   "source": [
    "SO(3) optimization"
   ]
  },
  {
   "cell_type": "code",
   "execution_count": null,
   "metadata": {},
   "outputs": [],
   "source": [
    "def so3_residual(R, n_s, n_t):\n",
    "    n_q = (R @ n_s.reshape((3, -1), order='F')).reshape((-1, 1), order='F')\n",
    "    return n_q - n_t, n_q\n",
    "\n",
    "def so3_jacobian(n_q):\n",
    "    N = int(len(n_q) / 3)\n",
    "    J = np.empty((len(n_q), 3))\n",
    "\n",
    "    for i in range(N):\n",
    "        Rn_i =  n_q[3*i:3*i+3].flatten()\n",
    "        J[3*i:3*i+3,:] = -skew(Rn_i)\n",
    "\n",
    "    return J"
   ]
  },
  {
   "cell_type": "code",
   "execution_count": null,
   "metadata": {},
   "outputs": [],
   "source": [
    "R = np.eye(3)\n",
    "\n",
    "# Gauss-Newton\n",
    "n_iters = 5\n",
    "lmbda = 1e-8\n",
    "mu = 1.0\n",
    "\n",
    "for i in range(n_iters):\n",
    "    r, n_q = so3_residual(R, n_s, n_t)\n",
    "    print(\"loss: \", np.linalg.norm(r)**2)\n",
    "    J = so3_jacobian(n_q)\n",
    "    dw = - mu * np.linalg.inv(J.T @ J + lmbda*np.eye(3)) @ J.T @ r\n",
    "    R = so3_expmap(dw.flatten()) @ R"
   ]
  },
  {
   "cell_type": "code",
   "execution_count": null,
   "metadata": {},
   "outputs": [],
   "source": [
    "R"
   ]
  },
  {
   "cell_type": "code",
   "execution_count": null,
   "metadata": {},
   "outputs": [],
   "source": [
    "R_gt"
   ]
  },
  {
   "cell_type": "markdown",
   "metadata": {},
   "source": [
    "Translation estimation"
   ]
  },
  {
   "cell_type": "code",
   "execution_count": null,
   "metadata": {},
   "outputs": [],
   "source": [
    "Rn_s = (R @ n_s.reshape((3, -1), order='F'))\n",
    "np.linalg.lstsq(Rn_s.T, d_s - d_t, rcond=None)[0]"
   ]
  },
  {
   "cell_type": "code",
   "execution_count": null,
   "metadata": {},
   "outputs": [],
   "source": [
    "t_gt"
   ]
  },
  {
   "cell_type": "markdown",
   "metadata": {},
   "source": [
    "Test SE(3) Gauss-Newton registration"
   ]
  },
  {
   "cell_type": "code",
   "execution_count": null,
   "metadata": {},
   "outputs": [],
   "source": [
    "# Initial transformation\n",
    "# t = np.array([0, 1, 0])[:,None]\n",
    "# u = np.array([1, 0, 0])[:,None]\n",
    "# theta = 0.1\n",
    "# #q = np.vstack((t, theta*u))\n",
    "# q = np.random.randn(6,1)\n",
    "T = np.eye(4)\n",
    "\n",
    "# Gauss-Newton\n",
    "n_iters = 20\n",
    "lmbda = 0.0\n",
    "mu = 1.0\n",
    "\n",
    "for i in range(n_iters):\n",
    "    r, n_q = residual(n_s, d_s, n_t, d_t, T)\n",
    "    print(\"loss: \", np.linalg.norm(r)**2)\n",
    "    J = jacobian(n_s, n_q)\n",
    "    dv = -mu * np.linalg.inv(J.T @ J + lmbda*np.eye(6)) @ J.T @ r\n",
    "    T = se3_expmap(dv.flatten()) @ T\n",
    "\n",
    "# # Gauss-Newton\n",
    "# n_iters = 10\n",
    "# lmbda = 1e-8\n",
    "# mu = 5e-1\n",
    "\n",
    "# for i in range(n_iters):\n",
    "#     r, n_q = residual(n_s, d_s, n_t, d_t, q)\n",
    "#     print(\"loss: \", np.linalg.norm(r)**2)\n",
    "#     J = jacobian(n_s, n_q)\n",
    "#     dq = - mu * np.linalg.inv(J.T @ J + lmbda * np.eye(6)) @ J.T @ r"
   ]
  },
  {
   "cell_type": "markdown",
   "metadata": {},
   "source": [
    "Test with two planes"
   ]
  },
  {
   "cell_type": "code",
   "execution_count": null,
   "metadata": {},
   "outputs": [],
   "source": [
    "from planeslam.geometry.plane import BoundedPlane\n",
    "from planeslam.registration import so3_expmap, se3_expmap\n",
    "from planeslam.scan import Scan\n",
    "import copy\n",
    "\n",
    "V1 = np.array([[-1, 1, -1],\n",
    "              [1, 1, -1],\n",
    "              [1, 1, 1],\n",
    "              [-1, 1, 1]])\n",
    "V2 = np.array([[-1, -1, -1],\n",
    "              [-1, 1, -1],\n",
    "              [-1, 1, 1],\n",
    "              [-1, -1, 1]])\n",
    "P = Scan([BoundedPlane(V1), BoundedPlane(V2)])\n",
    "\n",
    "# Ground-truth transformation\n",
    "t = np.array([0, -0.5, 0])[:,None]\n",
    "u = np.array([0, 1, 0])[:,None]\n",
    "theta = np.pi/12\n",
    "q = np.vstack((t, theta*u))\n",
    "\n",
    "R = so3_expmap(q[3:].flatten())\n",
    "\n",
    "print(\"t: \", t)\n",
    "print(\"R: \", R)"
   ]
  },
  {
   "cell_type": "code",
   "execution_count": null,
   "metadata": {},
   "outputs": [],
   "source": [
    "# P is source, Q is target\n",
    "Q = copy.deepcopy(P)\n",
    "Q.transform(R, t.flatten())"
   ]
  },
  {
   "cell_type": "code",
   "execution_count": null,
   "metadata": {},
   "outputs": [],
   "source": [
    "ax = plot_3D_setup()\n",
    "P.plot(ax, color='b')\n",
    "Q.plot(ax, color='r')"
   ]
  },
  {
   "cell_type": "code",
   "execution_count": null,
   "metadata": {},
   "outputs": [],
   "source": [
    "# n_s = P.normal \n",
    "# d_s = np.dot(P.normal.flatten(), P.center)\n",
    "# n_t = Q.normal \n",
    "# d_t = np.dot(Q.normal.flatten(), Q.center)\n",
    "correspondences = [(0,0), (1,1)]\n",
    "n_s, d_s, n_t, d_t = extract_corresponding_features(P, Q, correspondences)"
   ]
  },
  {
   "cell_type": "code",
   "execution_count": null,
   "metadata": {},
   "outputs": [],
   "source": [
    "R = np.eye(3)\n",
    "\n",
    "# Gauss-Newton\n",
    "n_iters = 5\n",
    "lmbda = 1e-8\n",
    "mu = 1.0\n",
    "\n",
    "for i in range(n_iters):\n",
    "    r, n_q = so3_residual(R, n_s, n_t)\n",
    "    print(\"loss: \", np.linalg.norm(r)**2)\n",
    "    J = so3_jacobian(n_q)\n",
    "    dw = - mu * np.linalg.inv(J.T @ J + lmbda*np.eye(3)) @ J.T @ r\n",
    "    R = so3_expmap(dw.flatten()) @ R"
   ]
  },
  {
   "cell_type": "code",
   "execution_count": null,
   "metadata": {},
   "outputs": [],
   "source": [
    "R"
   ]
  },
  {
   "cell_type": "code",
   "execution_count": null,
   "metadata": {},
   "outputs": [],
   "source": [
    "# Initial transformation\n",
    "# t = np.array([0, 1, 0])[:,None]\n",
    "# u = np.array([1, 0, 0])[:,None]\n",
    "# theta = 0.1\n",
    "# q = np.vstack((t, theta*u))\n",
    "T = np.eye(4)\n",
    "\n",
    "# Gauss-Newton\n",
    "n_iters = 20\n",
    "lmbda = 1e-8\n",
    "mu = 0.5\n",
    "\n",
    "for i in range(n_iters):\n",
    "    r, n_q = residual(n_s, d_s, n_t, d_t, T)\n",
    "    print(\"loss: \", np.linalg.norm(r)**2)\n",
    "    J = jacobian(n_s, n_q)\n",
    "    dv = - mu * np.linalg.inv(J.T @ J + lmbda*np.eye(6)) @ J.T @ r\n",
    "    T = se3_expmap(dv.flatten()) @ T"
   ]
  },
  {
   "cell_type": "code",
   "execution_count": null,
   "metadata": {},
   "outputs": [],
   "source": [
    "# Extract R and t from q\n",
    "# t_est = q[:3]\n",
    "# R_est = expmap(q[3:].flatten())\n",
    "# print(\"t_est: \", t_est)\n",
    "# print(\"R_est: \", R_est)\n",
    "\n",
    "# Apply transformation to source\n",
    "P_T = copy.copy(P)\n",
    "P_T.transform(R, t.flatten())"
   ]
  },
  {
   "cell_type": "code",
   "execution_count": null,
   "metadata": {},
   "outputs": [],
   "source": [
    "plot_P = np.vstack((np.eye(3), -np.eye(3)))\n",
    "ax = plot_3D_setup(P=plot_P)\n",
    "P_T.plot(ax, color='b')\n",
    "Q.plot(ax, color='r')"
   ]
  },
  {
   "cell_type": "markdown",
   "metadata": {},
   "source": [
    "Rotation only"
   ]
  },
  {
   "cell_type": "code",
   "execution_count": null,
   "metadata": {},
   "outputs": [],
   "source": [
    "from planeslam.geometry.util import skew\n",
    "from planeslam.registration import so3_expmap"
   ]
  },
  {
   "cell_type": "code",
   "execution_count": null,
   "metadata": {},
   "outputs": [],
   "source": [
    "def residual(R, n_s, n_t):\n",
    "    n_q = (R @ n_s.reshape((3, -1), order='F')).reshape((-1, 1), order='F')\n",
    "    return n_q - n_t, n_q\n",
    "\n",
    "def jacobian(n_q):\n",
    "    N = int(len(n_q) / 3)\n",
    "\n",
    "    J = np.empty((3*N,3))\n",
    "    for i in range(N):\n",
    "        Rn_i = n_q[3*i:3*i+3].flatten()\n",
    "        J[3*i:3*i+3,:] = -skew(Rn_i)\n",
    "    \n",
    "    return J"
   ]
  },
  {
   "cell_type": "code",
   "execution_count": null,
   "metadata": {},
   "outputs": [],
   "source": [
    "n_s = np.array([1,2,3, 1,2,1, -1,1,2])[:,None]\n",
    "\n",
    "R_gt = so3_expmap([0, 0.5, 0])\n",
    "n_t = (R_gt @ n_s.reshape((3, -1), order='F')).reshape((-1, 1), order='F')"
   ]
  },
  {
   "cell_type": "code",
   "execution_count": null,
   "metadata": {},
   "outputs": [],
   "source": [
    "R = np.eye(3)\n",
    "mu = 1.0\n",
    "lmbda = 1e-5\n",
    "\n",
    "for i in range(10):\n",
    "    r, n_q = residual(R, n_s, n_t)\n",
    "    print(\"loss: \", np.linalg.norm(r)**2)\n",
    "    J = jacobian(n_q)\n",
    "    dw = -mu * np.linalg.inv(J.T @ J + lmbda*np.eye(3)) @ J.T @ r\n",
    "    R = so3_expmap(dw.flatten()) @ R"
   ]
  },
  {
   "cell_type": "code",
   "execution_count": null,
   "metadata": {},
   "outputs": [],
   "source": [
    "R"
   ]
  },
  {
   "cell_type": "code",
   "execution_count": null,
   "metadata": {},
   "outputs": [],
   "source": [
    "R_gt"
   ]
  },
  {
   "cell_type": "code",
   "execution_count": null,
   "metadata": {},
   "outputs": [],
   "source": []
  }
 ],
 "metadata": {
  "kernelspec": {
   "display_name": "Python 3.7.13 ('planeslam')",
   "language": "python",
   "name": "python3"
  },
  "language_info": {
   "codemirror_mode": {
    "name": "ipython",
    "version": 3
   },
   "file_extension": ".py",
   "mimetype": "text/x-python",
   "name": "python",
   "nbconvert_exporter": "python",
   "pygments_lexer": "ipython3",
   "version": "3.7.13"
  },
  "orig_nbformat": 4,
  "vscode": {
   "interpreter": {
    "hash": "b585e665bce1ccbefa5eda0ece21e432dc86e0e8165acc8779a1295e00a6ba38"
   }
  }
 },
 "nbformat": 4,
 "nbformat_minor": 2
}
