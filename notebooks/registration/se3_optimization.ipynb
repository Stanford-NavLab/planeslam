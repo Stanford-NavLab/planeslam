{
 "cells": [
  {
   "cell_type": "markdown",
   "metadata": {},
   "source": [
    "# Optimization over SE(3)\n",
    "\n",
    "Relies on PyTorch3D (only working on Linux)"
   ]
  },
  {
   "cell_type": "markdown",
   "metadata": {
    "colab_type": "text",
    "id": "nAQY4EnHmFoX"
   },
   "source": [
    "## Install and Import Modules"
   ]
  },
  {
   "cell_type": "markdown",
   "metadata": {
    "colab_type": "text",
    "id": "WAHR1LMJmP-h"
   },
   "source": [
    "Ensure `torch` and `torchvision` are installed. If `pytorch3d` is not installed, install it using the following cell:"
   ]
  },
  {
   "cell_type": "code",
   "execution_count": 2,
   "metadata": {
    "colab": {
     "base_uri": "https://localhost:8080/",
     "height": 717
    },
    "colab_type": "code",
    "id": "uo7a3gdImMZx",
    "outputId": "bf07fd03-dec0-4294-b2ba-9cf5b7333672"
   },
   "outputs": [
    {
     "name": "stdout",
     "output_type": "stream",
     "text": [
      "  % Total    % Received % Xferd  Average Speed   Time    Time     Time  Current\n",
      "                                 Dload  Upload   Total   Spent    Left  Speed\n",
      "  0     0    0     0    0     0      0      0 --:--:-- --:--:-- --:--:--     0\n",
      "100  404k    0  404k    0     0   733k      0 --:--:-- --:--:-- --:--:--  733k\n",
      "Collecting git+https://github.com/facebookresearch/pytorch3d.git@stable\n",
      "  Cloning https://github.com/facebookresearch/pytorch3d.git (to revision stable) to /tmp/pip-req-build-hvegdb2j\n",
      "  Running command git clone -q https://github.com/facebookresearch/pytorch3d.git /tmp/pip-req-build-hvegdb2j\n",
      "  Running command git checkout -q 2bd65027ca5c3b87b77d4f05b8eacae58d8d106f\n",
      "  Resolved https://github.com/facebookresearch/pytorch3d.git to commit 2bd65027ca5c3b87b77d4f05b8eacae58d8d106f\n",
      "Collecting fvcore\n",
      "  Downloading fvcore-0.1.5.post20220512.tar.gz (50 kB)\n",
      "\u001b[K     |████████████████████████████████| 50 kB 3.4 MB/s eta 0:00:011\n",
      "\u001b[?25hCollecting iopath\n",
      "  Downloading iopath-0.1.9-py3-none-any.whl (27 kB)\n",
      "Requirement already satisfied: numpy in /home/navlab-exxact/miniconda3/envs/planeslam/lib/python3.9/site-packages (from fvcore->pytorch3d==0.6.2) (1.22.4)\n",
      "Collecting yacs>=0.1.6\n",
      "  Downloading yacs-0.1.8-py3-none-any.whl (14 kB)\n",
      "Collecting pyyaml>=5.1\n",
      "  Downloading PyYAML-6.0-cp39-cp39-manylinux_2_5_x86_64.manylinux1_x86_64.manylinux_2_12_x86_64.manylinux2010_x86_64.whl (661 kB)\n",
      "\u001b[K     |████████████████████████████████| 661 kB 14.2 MB/s eta 0:00:01\n",
      "\u001b[?25hCollecting tqdm\n",
      "  Downloading tqdm-4.64.0-py2.py3-none-any.whl (78 kB)\n",
      "\u001b[K     |████████████████████████████████| 78 kB 9.2 MB/s  eta 0:00:01\n",
      "\u001b[?25hCollecting termcolor>=1.1\n",
      "  Downloading termcolor-1.1.0.tar.gz (3.9 kB)\n",
      "Requirement already satisfied: Pillow in /home/navlab-exxact/miniconda3/envs/planeslam/lib/python3.9/site-packages (from fvcore->pytorch3d==0.6.2) (9.1.1)\n",
      "Collecting tabulate\n",
      "  Downloading tabulate-0.8.9-py3-none-any.whl (25 kB)\n",
      "Collecting portalocker\n",
      "  Downloading portalocker-2.4.0-py2.py3-none-any.whl (16 kB)\n",
      "Building wheels for collected packages: pytorch3d, fvcore, termcolor\n",
      "  Building wheel for pytorch3d (setup.py) ... \u001b[?25ldone\n",
      "\u001b[?25h  Created wheel for pytorch3d: filename=pytorch3d-0.6.2-cp39-cp39-linux_x86_64.whl size=768260 sha256=0697b23191f0899261d83e7e7b97e4580eb78ca8d479f769e51fc4aba58bcf89\n",
      "  Stored in directory: /tmp/pip-ephem-wheel-cache-bbo03xzr/wheels/d7/e2/25/51fb3f170ac9f43bf7d1bd4bdbf67e4a34104adc2ecfe5f62e\n",
      "  Building wheel for fvcore (setup.py) ... \u001b[?25ldone\n",
      "\u001b[?25h  Created wheel for fvcore: filename=fvcore-0.1.5.post20220512-py3-none-any.whl size=61288 sha256=5389ac17e4453746d7e45f98d28854f194dfb349820ac2a4cf550b89f00042ff\n",
      "  Stored in directory: /home/navlab-exxact/.cache/pip/wheels/d9/1b/13/b526842a9074220158b60dad35d854a13107c8a10e26eb1e50\n",
      "  Building wheel for termcolor (setup.py) ... \u001b[?25ldone\n",
      "\u001b[?25h  Created wheel for termcolor: filename=termcolor-1.1.0-py3-none-any.whl size=4848 sha256=a71f15ec54d309b9cf512eef0513fe52a530cb5491cf42ebd0a22bc83b02f86e\n",
      "  Stored in directory: /home/navlab-exxact/.cache/pip/wheels/b6/0d/90/0d1bbd99855f99cb2f6c2e5ff96f8023fad8ec367695f7d72d\n",
      "Successfully built pytorch3d fvcore termcolor\n",
      "Installing collected packages: tqdm, pyyaml, portalocker, yacs, termcolor, tabulate, iopath, fvcore, pytorch3d\n",
      "Successfully installed fvcore-0.1.5.post20220512 iopath-0.1.9 portalocker-2.4.0 pytorch3d-0.6.2 pyyaml-6.0 tabulate-0.8.9 termcolor-1.1.0 tqdm-4.64.0 yacs-0.1.8\n"
     ]
    }
   ],
   "source": [
    "import os\n",
    "import sys\n",
    "import torch\n",
    "need_pytorch3d=False\n",
    "try:\n",
    "    import pytorch3d\n",
    "except ModuleNotFoundError:\n",
    "    need_pytorch3d=True\n",
    "if need_pytorch3d:\n",
    "    if torch.__version__.startswith(\"1.11.\") and sys.platform.startswith(\"linux\"):\n",
    "        # We try to install PyTorch3D via a released wheel.\n",
    "        pyt_version_str=torch.__version__.split(\"+\")[0].replace(\".\", \"\")\n",
    "        version_str=\"\".join([\n",
    "            f\"py3{sys.version_info.minor}_cu\",\n",
    "            torch.version.cuda.replace(\".\",\"\"),\n",
    "            f\"_pyt{pyt_version_str}\"\n",
    "        ])\n",
    "        !pip install fvcore iopath\n",
    "        !pip install --no-index --no-cache-dir pytorch3d -f https://dl.fbaipublicfiles.com/pytorch3d/packaging/wheels/{version_str}/download.html\n",
    "    else:\n",
    "        # We try to install PyTorch3D from source.\n",
    "        !curl -LO https://github.com/NVIDIA/cub/archive/1.10.0.tar.gz\n",
    "        !tar xzf 1.10.0.tar.gz\n",
    "        os.environ[\"CUB_HOME\"] = os.getcwd() + \"/cub-1.10.0\"\n",
    "        !pip install 'git+https://github.com/facebookresearch/pytorch3d.git@stable'"
   ]
  },
  {
   "cell_type": "code",
   "execution_count": 8,
   "metadata": {
    "colab": {
     "base_uri": "https://localhost:8080/",
     "height": 34
    },
    "colab_type": "code",
    "id": "UgLa7XQimFoY",
    "outputId": "16404f4f-4c7c-4f3f-b96a-e9a876def4c1"
   },
   "outputs": [],
   "source": [
    "# imports\n",
    "import torch\n",
    "from pytorch3d.transforms.so3 import (\n",
    "    so3_exp_map\n",
    ")\n",
    "\n",
    "# set for reproducibility\n",
    "torch.manual_seed(42)\n",
    "if torch.cuda.is_available():\n",
    "    device = torch.device(\"cuda:0\")\n",
    "else:\n",
    "    device = torch.device(\"cpu\")\n",
    "    print(\"WARNING: CPU only, this will be slow!\")"
   ]
  },
  {
   "cell_type": "markdown",
   "metadata": {
    "colab_type": "text",
    "id": "Ys9J7MbMmFol"
   },
   "source": [
    "## Optimization\n",
    "Find the optimal transformation of vector $n_1$ to match $n_2$\n"
   ]
  },
  {
   "cell_type": "code",
   "execution_count": 4,
   "metadata": {},
   "outputs": [],
   "source": [
    "# Define the cost function to optimize\n",
    "def residual(R, t, n_1, n_2):\n",
    "    return (R @ n_1 + t) - n_2\n",
    "\n",
    "def loss(R, t, n_1, n_2):\n",
    "    return torch.linalg.norm(residual(R, t, n_1, n_2))**2"
   ]
  },
  {
   "cell_type": "code",
   "execution_count": 5,
   "metadata": {},
   "outputs": [],
   "source": [
    "# Define n_1 and n_2\n",
    "n_1 = torch.tensor([[1], [2], [3]], dtype=torch.float32, device=device)\n",
    "n_2 = torch.tensor([[-1], [2], [1]], dtype=torch.float32, device=device)"
   ]
  },
  {
   "cell_type": "code",
   "execution_count": 9,
   "metadata": {
    "colab": {
     "base_uri": "https://localhost:8080/",
     "height": 1000
    },
    "colab_type": "code",
    "id": "iOK_DUzVmFom",
    "outputId": "4195bc36-7b84-4070-dcc1-d3abb1e12031"
   },
   "outputs": [
    {
     "name": "stdout",
     "output_type": "stream",
     "text": [
      "Init log_R: tensor([[ 0.1940,  2.1614, -0.1721]], device='cuda:0', requires_grad=True), init t: tensor([[ 0.1391],\n",
      "        [-0.1082],\n",
      "        [-0.7174]], device='cuda:0', requires_grad=True)\n",
      "Initial residual: tensor([[[ 3.4046],\n",
      "         [-0.6681],\n",
      "         [-4.3239]]], device='cuda:0', grad_fn=<SubBackward0>) \n",
      " Init loss: 30.733800888061523\n",
      "Iteration: 0, loss: 30.733800888061523\n",
      "Iteration: 10, loss: 6.842844486236572\n",
      "Iteration: 20, loss: 0.43218472599983215\n",
      "Iteration: 30, loss: 0.4267447292804718\n",
      "Iteration: 40, loss: 0.10912315547466278\n",
      "Iteration: 50, loss: 0.05448928475379944\n",
      "Iteration: 60, loss: 0.01135043054819107\n",
      "Iteration: 70, loss: 0.007119243964552879\n",
      "Iteration: 80, loss: 0.0012975491117686033\n",
      "Iteration: 90, loss: 0.0008693597628735006\n",
      "Iteration: 99, loss: 0.00020798850164283067\n",
      "Optimization finished.\n"
     ]
    }
   ],
   "source": [
    "# Initial transformation\n",
    "log_R_init = torch.randn(1, 3, dtype=torch.float32, device=device)\n",
    "t_init = torch.randn(3, 1, dtype=torch.float32, device=device)\n",
    "\n",
    "# Instantiate copy of the initialization \n",
    "log_R = log_R_init.clone().detach()\n",
    "log_R.requires_grad = True\n",
    "t = t_init.clone().detach()\n",
    "t.requires_grad = True\n",
    "\n",
    "init_R = so3_exp_map(log_R)\n",
    "init_residual = residual(init_R, t, n_1, n_2)\n",
    "init_loss = loss(init_R, t, n_1, n_2)\n",
    "print(f'Init log_R: {log_R}, init t: {t}')\n",
    "print(f'Initial residual: {init_residual} \\n Init loss: {init_loss}')\n",
    "\n",
    "# Init the optimizer\n",
    "optimizer = torch.optim.SGD([log_R, t], lr=.1, momentum=0.9)\n",
    "\n",
    "# run the optimization\n",
    "n_iter = 100  # fix the number of iterations\n",
    "for it in range(n_iter):\n",
    "    # re-init the optimizer gradients\n",
    "    optimizer.zero_grad()\n",
    "\n",
    "    R = so3_exp_map(log_R)\n",
    "\n",
    "    # compute loss\n",
    "    # loss_val = loss(R, t, n_1, n_2)\n",
    "    # loss_val.backward()\n",
    "    r = residual(R, t, n_1, n_2)\n",
    "    loss_val = torch.linalg.norm(r)**2\n",
    "    loss_val.backward()\n",
    "    \n",
    "    # apply the gradients\n",
    "    optimizer.step()\n",
    "\n",
    "    # plot and print status message\n",
    "    if it % 10==0 or it==n_iter-1:\n",
    "        status = 'iteration=%3d; camera_distance=%1.3e' % (it, loss_val)\n",
    "        print(f'Iteration: {it}, loss: {loss_val}')\n",
    "\n",
    "print('Optimization finished.')\n"
   ]
  },
  {
   "cell_type": "code",
   "execution_count": null,
   "metadata": {},
   "outputs": [],
   "source": []
  }
 ],
 "metadata": {
  "accelerator": "GPU",
  "bento_stylesheets": {
   "bento/extensions/flow/main.css": true,
   "bento/extensions/kernel_selector/main.css": true,
   "bento/extensions/kernel_ui/main.css": true,
   "bento/extensions/new_kernel/main.css": true,
   "bento/extensions/system_usage/main.css": true,
   "bento/extensions/theme/main.css": true
  },
  "colab": {
   "name": "bundle_adjustment.ipynb",
   "provenance": [],
   "toc_visible": true
  },
  "file_extension": ".py",
  "interpreter": {
   "hash": "19d88c927064683c0f06eddcce9c5281d598eb9f7d3ad6119214ecb58c7e6a9c"
  },
  "kernelspec": {
   "display_name": "Python 3.9.12 ('planeslam')",
   "language": "python",
   "name": "python3"
  },
  "language_info": {
   "codemirror_mode": {
    "name": "ipython",
    "version": 3
   },
   "file_extension": ".py",
   "mimetype": "text/x-python",
   "name": "python",
   "nbconvert_exporter": "python",
   "pygments_lexer": "ipython3",
   "version": "3.9.12"
  },
  "mimetype": "text/x-python",
  "name": "python",
  "npconvert_exporter": "python",
  "pygments_lexer": "ipython3",
  "version": 3
 },
 "nbformat": 4,
 "nbformat_minor": 1
}
