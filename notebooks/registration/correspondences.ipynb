{
 "cells": [
  {
   "cell_type": "markdown",
   "metadata": {},
   "source": [
    "# Test Correspondences"
   ]
  },
  {
   "cell_type": "code",
   "execution_count": null,
   "metadata": {},
   "outputs": [],
   "source": [
    "%matplotlib widget\n",
    "import numpy as np\n",
    "import os\n",
    "from plotly.subplots import make_subplots\n",
    "import plotly.graph_objects as go\n",
    "\n",
    "import planeslam.io as io\n",
    "from planeslam.general import NED_to_ENU\n",
    "from planeslam.scan import pc_to_scan\n",
    "from planeslam.registration import extract_corresponding_features, get_correspondences\n",
    "\n",
    "os.environ['KMP_DUPLICATE_LIB_OK']='True'\n",
    "\n",
    "%load_ext autoreload\n",
    "%autoreload 2"
   ]
  },
  {
   "cell_type": "markdown",
   "metadata": {},
   "source": [
    "Read in airsim LiDAR and pose data"
   ]
  },
  {
   "cell_type": "code",
   "execution_count": null,
   "metadata": {},
   "outputs": [],
   "source": [
    "# Read in point cloud data\n",
    "binpath = os.path.join(os.getcwd(), '..', '..', 'data', 'airsim', 'blocks_60_samples_loop_closure', 'lidar', 'Drone0')\n",
    "PC_data = io.read_lidar_bin(binpath)"
   ]
  },
  {
   "cell_type": "code",
   "execution_count": null,
   "metadata": {},
   "outputs": [],
   "source": [
    "# Read in ground-truth poses (in drone local frame)\n",
    "posepath = os.path.join(os.getcwd(), '..', '..', 'data', 'airsim', 'blocks_60_samples_loop_closure', 'poses', 'Drone0')\n",
    "drone_positions, drone_orientations = io.read_poses(posepath)"
   ]
  },
  {
   "cell_type": "code",
   "execution_count": null,
   "metadata": {},
   "outputs": [],
   "source": [
    "# Subsample data\n",
    "sub_factor = 5\n",
    "PC_data = PC_data[::sub_factor]\n",
    "drone_positions = drone_positions[::sub_factor]\n",
    "drone_orientations = drone_orientations[::sub_factor]"
   ]
  },
  {
   "cell_type": "code",
   "execution_count": null,
   "metadata": {},
   "outputs": [],
   "source": [
    "# Convert to ENU\n",
    "num_scans = len(PC_data)\n",
    "\n",
    "for i in range(num_scans):\n",
    "    PC_data[i] = NED_to_ENU(PC_data[i])\n",
    "\n",
    "drone_positions = NED_to_ENU(drone_positions)\n",
    "drone_orientations = NED_to_ENU(drone_orientations)"
   ]
  },
  {
   "cell_type": "markdown",
   "metadata": {},
   "source": [
    "Extract planes "
   ]
  },
  {
   "cell_type": "code",
   "execution_count": null,
   "metadata": {},
   "outputs": [],
   "source": [
    "scans = num_scans * [None]\n",
    "\n",
    "for i in range(num_scans):\n",
    "    scans[i] = pc_to_scan(PC_data[i])"
   ]
  },
  {
   "cell_type": "code",
   "execution_count": null,
   "metadata": {},
   "outputs": [],
   "source": [
    "# Plot 2 scans\n",
    "source_idx = 17\n",
    "target_idx = 14\n",
    "source = scans[source_idx]\n",
    "target = scans[target_idx]\n",
    "\n",
    "fig = make_subplots(rows=1, cols=2, specs=[[{'type': 'surface'}, {'type': 'surface'}]])\n",
    "\n",
    "for t in source.plot_trace(show_normals=False):\n",
    "    fig.add_trace(t, row=1, col=1)\n",
    "\n",
    "for t in target.plot_trace(show_normals=False):\n",
    "    fig.add_trace(t, row=1, col=2)\n",
    "\n",
    "fig.update_layout(width=1600, height=700, scene=dict(aspectmode='data'), scene2=dict(aspectmode='data'))\n",
    "fig.show()\n",
    "\n",
    "correspondences = get_correspondences(source, target)\n",
    "print(correspondences)"
   ]
  },
  {
   "cell_type": "code",
   "execution_count": null,
   "metadata": {},
   "outputs": [],
   "source": [
    "n = len(source.planes) # source P\n",
    "m = len(target.planes) # target Q\n",
    "score_mat = np.zeros((n,m))\n",
    "for i in range(n):\n",
    "    for j in range(m):\n",
    "        n1 = source.planes[i].normal\n",
    "        n2 = target.planes[j].normal\n",
    "        c1 = source.planes[i].center\n",
    "        c2 = target.planes[j].center\n",
    "        a1 = source.planes[i].area()\n",
    "        a2 = target.planes[j].area()\n",
    "        score_mat[i,j] = 100 * np.linalg.norm(n1 - n2) + np.linalg.norm(c1 - c2) + 0.1 * np.abs(a1 - a2)\n",
    "        #score_mat[i,j] = np.linalg.norm(c1 - c2)"
   ]
  },
  {
   "cell_type": "code",
   "execution_count": null,
   "metadata": {},
   "outputs": [],
   "source": [
    "from planeslam.registration import robust_GN_register\n",
    "\n",
    "R_hat, t_hat = robust_GN_register(source, target)\n",
    "\n",
    "print(R_hat)\n",
    "print(t_hat)"
   ]
  },
  {
   "cell_type": "code",
   "execution_count": null,
   "metadata": {},
   "outputs": [],
   "source": [
    "target.basis @ source.basis.T"
   ]
  },
  {
   "cell_type": "code",
   "execution_count": null,
   "metadata": {},
   "outputs": [],
   "source": [
    "from planeslam.geometry.util import quat_to_R\n",
    "\n",
    "R_1 = quat_to_R(drone_orientations[target_idx])\n",
    "R_2 = quat_to_R(drone_orientations[source_idx])\n",
    "R_gt = R_2 @ R_1.T\n",
    "\n",
    "t_gt = drone_positions[source_idx] - drone_positions[target_idx]\n",
    "print(R_gt)\n",
    "print(t_gt)"
   ]
  },
  {
   "cell_type": "code",
   "execution_count": null,
   "metadata": {},
   "outputs": [],
   "source": [
    "R_hat @ R_gt.T"
   ]
  },
  {
   "cell_type": "code",
   "execution_count": null,
   "metadata": {},
   "outputs": [],
   "source": [
    "source.transform(R_hat, t_hat.flatten())"
   ]
  },
  {
   "cell_type": "code",
   "execution_count": null,
   "metadata": {},
   "outputs": [],
   "source": [
    "fig = make_subplots(rows=1, cols=2, specs=[[{'type': 'surface'}, {'type': 'surface'}]])\n",
    "\n",
    "for t in source.plot_trace(show_normals=True):\n",
    "    fig.add_trace(t, row=1, col=1)\n",
    "\n",
    "for t in target.plot_trace(show_normals=True):\n",
    "    fig.add_trace(t, row=1, col=2)\n",
    "\n",
    "fig.update_layout(width=1200, height=500, scene=dict(aspectmode='data'), scene2=dict(aspectmode='data'))\n",
    "fig.show()"
   ]
  },
  {
   "cell_type": "code",
   "execution_count": null,
   "metadata": {},
   "outputs": [],
   "source": [
    "fig = go.Figure(data=source.plot_trace()+target.plot_trace())\n",
    "fig.update_layout(width=1500, height=900, scene=dict(aspectmode='data'))\n",
    "fig.show()"
   ]
  },
  {
   "cell_type": "code",
   "execution_count": null,
   "metadata": {},
   "outputs": [],
   "source": []
  }
 ],
 "metadata": {
  "kernelspec": {
   "display_name": "Python 3.7.13 ('planeslam')",
   "language": "python",
   "name": "python3"
  },
  "language_info": {
   "codemirror_mode": {
    "name": "ipython",
    "version": 3
   },
   "file_extension": ".py",
   "mimetype": "text/x-python",
   "name": "python",
   "nbconvert_exporter": "python",
   "pygments_lexer": "ipython3",
   "version": "3.7.13"
  },
  "orig_nbformat": 4,
  "vscode": {
   "interpreter": {
    "hash": "cb468a8bbd71ee67ef9f48802575221c6bc0da5f02cb6cb243ccdc58c1f5deea"
   }
  }
 },
 "nbformat": 4,
 "nbformat_minor": 2
}
