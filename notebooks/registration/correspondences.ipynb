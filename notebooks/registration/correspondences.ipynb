{
 "cells": [
  {
   "cell_type": "markdown",
   "metadata": {},
   "source": [
    "# Test Correspondences"
   ]
  },
  {
   "cell_type": "code",
   "execution_count": null,
   "metadata": {},
   "outputs": [],
   "source": [
    "%matplotlib widget\n",
    "import numpy as np\n",
    "import matplotlib.pyplot as plt\n",
    "import os\n",
    "from plotly.subplots import make_subplots\n",
    "\n",
    "import planeslam.io as io\n",
    "from planeslam.general import plot_3D_setup, color_legend, NED_to_ENU\n",
    "from planeslam.scan import pc_to_scan\n",
    "from planeslam.registration import extract_corresponding_features, get_correspondences, residual, jacobian, so3_expmap, se3_expmap\n",
    "from planeslam.geometry.util import skew\n",
    "\n",
    "os.environ['KMP_DUPLICATE_LIB_OK']='True'\n",
    "\n",
    "%load_ext autoreload\n",
    "%autoreload 2"
   ]
  },
  {
   "cell_type": "markdown",
   "metadata": {},
   "source": [
    "Read in airsim LiDAR and pose data"
   ]
  },
  {
   "cell_type": "code",
   "execution_count": null,
   "metadata": {},
   "outputs": [],
   "source": [
    "# Read in point cloud data\n",
    "binpath = os.path.join(os.getcwd(), '..', '..', 'data', 'airsim', 'blocks_60_samples_loop_closure', 'lidar', 'Drone0')\n",
    "PC_data = io.read_lidar_bin(binpath)"
   ]
  },
  {
   "cell_type": "code",
   "execution_count": null,
   "metadata": {},
   "outputs": [],
   "source": [
    "# Read in ground-truth poses (in drone local frame)\n",
    "posepath = os.path.join(os.getcwd(), '..', '..', 'data', 'airsim', 'blocks_60_samples_loop_closure', 'poses', 'Drone0')\n",
    "drone_positions, drone_orientations = io.read_poses(posepath)"
   ]
  },
  {
   "cell_type": "markdown",
   "metadata": {},
   "source": [
    "Extract planes "
   ]
  },
  {
   "cell_type": "code",
   "execution_count": null,
   "metadata": {},
   "outputs": [],
   "source": [
    "num_scans = len(PC_data)\n",
    "scans = num_scans * [None]\n",
    "scans_transformed = num_scans * [None]\n",
    "for i in range(num_scans):\n",
    "    scans[i] = pc_to_scan(NED_to_ENU(PC_data[i]))"
   ]
  },
  {
   "cell_type": "markdown",
   "metadata": {},
   "source": [
    "Get correspondences"
   ]
  },
  {
   "cell_type": "code",
   "execution_count": null,
   "metadata": {},
   "outputs": [],
   "source": [
    "# Plot 2 scans\n",
    "idx_1 = 0\n",
    "idx_2 = 1\n",
    "\n",
    "fig = make_subplots(rows=1, cols=2, specs=[[{'type': 'surface'}, {'type': 'surface'}]])\n",
    "\n",
    "for t in scans[idx_1].plot_trace():\n",
    "    fig.add_trace(t, row=1, col=1)\n",
    "\n",
    "for t in scans[idx_2].plot_trace():\n",
    "    fig.add_trace(t, row=1, col=2)\n",
    "\n",
    "fig.update_layout(width=1500, height=600, scene=dict(aspectmode='data'))\n",
    "fig.show()"
   ]
  },
  {
   "cell_type": "markdown",
   "metadata": {},
   "source": [
    "array([ 0,  1,  2,  3,  4,  5,  6,  7,  8,  9, 10, 11], dtype=int64)\n",
    "array([ 0,  1,  2,  3,  5,  4,  8,  6, 10,  9,  7,  4], dtype=int64)"
   ]
  },
  {
   "cell_type": "code",
   "execution_count": null,
   "metadata": {},
   "outputs": [],
   "source": [
    "n1 = scans[idx_1].planes[0].normal\n",
    "n2 = scans[idx_2].planes[0].normal\n",
    "c1 = scans[idx_1].planes[0].center\n",
    "c2 = scans[idx_2].planes[0].center"
   ]
  },
  {
   "cell_type": "code",
   "execution_count": null,
   "metadata": {},
   "outputs": [],
   "source": [
    "weight1 = 10\n",
    "score1 = weight1 * np.dot(n1.T,n2)  # 1 to -1\n",
    "score2 = np.linalg.norm(c1 - c2)  # 0 to inf"
   ]
  },
  {
   "cell_type": "code",
   "execution_count": null,
   "metadata": {},
   "outputs": [],
   "source": [
    "n = len(scans[idx_1].planes) # source P\n",
    "m = len(scans[idx_2].planes) # target Q\n",
    "score_mat = np.zeros((n,m))\n",
    "for i in range(n):\n",
    "    for j in range(m):\n",
    "        n1 = scans[idx_1].planes[i].normal\n",
    "        n2 = scans[idx_2].planes[j].normal\n",
    "        c1 = scans[idx_1].planes[i].center\n",
    "        c2 = scans[idx_2].planes[j].center\n",
    "        score_mat[i,j] = np.linalg.norm(n1 - n2) + np.linalg.norm(c1 - c2)"
   ]
  },
  {
   "cell_type": "code",
   "execution_count": null,
   "metadata": {},
   "outputs": [],
   "source": [
    "score_mat"
   ]
  },
  {
   "cell_type": "code",
   "execution_count": null,
   "metadata": {},
   "outputs": [],
   "source": [
    "np.argmin(score_mat, axis=0)"
   ]
  },
  {
   "cell_type": "code",
   "execution_count": null,
   "metadata": {},
   "outputs": [],
   "source": [
    "# Extract normals and distances\n",
    "# Use idx_2 as source and idx_1 as target\n",
    "correspondences = get_correspondences(scans[idx_2], scans[idx_1])\n",
    "correspondences = [(0,0), (1,0), (2,1), (3,2), (4,3), (5,4), (6,5)]\n",
    "n_s, d_s, n_t, d_t = extract_corresponding_features(scans[idx_2], scans[idx_1], correspondences)"
   ]
  },
  {
   "cell_type": "code",
   "execution_count": null,
   "metadata": {},
   "outputs": [],
   "source": [
    "correspondences"
   ]
  }
 ],
 "metadata": {
  "kernelspec": {
   "display_name": "Python 3.7.13 ('planeslam')",
   "language": "python",
   "name": "python3"
  },
  "language_info": {
   "codemirror_mode": {
    "name": "ipython",
    "version": 3
   },
   "file_extension": ".py",
   "mimetype": "text/x-python",
   "name": "python",
   "nbconvert_exporter": "python",
   "pygments_lexer": "ipython3",
   "version": "3.7.13"
  },
  "orig_nbformat": 4,
  "vscode": {
   "interpreter": {
    "hash": "b585e665bce1ccbefa5eda0ece21e432dc86e0e8165acc8779a1295e00a6ba38"
   }
  }
 },
 "nbformat": 4,
 "nbformat_minor": 2
}
