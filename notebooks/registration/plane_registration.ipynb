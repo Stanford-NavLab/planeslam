{
 "cells": [
  {
   "cell_type": "markdown",
   "metadata": {},
   "source": [
    "# Test plane-based registration\n",
    "Test different plane-based registration methods"
   ]
  },
  {
   "cell_type": "code",
   "execution_count": 1,
   "metadata": {},
   "outputs": [],
   "source": [
    "%matplotlib widget\n",
    "import numpy as np\n",
    "import matplotlib.pyplot as plt\n",
    "import os\n",
    "import time\n",
    "import torch\n",
    "\n",
    "import planeslam.io as io\n",
    "from planeslam.general import plot_3D_setup, color_legend\n",
    "from planeslam.scan import pc_to_scan\n",
    "from planeslam.registration import get_correspondences, extract_corresponding_features\n",
    "from planeslam.geometry.util import quat_to_rot_mat\n",
    "\n",
    "%load_ext autoreload\n",
    "%autoreload 2"
   ]
  },
  {
   "cell_type": "code",
   "execution_count": 2,
   "metadata": {},
   "outputs": [],
   "source": [
    "np.set_printoptions(suppress=True)"
   ]
  },
  {
   "cell_type": "markdown",
   "metadata": {},
   "source": [
    "### Load AirSim data"
   ]
  },
  {
   "cell_type": "code",
   "execution_count": 3,
   "metadata": {},
   "outputs": [],
   "source": [
    "# Read in point cloud data\n",
    "binpath = os.path.join(os.getcwd(), '..', '..', 'data', 'airsim', 'blocks_20_samples_1', 'lidar', 'Drone0')\n",
    "PC_data = io.read_lidar_bin(binpath)\n",
    "\n",
    "# Read in ground-truth poses (in drone local frame)\n",
    "posepath = os.path.join(os.getcwd(), '..', '..', 'data', 'airsim', 'blocks_20_samples_1', 'poses', 'Drone0')\n",
    "drone_positions, drone_orientations = io.read_poses(posepath)"
   ]
  },
  {
   "cell_type": "code",
   "execution_count": 4,
   "metadata": {},
   "outputs": [],
   "source": [
    "# Extract scans\n",
    "num_scans = len(PC_data)\n",
    "scans = num_scans * [None]\n",
    "scans_transformed = num_scans * [None]\n",
    "for i in range(num_scans):\n",
    "    scans[i] = pc_to_scan(PC_data[i])"
   ]
  },
  {
   "cell_type": "markdown",
   "metadata": {},
   "source": [
    "### Decoupled"
   ]
  },
  {
   "cell_type": "code",
   "execution_count": 5,
   "metadata": {},
   "outputs": [
    {
     "name": "stdout",
     "output_type": "stream",
     "text": [
      "[[ 0.85379642]\n",
      " [-0.17429398]\n",
      " [ 0.46246713]]\n",
      "[[ 2.95168808]\n",
      " [-0.01658027]\n",
      " [-1.13556727]]\n",
      "[[ 4.16863735]\n",
      " [ 0.01398406]\n",
      " [-0.3381851 ]]\n",
      "[[ 3.96851642]\n",
      " [ 0.02358479]\n",
      " [-0.21498566]]\n",
      "[[-6.45533312]\n",
      " [-0.03374595]\n",
      " [ 0.13797484]]\n",
      "[[-16.45433056]\n",
      " [ -0.07251653]\n",
      " [  0.3252316 ]]\n",
      "[[ 4.50080014]\n",
      " [ 0.04057502]\n",
      " [-0.2373203 ]]\n",
      "[[ 4.86580561]\n",
      " [-0.0120256 ]\n",
      " [-0.04346649]]\n",
      "[[ 4.38636989]\n",
      " [ 0.03460902]\n",
      " [-0.02325109]]\n",
      "[[ 4.28062767]\n",
      " [-0.2014159 ]\n",
      " [ 0.00087601]]\n",
      "[[ 4.51646742]\n",
      " [ 0.14195673]\n",
      " [-0.08669257]]\n",
      "[[  5.94084976]\n",
      " [  0.00633556]\n",
      " [-11.38948788]]\n",
      "[[17.5669326]\n",
      " [-0.1952477]\n",
      " [23.4005   ]]\n",
      "[[1224.54902213]\n",
      " [   3.76937261]\n",
      " [5354.59938478]]\n",
      "[[-0.56798381]\n",
      " [ 0.06901303]\n",
      " [-0.10303344]]\n",
      "[[ 0.45722702]\n",
      " [ 0.07071825]\n",
      " [-0.61991248]]\n",
      "[[0.54583353]\n",
      " [0.02485906]\n",
      " [0.03897516]]\n",
      "[[ 0.05576875]\n",
      " [-0.02552299]\n",
      " [-0.0209569 ]]\n",
      "[[-0.25355929]\n",
      " [ 0.005749  ]\n",
      " [ 0.03889906]]\n",
      "average registration time:  0.0019023167459588301\n"
     ]
    }
   ],
   "source": [
    "from planeslam.registration import decoupled_register\n",
    "\n",
    "abs_traj_transformations = np.zeros((num_scans-1,4,4))\n",
    "T_abs = np.eye(4)\n",
    "avg_runtime = 0\n",
    "\n",
    "for i in range(len(scans)-1):\n",
    "    start_time = time.time()\n",
    "    R_hat, t_hat = decoupled_register(scans[i+1], scans[i])\n",
    "    avg_runtime += time.time() - start_time\n",
    "    print(t_hat)\n",
    "    T_hat = np.vstack((np.hstack((R_hat, t_hat)), np.hstack((np.zeros(3), 1))))\n",
    "    T_abs = T_hat @ T_abs\n",
    "    abs_traj_transformations[i,:,:] = T_abs\n",
    "\n",
    "avg_runtime /= len(scans)-1\n",
    "print(\"average registration time: \", avg_runtime)"
   ]
  },
  {
   "cell_type": "code",
   "execution_count": 6,
   "metadata": {},
   "outputs": [
    {
     "data": {
      "text/plain": [
       "array([[   0.85,   -0.17,    0.46],\n",
       "       [   3.72,   -0.19,   -0.54],\n",
       "       [   7.92,   -0.19,   -0.56],\n",
       "       [  11.89,   -0.14,   -0.69],\n",
       "       [   5.44,   -0.19,   -0.47],\n",
       "       [ -11.01,   -0.27,   -0.14],\n",
       "       [  -6.51,   -0.25,   -0.38],\n",
       "       [  -1.65,   -0.25,   -0.37],\n",
       "       [   2.74,   -0.22,   -0.4 ],\n",
       "       [   7.02,   -0.41,   -0.39],\n",
       "       [  11.55,   -0.28,   -0.06],\n",
       "       [   1.01,   -0.27,   -0.95],\n",
       "       [  17.11,   -0.46,   22.09],\n",
       "       [1244.04,    3.38, 5334.57],\n",
       "       [ 802.58,   13.32, 5418.39],\n",
       "       [ -15.5 ,    3.96, 5476.88],\n",
       "       [-247.31,    3.89, 5471.33],\n",
       "       [  27.86,   -2.1 , 5476.83],\n",
       "       [ 175.31,    8.84, 5474.12]])"
      ]
     },
     "execution_count": 6,
     "metadata": {},
     "output_type": "execute_result"
    }
   ],
   "source": [
    "np.round(abs_traj_transformations[:,:3,3],2)"
   ]
  },
  {
   "cell_type": "markdown",
   "metadata": {},
   "source": [
    "### Gauss-newton"
   ]
  },
  {
   "cell_type": "code",
   "execution_count": 7,
   "metadata": {},
   "outputs": [
    {
     "name": "stdout",
     "output_type": "stream",
     "text": [
      "final loss:  50.915949995953035\n",
      "[[0.20814988]\n",
      " [0.81964319]\n",
      " [4.53891009]]\n",
      "final loss:  1460.8760816870224\n",
      "[[-11.73404653]\n",
      " [-25.61669028]\n",
      " [-22.10287004]]\n",
      "final loss:  3140.430017915746\n",
      "[[-49.50294962]\n",
      " [ -6.2333338 ]\n",
      " [-13.26212067]]\n",
      "final loss:  55.525155298503535\n",
      "[[-0.28823455]\n",
      " [-4.68488924]\n",
      " [ 0.18193579]]\n",
      "final loss:  8.878771252248819e+21\n",
      "[[ 3.50166917e+11]\n",
      " [-5.60100265e+08]\n",
      " [ 4.72843683e+10]]\n",
      "final loss:  1.2274803509714462e+27\n",
      "[[3.27274130e+13]\n",
      " [3.69322221e+12]\n",
      " [2.10948451e+13]]\n",
      "final loss:  15.388914471082941\n",
      "[[ 2.94310535]\n",
      " [-0.0789341 ]\n",
      " [ 3.75036889]]\n",
      "final loss:  90.31597323298082\n",
      "[[-4.2912856 ]\n",
      " [-0.25879911]\n",
      " [-0.05292925]]\n",
      "final loss:  79.65392762461742\n",
      "[[-4.1499494 ]\n",
      " [-0.31995602]\n",
      " [-0.33474122]]\n",
      "final loss:  98.30265778715545\n",
      "[[-3.43310486]\n",
      " [ 1.96639634]\n",
      " [ 2.43135789]]\n",
      "final loss:  78.5344663422902\n",
      "[[-2.95012889]\n",
      " [ 2.32639405]\n",
      " [ 1.83958083]]\n",
      "final loss:  25893.167983646646\n",
      "[[ 95183.35063485]\n",
      " [   562.23586984]\n",
      " [-72285.58780128]]\n",
      "final loss:  1.938455679254817e+17\n",
      "[[ 2.84993097e+09]\n",
      " [ 1.85445710e+09]\n",
      " [-1.40912266e+09]]\n",
      "final loss:  5752753575434732.0\n",
      "[[ 7.65527343e+07]\n",
      " [-1.30564039e+07]\n",
      " [ 1.13886135e+08]]\n",
      "final loss:  27.695361901689203\n",
      "[[1.59949238]\n",
      " [0.4578274 ]\n",
      " [1.76309756]]\n",
      "final loss:  4.563553867630579\n",
      "[[-0.68386465]\n",
      " [ 0.90216121]\n",
      " [-0.20890082]]\n",
      "final loss:  29.369096357032966\n",
      "[[-3.18999449]\n",
      " [-0.54897459]\n",
      " [ 0.6671376 ]]\n",
      "final loss:  26.6328285744576\n",
      "[[-2.9649051 ]\n",
      " [ 1.32905062]\n",
      " [ 1.96438227]]\n",
      "final loss:  24.422634111492624\n",
      "[[-2.98068357]\n",
      " [ 0.17313677]\n",
      " [-0.9053237 ]]\n",
      "average registration time:  0.002940730044716283\n"
     ]
    }
   ],
   "source": [
    "from planeslam.registration import GN_register\n",
    "\n",
    "abs_traj_transformations = np.zeros((num_scans-1,4,4))\n",
    "T_abs = np.eye(4)\n",
    "avg_runtime = 0\n",
    "\n",
    "for i in range(len(scans)-1):\n",
    "    start_time = time.time()\n",
    "    R_hat, t_hat = GN_register(scans[i+1], scans[i])\n",
    "    avg_runtime += time.time() - start_time\n",
    "    print(t_hat)\n",
    "    T_hat = np.vstack((np.hstack((R_hat, t_hat)), np.hstack((np.zeros(3), 1))))\n",
    "    T_abs = T_hat @ T_abs\n",
    "    abs_traj_transformations[i,:,:] = T_abs\n",
    "\n",
    "avg_runtime /= len(scans)-1\n",
    "print(\"average registration time: \", avg_runtime)"
   ]
  },
  {
   "cell_type": "markdown",
   "metadata": {},
   "source": [
    "### Torch GN"
   ]
  },
  {
   "cell_type": "code",
   "execution_count": 8,
   "metadata": {},
   "outputs": [],
   "source": [
    "# Set torch device\n",
    "if torch.cuda.is_available():\n",
    "    device = torch.device(\"cuda:0\")\n",
    "else:\n",
    "    device = torch.device(\"cpu\")\n",
    "    print(\"WARNING: CPU only, this will be slow!\")"
   ]
  },
  {
   "cell_type": "code",
   "execution_count": 9,
   "metadata": {},
   "outputs": [
    {
     "name": "stdout",
     "output_type": "stream",
     "text": [
      "final loss:  tensor(0.0562, device='cuda:0')\n",
      "final loss:  tensor(5.0333e-05, device='cuda:0')\n",
      "final loss:  tensor(0.0012, device='cuda:0')\n",
      "final loss:  tensor(0.0126, device='cuda:0')\n",
      "final loss:  tensor(0.0001, device='cuda:0')\n",
      "final loss:  tensor(0.3438, device='cuda:0')\n",
      "final loss:  tensor(0.5796, device='cuda:0')\n",
      "final loss:  tensor(0.0003, device='cuda:0')\n",
      "final loss:  tensor(0.0008, device='cuda:0')\n",
      "final loss:  tensor(0.1881, device='cuda:0')\n",
      "final loss:  tensor(0.0348, device='cuda:0')\n",
      "final loss:  tensor(4.2065e+11, device='cuda:0')\n",
      "final loss:  tensor(3.3330e-05, device='cuda:0')\n",
      "final loss:  tensor(3.5238, device='cuda:0')\n",
      "final loss:  tensor(0.0540, device='cuda:0')\n",
      "final loss:  tensor(0.0483, device='cuda:0')\n",
      "final loss:  tensor(0.0043, device='cuda:0')\n",
      "final loss:  tensor(0.0011, device='cuda:0')\n",
      "final loss:  tensor(0.0401, device='cuda:0')\n",
      "average registration time:  0.24849431138289602\n"
     ]
    }
   ],
   "source": [
    "from planeslam.registration import torch_GN_register\n",
    "\n",
    "abs_traj_transformations = np.zeros((num_scans-1,4,4))\n",
    "T_abs = np.eye(4)\n",
    "avg_runtime = 0\n",
    "\n",
    "for i in range(len(scans)-1):\n",
    "    start_time = time.time()\n",
    "    R_hat, t_hat = torch_GN_register(scans[i+1], scans[i], device)\n",
    "    avg_runtime += time.time() - start_time\n",
    "    T_hat = np.vstack((np.hstack((R_hat, t_hat)), np.hstack((np.zeros(3), 1))))\n",
    "    T_abs = T_hat @ T_abs\n",
    "    abs_traj_transformations[i,:,:] = T_abs\n",
    "\n",
    "avg_runtime /= len(scans)-1\n",
    "print(\"average registration time: \", avg_runtime)"
   ]
  },
  {
   "cell_type": "code",
   "execution_count": 13,
   "metadata": {},
   "outputs": [
    {
     "data": {
      "text/plain": [
       "array([[  0.85299265,  -0.17528395,   0.4618974 ],\n",
       "       [  3.84827679,  -0.19072411,  -0.90316043],\n",
       "       [  7.23622477,   1.02220526,   1.64474637],\n",
       "       [ 11.20611008,   1.04529018,   1.5034847 ],\n",
       "       [ 11.14946046,   1.04443902,   1.40398059],\n",
       "       [ 11.30748222,   1.02823482,   1.58089609],\n",
       "       [ 15.80431205,   1.08082907,   1.5471937 ],\n",
       "       [ 20.663718  ,   1.15532767,   1.51204148],\n",
       "       [ 25.05322228,   1.12648621,   1.4957988 ],\n",
       "       [ 29.338946  ,   0.93173002,   1.47504867],\n",
       "       [ 33.8748454 ,   1.16077866,   1.02516113],\n",
       "       [ 30.0497896 ,   1.21746099, -14.1831296 ],\n",
       "       [ 25.05381002,   0.98455002,  21.81754757],\n",
       "       [-20.04768327,   0.76102463,  26.41463726],\n",
       "       [-18.3853372 ,   0.75777405,  27.8675198 ],\n",
       "       [-13.56092905,   0.84553648,  29.68701503],\n",
       "       [-11.74401225,   0.85843937,  30.27447838],\n",
       "       [-11.76487857,   0.60795748,  30.22684749],\n",
       "       [-12.82945643,   0.56151729,  29.9475938 ]])"
      ]
     },
     "execution_count": 13,
     "metadata": {},
     "output_type": "execute_result"
    }
   ],
   "source": [
    "abs_traj_transformations[:,:3,3]"
   ]
  },
  {
   "cell_type": "code",
   "execution_count": 12,
   "metadata": {},
   "outputs": [],
   "source": [
    "filepath = os.path.join(os.getcwd(), '..', '..', 'data', 'results', 'l2l_abs_traj_transformations')\n",
    "np.save(filepath, np.array(abs_traj_transformations))"
   ]
  },
  {
   "cell_type": "markdown",
   "metadata": {},
   "source": [
    "### Torch SGD"
   ]
  },
  {
   "cell_type": "code",
   "execution_count": 11,
   "metadata": {},
   "outputs": [
    {
     "name": "stdout",
     "output_type": "stream",
     "text": [
      "Final loss:  0.05606671  iterations:  250\n",
      "Final loss:  0.0009951675  iterations:  72\n",
      "Final loss:  4.0509787  iterations:  250\n",
      "Final loss:  0.0126964105  iterations:  250\n",
      "Final loss:  0.0010112934  iterations:  250\n",
      "Final loss:  0.5292629  iterations:  250\n",
      "Final loss:  0.5791519  iterations:  250\n",
      "Final loss:  0.00072609185  iterations:  20\n",
      "Final loss:  0.0009025088  iterations:  94\n",
      "Final loss:  0.18806247  iterations:  250\n",
      "Final loss:  0.038541116  iterations:  250\n",
      "Final loss:  0.002161515  iterations:  250\n",
      "Final loss:  0.00479942  iterations:  250\n",
      "Final loss:  0.11253662  iterations:  250\n",
      "Final loss:  0.053971708  iterations:  250\n",
      "Final loss:  0.04811879  iterations:  250\n",
      "Final loss:  0.0040603136  iterations:  250\n",
      "Final loss:  0.005883817  iterations:  250\n",
      "Final loss:  0.040063124  iterations:  250\n",
      "average registration time:  1.039142043966996\n"
     ]
    }
   ],
   "source": [
    "from planeslam.registration import torch_register\n",
    "\n",
    "abs_traj_transformations = np.zeros((num_scans-1,4,4))\n",
    "T_abs = np.eye(4)\n",
    "avg_runtime = 0\n",
    "\n",
    "for i in range(len(scans)-1):\n",
    "    start_time = time.time()\n",
    "    R_hat, t_hat = torch_register(scans[i+1], scans[i], device)\n",
    "    avg_runtime += time.time() - start_time\n",
    "    T_hat = np.vstack((np.hstack((R_hat, t_hat)), np.hstack((np.zeros(3), 1))))\n",
    "    T_abs = T_hat @ T_abs\n",
    "    abs_traj_transformations[i,:,:] = T_abs\n",
    "\n",
    "avg_runtime /= len(scans)-1\n",
    "print(\"average registration time: \", avg_runtime)"
   ]
  },
  {
   "cell_type": "code",
   "execution_count": 12,
   "metadata": {},
   "outputs": [
    {
     "data": {
      "text/plain": [
       "array([[  0.85299265,  -0.17528395,   0.4618974 ],\n",
       "       [  3.84827679,  -0.19072411,  -0.90316043],\n",
       "       [  7.23622477,   1.02220526,   1.64474637],\n",
       "       [ 11.20611008,   1.04529018,   1.5034847 ],\n",
       "       [ 11.14946046,   1.04443902,   1.40398059],\n",
       "       [ 11.30748222,   1.02823482,   1.58089609],\n",
       "       [ 15.80431205,   1.08082907,   1.5471937 ],\n",
       "       [ 20.663718  ,   1.15532767,   1.51204148],\n",
       "       [ 25.05322228,   1.12648621,   1.4957988 ],\n",
       "       [ 29.338946  ,   0.93173002,   1.47504867],\n",
       "       [ 33.8748454 ,   1.16077866,   1.02516113],\n",
       "       [ 30.0497896 ,   1.21746099, -14.1831296 ],\n",
       "       [ 25.05381002,   0.98455002,  21.81754757],\n",
       "       [-20.04768327,   0.76102463,  26.41463726],\n",
       "       [-18.3853372 ,   0.75777405,  27.8675198 ],\n",
       "       [-13.56092905,   0.84553648,  29.68701503],\n",
       "       [-11.74401225,   0.85843937,  30.27447838],\n",
       "       [-11.76487857,   0.60795748,  30.22684749],\n",
       "       [-12.82945643,   0.56151729,  29.9475938 ]])"
      ]
     },
     "execution_count": 12,
     "metadata": {},
     "output_type": "execute_result"
    }
   ],
   "source": [
    "abs_traj_transformations[:,:3,3]"
   ]
  },
  {
   "cell_type": "code",
   "execution_count": 14,
   "metadata": {},
   "outputs": [
    {
     "data": {
      "text/plain": [
       "array([[ 0.        ,  0.        , -2.31653333],\n",
       "       [ 1.15311325,  0.00000001, -2.02929187],\n",
       "       [ 4.08561325,  0.00000007, -1.91195583],\n",
       "       [ 8.04186153,  0.00000016, -2.00577402],\n",
       "       [12.3312254 ,  0.00000006, -2.06440759],\n",
       "       [16.72789192, -0.00000015, -2.06920481],\n",
       "       [21.15950203, -0.00000019, -2.04602313],\n",
       "       [25.60265923, -0.00000008, -2.0111804 ],\n",
       "       [30.54411697, -0.00000005, -1.9673357 ],\n",
       "       [34.99310684, -0.00000005, -1.92621136],\n",
       "       [39.44282913, -0.        , -1.88452327],\n",
       "       [43.83399582,  0.00000004, -1.84139442],\n",
       "       [45.85028076,  0.00000002, -2.32305813],\n",
       "       [45.31489182,  0.        , -1.83186007],\n",
       "       [43.51328278,  0.00000004, -1.95378637],\n",
       "       [42.99415588,  0.00000008, -1.90824699],\n",
       "       [43.43586349,  0.00000005, -1.85206699],\n",
       "       [43.86270905, -0.00000002, -1.85960984],\n",
       "       [43.87223434, -0.00000002, -1.84669709],\n",
       "       [43.69779968,  0.00000004, -1.84473574]])"
      ]
     },
     "execution_count": 14,
     "metadata": {},
     "output_type": "execute_result"
    }
   ],
   "source": [
    "drone_positions"
   ]
  },
  {
   "cell_type": "code",
   "execution_count": null,
   "metadata": {},
   "outputs": [],
   "source": []
  }
 ],
 "metadata": {
  "interpreter": {
   "hash": "19d88c927064683c0f06eddcce9c5281d598eb9f7d3ad6119214ecb58c7e6a9c"
  },
  "kernelspec": {
   "display_name": "Python 3.9.12 ('planeslam')",
   "language": "python",
   "name": "python3"
  },
  "language_info": {
   "codemirror_mode": {
    "name": "ipython",
    "version": 3
   },
   "file_extension": ".py",
   "mimetype": "text/x-python",
   "name": "python",
   "nbconvert_exporter": "python",
   "pygments_lexer": "ipython3",
   "version": "3.9.12"
  },
  "orig_nbformat": 4
 },
 "nbformat": 4,
 "nbformat_minor": 2
}
