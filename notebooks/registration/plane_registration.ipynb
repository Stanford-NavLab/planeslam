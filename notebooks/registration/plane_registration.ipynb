{
 "cells": [
  {
   "cell_type": "markdown",
   "metadata": {},
   "source": [
    "# Test plane-based registration\n",
    "Test different plane-based registration methods"
   ]
  },
  {
   "cell_type": "code",
   "execution_count": 32,
   "metadata": {},
   "outputs": [
    {
     "name": "stdout",
     "output_type": "stream",
     "text": [
      "The autoreload extension is already loaded. To reload it, use:\n",
      "  %reload_ext autoreload\n"
     ]
    }
   ],
   "source": [
    "%matplotlib widget\n",
    "import numpy as np\n",
    "import matplotlib.pyplot as plt\n",
    "import os\n",
    "import time\n",
    "import torch\n",
    "\n",
    "import planeslam.io as io\n",
    "from planeslam.general import plot_3D_setup, color_legend\n",
    "from planeslam.scan import pc_to_scan\n",
    "from planeslam.registration import get_correspondences, extract_corresponding_features\n",
    "from planeslam.geometry.util import quat_to_rot_mat\n",
    "\n",
    "%load_ext autoreload\n",
    "%autoreload 2"
   ]
  },
  {
   "cell_type": "markdown",
   "metadata": {},
   "source": [
    "### Load AirSim data"
   ]
  },
  {
   "cell_type": "code",
   "execution_count": 33,
   "metadata": {},
   "outputs": [],
   "source": [
    "# Read in point cloud data\n",
    "binpath = os.path.join(os.getcwd(), '..', '..', 'data', 'airsim', 'blocks_20_samples_1', 'lidar', 'Drone0')\n",
    "PC_data = io.read_lidar_bin(binpath)\n",
    "\n",
    "# Read in ground-truth poses (in drone local frame)\n",
    "posepath = os.path.join(os.getcwd(), '..', '..', 'data', 'airsim', 'blocks_20_samples_1', 'poses', 'Drone0')\n",
    "drone_positions, drone_orientations = io.read_poses(posepath)"
   ]
  },
  {
   "cell_type": "code",
   "execution_count": 34,
   "metadata": {},
   "outputs": [],
   "source": [
    "# Extract scans\n",
    "num_scans = len(PC_data)\n",
    "scans = num_scans * [None]\n",
    "scans_transformed = num_scans * [None]\n",
    "for i in range(num_scans):\n",
    "    scans[i] = pc_to_scan(PC_data[i])"
   ]
  },
  {
   "cell_type": "markdown",
   "metadata": {},
   "source": [
    "### Decoupled"
   ]
  },
  {
   "cell_type": "code",
   "execution_count": 36,
   "metadata": {},
   "outputs": [
    {
     "name": "stdout",
     "output_type": "stream",
     "text": [
      "[[ 4.17561936e+01]\n",
      " [-6.91389945e-02]\n",
      " [ 2.35085002e+02]]\n",
      "[[-4.93224409e+01]\n",
      " [ 6.85646618e-14]\n",
      " [ 5.25042913e+00]]\n",
      "[[-73.93652591]\n",
      " [ -0.26256389]\n",
      " [  8.19982805]]\n",
      "[[ 3.96851642]\n",
      " [ 0.02358479]\n",
      " [-0.21498566]]\n",
      "[[ 3.98560873e+00]\n",
      " [-1.96732949e-03]\n",
      " [-1.28063227e-01]]\n",
      "[[ 2.30098658]\n",
      " [-0.00383921]\n",
      " [-0.02968871]]\n",
      "[[ 4.49636042]\n",
      " [-0.01993057]\n",
      " [-0.03203159]]\n",
      "[[ 4.86525903]\n",
      " [ 0.00808046]\n",
      " [-0.05318259]]\n",
      "[[ 4.38436669e+00]\n",
      " [-3.92347594e-03]\n",
      " [-7.51966504e-03]]\n",
      "[[ 4.28062767e+00]\n",
      " [-2.01415903e-01]\n",
      " [ 8.76014594e-04]]\n",
      "[[ 4.51646742]\n",
      " [ 0.14195673]\n",
      " [-0.08669257]]\n",
      "[[ 1.12253149e+01]\n",
      " [-8.96304618e-03]\n",
      " [-8.63307625e+00]]\n",
      "[[-12.44248494]\n",
      " [ -0.17425084]\n",
      " [ 45.92897225]]\n",
      "[[1.22454902e+03]\n",
      " [3.76937261e+00]\n",
      " [5.35459938e+03]]\n",
      "[[-0.56798381]\n",
      " [ 0.06901303]\n",
      " [-0.10303344]]\n",
      "[[-3.28092888e+01]\n",
      " [-1.45730019e-02]\n",
      " [ 1.48726002e+01]]\n",
      "[[0.54583353]\n",
      " [0.02485906]\n",
      " [0.03897516]]\n",
      "[[ 0.05576875]\n",
      " [-0.02552299]\n",
      " [-0.0209569 ]]\n",
      "[[-0.25355929]\n",
      " [ 0.005749  ]\n",
      " [ 0.03889906]]\n",
      "average registration time:  0.0006971233769467002\n"
     ]
    }
   ],
   "source": [
    "from planeslam.registration import decoupled_register\n",
    "\n",
    "abs_traj_transformations = np.zeros((num_scans-1,4,4))\n",
    "T_abs = np.eye(4)\n",
    "avg_runtime = 0\n",
    "\n",
    "for i in range(len(scans)-1):\n",
    "    start_time = time.time()\n",
    "    R_hat, t_hat = decoupled_register(scans[i+1], scans[i])\n",
    "    avg_runtime += time.time() - start_time\n",
    "    print(t_hat)\n",
    "    T_hat = np.vstack((np.hstack((R_hat, t_hat)), np.hstack((np.zeros(3), 1))))\n",
    "    T_abs = T_hat @ T_abs\n",
    "    abs_traj_transformations[i,:,:] = T_abs\n",
    "\n",
    "avg_runtime /= len(scans)-1\n",
    "print(\"average registration time: \", avg_runtime)"
   ]
  },
  {
   "cell_type": "markdown",
   "metadata": {},
   "source": [
    "### Gauss-newton"
   ]
  },
  {
   "cell_type": "code",
   "execution_count": 37,
   "metadata": {},
   "outputs": [
    {
     "name": "stdout",
     "output_type": "stream",
     "text": [
      "[[30.65781317]\n",
      " [11.14045758]\n",
      " [24.75049124]]\n",
      "[[-2.30432372]\n",
      " [ 0.41884598]\n",
      " [ 2.66917582]]\n",
      "[[32.10861411]\n",
      " [-1.59487608]\n",
      " [-2.7139839 ]]\n",
      "[[ 1.13175403]\n",
      " [-1.19555816]\n",
      " [-0.70387388]]\n",
      "[[ 4.46552276]\n",
      " [-2.58861795]\n",
      " [ 0.43554267]]\n",
      "[[ 2.57591884]\n",
      " [-1.27890639]\n",
      " [ 1.22939859]]\n",
      "[[ 1.01337052]\n",
      " [ 4.24488642]\n",
      " [-1.43561391]]\n",
      "[[ 1.88583322]\n",
      " [ 4.58631592]\n",
      " [-4.81763078]]\n",
      "[[ 1.66215405]\n",
      " [ 0.64699314]\n",
      " [-0.33533968]]\n",
      "[[0.38770594]\n",
      " [2.62742646]\n",
      " [0.32078439]]\n",
      "[[0.36142706]\n",
      " [2.24109746]\n",
      " [1.70968005]]\n",
      "[[  7.17623909]\n",
      " [ 29.53666312]\n",
      " [-52.35872499]]\n",
      "[[8.69197295]\n",
      " [0.06868411]\n",
      " [2.63284572]]\n",
      "[[8.61138632]\n",
      " [0.45126762]\n",
      " [6.60660178]]\n",
      "[[0.59507523]\n",
      " [1.97110034]\n",
      " [0.14642334]]\n",
      "[[0.45874694]\n",
      " [1.2864742 ]\n",
      " [2.1262965 ]]\n",
      "[[-0.97621036]\n",
      " [ 0.07816455]\n",
      " [ 0.05089134]]\n",
      "[[0.16688146]\n",
      " [0.0009609 ]\n",
      " [0.02947214]]\n",
      "[[-0.03333937]\n",
      " [ 0.21852243]\n",
      " [ 1.64766113]]\n",
      "average registration time:  0.0017640214217336553\n"
     ]
    }
   ],
   "source": [
    "from planeslam.registration import GN_register\n",
    "\n",
    "abs_traj_transformations = np.zeros((num_scans-1,4,4))\n",
    "T_abs = np.eye(4)\n",
    "avg_runtime = 0\n",
    "\n",
    "for i in range(len(scans)-1):\n",
    "    start_time = time.time()\n",
    "    R_hat, t_hat = GN_register(scans[i+1], scans[i])\n",
    "    avg_runtime += time.time() - start_time\n",
    "    print(t_hat)\n",
    "    T_hat = np.vstack((np.hstack((R_hat, t_hat)), np.hstack((np.zeros(3), 1))))\n",
    "    T_abs = T_hat @ T_abs\n",
    "    abs_traj_transformations[i,:,:] = T_abs\n",
    "\n",
    "avg_runtime /= len(scans)-1\n",
    "print(\"average registration time: \", avg_runtime)"
   ]
  },
  {
   "cell_type": "markdown",
   "metadata": {},
   "source": [
    "### Torch GN"
   ]
  },
  {
   "cell_type": "code",
   "execution_count": 38,
   "metadata": {},
   "outputs": [],
   "source": [
    "# Set torch device\n",
    "if torch.cuda.is_available():\n",
    "    device = torch.device(\"cuda:0\")\n",
    "else:\n",
    "    device = torch.device(\"cpu\")\n",
    "    print(\"WARNING: CPU only, this will be slow!\")"
   ]
  },
  {
   "cell_type": "code",
   "execution_count": 45,
   "metadata": {},
   "outputs": [
    {
     "name": "stdout",
     "output_type": "stream",
     "text": [
      "[[ 6.8910704]\n",
      " [-1.8441594]\n",
      " [-2.9303555]]\n",
      "[[ 2.2052667 ]\n",
      " [-0.12693232]\n",
      " [ 2.5371797 ]]\n",
      "[[ 7.477677  ]\n",
      " [-0.1557581 ]\n",
      " [-0.47617593]]\n",
      "[[ 3.966186  ]\n",
      " [ 0.02562693]\n",
      " [-0.18225062]]\n",
      "[[ 3.9931989 ]\n",
      " [ 0.02337583]\n",
      " [-0.13810912]]\n",
      "[[ 1.4888978 ]\n",
      " [-0.0102578 ]\n",
      " [-0.01005685]]\n",
      "[[ 4.4937363 ]\n",
      " [-0.01709931]\n",
      " [-0.04390385]]\n",
      "[[ 3.1681662 ]\n",
      " [-0.35375258]\n",
      " [-5.063493  ]]\n",
      "[[ 4.4134665 ]\n",
      " [-0.02657721]\n",
      " [-0.05436486]]\n",
      "[[ 4.301298  ]\n",
      " [-0.20272158]\n",
      " [ 0.0473389 ]]\n",
      "[[ 4.5172296 ]\n",
      " [ 0.13417937]\n",
      " [-0.10137098]]\n",
      "[[ 3.3971615 ]\n",
      " [-0.02664175]\n",
      " [-0.30003643]]\n",
      "[[ 1.5254318 ]\n",
      " [-0.03821417]\n",
      " [ 1.090883  ]]\n",
      "[[ 8.536132 ]\n",
      " [-0.0620997]\n",
      " [-0.7797686]]\n",
      "[[-0.5654953 ]\n",
      " [ 0.07376771]\n",
      " [-0.10531069]]\n",
      "[[-0.5066407 ]\n",
      " [ 0.07357979]\n",
      " [ 2.7039537 ]]\n",
      "[[0.5499096 ]\n",
      " [0.02354406]\n",
      " [0.03654559]]\n",
      "[[ 0.05589207]\n",
      " [-0.02576118]\n",
      " [-0.01947335]]\n",
      "[[-0.25309563]\n",
      " [ 0.00926378]\n",
      " [ 0.04578644]]\n",
      "average registration time:  0.10787519655729595\n"
     ]
    }
   ],
   "source": [
    "from planeslam.registration import torch_GN_register\n",
    "\n",
    "abs_traj_transformations = np.zeros((num_scans-1,4,4))\n",
    "T_abs = np.eye(4)\n",
    "avg_runtime = 0\n",
    "\n",
    "for i in range(len(scans)-1):\n",
    "    start_time = time.time()\n",
    "    R_hat, t_hat = torch_GN_register(scans[i+1], scans[i], device)\n",
    "    avg_runtime += time.time() - start_time\n",
    "    print(t_hat)\n",
    "    T_hat = np.vstack((np.hstack((R_hat, t_hat)), np.hstack((np.zeros(3), 1))))\n",
    "    T_abs = T_hat @ T_abs\n",
    "    abs_traj_transformations[i,:,:] = T_abs\n",
    "\n",
    "avg_runtime /= len(scans)-1\n",
    "print(\"average registration time: \", avg_runtime)"
   ]
  },
  {
   "cell_type": "code",
   "execution_count": 46,
   "metadata": {},
   "outputs": [
    {
     "data": {
      "text/plain": [
       "array([[  6.89,  -1.84,  -2.93],\n",
       "       [ -3.41,  -1.97,  -2.41],\n",
       "       [  3.97,  -2.14,  -2.74],\n",
       "       [  7.9 ,  -2.12,  -2.96],\n",
       "       [ 11.88,  -2.04,  -3.16],\n",
       "       [ 13.39,  -2.  ,  -3.13],\n",
       "       [ 17.86,  -2.08,  -3.21],\n",
       "       [ 10.33,  -3.1 , -21.64],\n",
       "       [ 14.59,  -3.13, -21.77],\n",
       "       [ 19.04,  -3.39, -21.62],\n",
       "       [ 22.18,  -3.27, -22.85],\n",
       "       [ 19.33,  -3.35, -27.87],\n",
       "       [-32.3 ,  -3.66,   3.11],\n",
       "       [-23.45,  -3.09,  -6.64],\n",
       "       [-24.47,  -2.88,  -4.92],\n",
       "       [ -0.97,  -2.72,  27.67],\n",
       "       [  0.86,  -2.68,  27.73],\n",
       "       [ -0.5 ,  -2.66,  27.72],\n",
       "       [ -1.45,  -2.7 ,  27.74]])"
      ]
     },
     "execution_count": 46,
     "metadata": {},
     "output_type": "execute_result"
    }
   ],
   "source": [
    "np.round(abs_traj_transformations[:,:3,3],2)"
   ]
  },
  {
   "cell_type": "code",
   "execution_count": null,
   "metadata": {},
   "outputs": [],
   "source": []
  }
 ],
 "metadata": {
  "interpreter": {
   "hash": "19d88c927064683c0f06eddcce9c5281d598eb9f7d3ad6119214ecb58c7e6a9c"
  },
  "kernelspec": {
   "display_name": "Python 3.9.12 ('planeslam')",
   "language": "python",
   "name": "python3"
  },
  "language_info": {
   "codemirror_mode": {
    "name": "ipython",
    "version": 3
   },
   "file_extension": ".py",
   "mimetype": "text/x-python",
   "name": "python",
   "nbconvert_exporter": "python",
   "pygments_lexer": "ipython3",
   "version": "3.9.12"
  },
  "orig_nbformat": 4
 },
 "nbformat": 4,
 "nbformat_minor": 2
}
