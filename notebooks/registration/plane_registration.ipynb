{
 "cells": [
  {
   "cell_type": "markdown",
   "metadata": {},
   "source": [
    "# Test plane-based registration"
   ]
  },
  {
   "cell_type": "code",
   "execution_count": null,
   "metadata": {},
   "outputs": [],
   "source": [
    "%matplotlib widget\n",
    "import numpy as np\n",
    "import matplotlib.pyplot as plt\n",
    "from matplotlib import cm\n",
    "import os\n",
    "\n",
    "import planeslam.io as io\n",
    "from planeslam.general import plot_3D_setup, color_legend\n",
    "from planeslam.scan import pc_to_scan\n",
    "from planeslam.registration import extract_corresponding_features\n",
    "\n",
    "%load_ext autoreload\n",
    "%autoreload 2"
   ]
  },
  {
   "cell_type": "markdown",
   "metadata": {},
   "source": [
    "Read in airsim LiDAR and pose data"
   ]
  },
  {
   "cell_type": "code",
   "execution_count": null,
   "metadata": {},
   "outputs": [],
   "source": [
    "# Read in point cloud data\n",
    "binpath = os.path.join(os.getcwd(),'..', '..', 'data', 'airsim', 'blocks_20_samples_1', 'lidar', 'Drone0')\n",
    "PC_data = io.read_lidar_bin(binpath)"
   ]
  },
  {
   "cell_type": "code",
   "execution_count": null,
   "metadata": {},
   "outputs": [],
   "source": [
    "# Read in ground-truth poses (in drone local frame)\n",
    "posepath = os.path.join(os.getcwd(),'..', '..', 'data', 'airsim', 'blocks_20_samples_1', 'poses', 'Drone0')\n",
    "drone_positions, drone_orientations = io.read_poses(posepath)"
   ]
  },
  {
   "cell_type": "markdown",
   "metadata": {},
   "source": [
    "Extract planes "
   ]
  },
  {
   "cell_type": "code",
   "execution_count": null,
   "metadata": {},
   "outputs": [],
   "source": [
    "num_scans = len(PC_data)\n",
    "scans = num_scans * [None]\n",
    "scans_transformed = num_scans * [None]\n",
    "for i in range(num_scans):\n",
    "    scans[i] = pc_to_scan(PC_data[i])"
   ]
  },
  {
   "cell_type": "code",
   "execution_count": null,
   "metadata": {},
   "outputs": [],
   "source": [
    "# ax = plot_3D_setup(PC_data[0])\n",
    "# cmap = cm.get_cmap('viridis')\n",
    "# cmap_idxs = int(len(cmap.colors) / num_scans) * np.arange(num_scans)\n",
    "# colors = np.asarray(cmap.colors)[cmap_idxs,:]\n",
    "\n",
    "# for i, s in enumerate(scans):\n",
    "#     s.plot(ax, color=colors[i])"
   ]
  },
  {
   "cell_type": "markdown",
   "metadata": {},
   "source": [
    "Get correspondences"
   ]
  },
  {
   "cell_type": "code",
   "execution_count": null,
   "metadata": {},
   "outputs": [],
   "source": [
    "# Plot first 2 scans\n",
    "ax = plot_3D_setup(PC_data[0])\n",
    "for i, scan in enumerate(scans[0:2]):\n",
    "    scan.plot(ax, show_normals=True)\n",
    "\n",
    "# Color legend\n",
    "num_colors = max([len(s.planes) for s in scans[0:2]])\n",
    "color_legend(ax, num_colors)"
   ]
  },
  {
   "cell_type": "code",
   "execution_count": null,
   "metadata": {},
   "outputs": [],
   "source": [
    "# Extract normals and distances\n",
    "n_s, d_s, n_t, d_t = extract_corresponding_features(scans[0], scans[1])"
   ]
  },
  {
   "cell_type": "markdown",
   "metadata": {},
   "source": [
    "Test Gauss-Newton registration"
   ]
  },
  {
   "cell_type": "code",
   "execution_count": null,
   "metadata": {},
   "outputs": [],
   "source": [
    "from planeslam.geometry.util import axis_angle_to_rot_mat, skew\n",
    "\n",
    "\n",
    "def R_from_q(q):\n",
    "    \"\"\"Extract rotation matrix from parameterized transformation q\n",
    "\n",
    "    Parameters\n",
    "    ----------\n",
    "    q : np.array (6 x 1)\n",
    "        Parameterized transformation\n",
    "\n",
    "    Returns\n",
    "    -------\n",
    "    np.array (3 x 3)\n",
    "        Rotation matrix\n",
    "    \n",
    "    \"\"\"\n",
    "    theta = np.linalg.norm(q[3:])  # NOTE: need to wrap?\n",
    "    if theta == 0:\n",
    "        return np.eye(3)\n",
    "    else:\n",
    "        u = q[3:] / theta \n",
    "        return axis_angle_to_rot_mat(u, theta)\n",
    "\n",
    "\n",
    "def transform_normals(n, q):\n",
    "    \"\"\"Transform normals\n",
    "\n",
    "    n(q) = [...,Rn_i,...]\n",
    "\n",
    "    Parameters\n",
    "    ----------\n",
    "    n : np.array (3N x 1)\n",
    "        Stacked vector of normals\n",
    "    q : np.array (6 x 1)\n",
    "        Parameterized transformation\n",
    "\n",
    "    Returns\n",
    "    -------\n",
    "    np.array (3N x 1)\n",
    "        Transformed normals\n",
    "\n",
    "    \"\"\"\n",
    "    assert len(n) % 3 == 0, \"Invalid normals vector, length should be multiple of 3\"\n",
    "    N = int(len(n) / 3)\n",
    "\n",
    "    # Extract rotation matrix R from q \n",
    "    R = R_from_q(q)\n",
    "\n",
    "    # Apply R to n\n",
    "    n = n.reshape((3, N), order='F')\n",
    "    n = R @ n\n",
    "    n = n.reshape((3*N, 1), order='F')\n",
    "    return n\n",
    "\n",
    "\n",
    "def residual(n_s, d_s, n_t, d_t, q):\n",
    "    \"\"\"Residual for Gauss-Newton\n",
    "\n",
    "    Parameters\n",
    "    ----------\n",
    "    n_s : np.array (3N x 1)\n",
    "        Stacked vector of source normals\n",
    "    d_s : np.array (N x 1)\n",
    "        Stacked vector of source distances\n",
    "    n_t : np.array (3N x 1)\n",
    "        Stacked vector of target normals\n",
    "    d_t : np.array (N x 1)\n",
    "        Stacked vector of target distances\n",
    "    q : np.array (6 x 1)\n",
    "        Parameterized transformation\n",
    "\n",
    "    Returns\n",
    "    -------\n",
    "    r : np.array (4N x 1)\n",
    "        Stacked vector of plane-to-plane error residuals\n",
    "    n_q : np.array (3N x 1)\n",
    "        Source normals transformed by q\n",
    "    \n",
    "    \"\"\"\n",
    "    n_q = transform_normals(n_s, q)\n",
    "\n",
    "    # Transform distances\n",
    "    t = q[:3]\n",
    "    d_q = d_s + n_q.reshape((-1,3)) @ t \n",
    "\n",
    "    r = np.vstack((n_q - n_t, d_q - d_t))\n",
    "    return r, n_q\n",
    "    \n",
    "\n",
    "def jacobian(n_s, n_q):\n",
    "    \"\"\"Jacobian for Gauss-Newton\n",
    "    \n",
    "    Parameters\n",
    "    ----------\n",
    "    n_s : np.array (3N x 1)\n",
    "        Stacked vector of source normals\n",
    "    n_q : np.array (3N x 1)\n",
    "        Source normals transformed by q\n",
    "\n",
    "    Returns\n",
    "    -------\n",
    "    J : np.array (4N x 6)\n",
    "        Jacobian matrix of residual function with respect to q\n",
    "\n",
    "    \"\"\"\n",
    "    assert len(n_s) % 3 == 0, \"Invalid normals vector, length should be multiple of 3\"\n",
    "    N = int(len(n_s) / 3)\n",
    "\n",
    "    J = np.empty((4*N,6))\n",
    "\n",
    "    for i in range(N):\n",
    "        Rn_i = n_q[3*i:3*i+3].flatten()\n",
    "        J[4*i:4*i+3,0:3] = np.zeros((3,3))\n",
    "        J[4*i:4*i+3,3:6] = skew(Rn_i)\n",
    "        J[4*i+3,0:3] = -Rn_i\n",
    "        J[4*i+3,3:6] = np.zeros(3)\n",
    "    \n",
    "    return J"
   ]
  },
  {
   "cell_type": "code",
   "execution_count": null,
   "metadata": {},
   "outputs": [],
   "source": [
    "t = np.array([10, 0, 0])[:,None]\n",
    "u = np.array([1, 0, 0])[:,None]\n",
    "theta = 0\n",
    "q = np.vstack((t, theta*u))"
   ]
  },
  {
   "cell_type": "code",
   "execution_count": null,
   "metadata": {},
   "outputs": [],
   "source": [
    "r, n_q = residual(n_s, d_s, n_t, d_t, q)\n",
    "jacobian(n_s, n_q)"
   ]
  },
  {
   "cell_type": "code",
   "execution_count": null,
   "metadata": {},
   "outputs": [],
   "source": [
    "# Initial transformation\n",
    "t = np.zeros((3,1))\n",
    "u = np.array([1, 0, 0])[:,None]\n",
    "theta = 0\n",
    "q = np.vstack((t, theta*u))\n",
    "\n",
    "\n",
    "# Gauss-Newton\n",
    "n_iters = 5\n",
    "\n",
    "for i in range(n_iters):\n",
    "    r, n_q = residual(n_s, d_s, n_t, d_t, q)\n",
    "    J = jacobian(n_s, n_q)\n",
    "    q = q - np.linalg.inv(J.T @ J) @ J.T @ r"
   ]
  }
 ],
 "metadata": {
  "interpreter": {
   "hash": "b585e665bce1ccbefa5eda0ece21e432dc86e0e8165acc8779a1295e00a6ba38"
  },
  "kernelspec": {
   "display_name": "Python 3.7.13 ('planeslam')",
   "language": "python",
   "name": "python3"
  },
  "language_info": {
   "codemirror_mode": {
    "name": "ipython",
    "version": 3
   },
   "file_extension": ".py",
   "mimetype": "text/x-python",
   "name": "python",
   "nbconvert_exporter": "python",
   "pygments_lexer": "ipython3",
   "version": "3.7.13"
  },
  "orig_nbformat": 4
 },
 "nbformat": 4,
 "nbformat_minor": 2
}
