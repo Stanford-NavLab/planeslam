{
 "cells": [
  {
   "cell_type": "markdown",
   "metadata": {},
   "source": [
    "# Test plane-based registration"
   ]
  },
  {
   "cell_type": "code",
   "execution_count": null,
   "metadata": {},
   "outputs": [],
   "source": [
    "%matplotlib widget\n",
    "import numpy as np\n",
    "import matplotlib.pyplot as plt\n",
    "from matplotlib import cm\n",
    "import os\n",
    "from scipy.spatial.transform import Rotation as R\n",
    "\n",
    "import planeslam.io as io\n",
    "from planeslam.general import plot_3D_setup, color_legend\n",
    "from planeslam.scan import pc_to_scan\n",
    "from planeslam.registration import get_correspondences"
   ]
  },
  {
   "cell_type": "markdown",
   "metadata": {},
   "source": [
    "Read in airsim LiDAR and pose data"
   ]
  },
  {
   "cell_type": "code",
   "execution_count": null,
   "metadata": {},
   "outputs": [],
   "source": [
    "# Read in point cloud data\n",
    "binpath = os.path.join(os.getcwd(),'..', '..', 'data', 'airsim', 'blocks_20_samples_1', 'lidar', 'Drone0')\n",
    "PC_data = io.read_lidar_bin(binpath)"
   ]
  },
  {
   "cell_type": "code",
   "execution_count": null,
   "metadata": {},
   "outputs": [],
   "source": [
    "# Read in ground-truth poses (in drone local frame)\n",
    "posepath = os.path.join(os.getcwd(),'..', '..', 'data', 'airsim', 'blocks_20_samples_1', 'poses', 'Drone0')\n",
    "drone_positions, drone_orientations = io.read_poses(posepath)"
   ]
  },
  {
   "cell_type": "markdown",
   "metadata": {},
   "source": [
    "Extract planes "
   ]
  },
  {
   "cell_type": "code",
   "execution_count": null,
   "metadata": {},
   "outputs": [],
   "source": [
    "num_scans = len(PC_data)\n",
    "scans = num_scans * [None]\n",
    "scans_transformed = num_scans * [None]\n",
    "for i in range(num_scans):\n",
    "    scans[i] = pc_to_scan(PC_data[i])"
   ]
  },
  {
   "cell_type": "code",
   "execution_count": null,
   "metadata": {},
   "outputs": [],
   "source": [
    "# ax = plot_3D_setup(PC_data[0])\n",
    "# cmap = cm.get_cmap('viridis')\n",
    "# cmap_idxs = int(len(cmap.colors) / num_scans) * np.arange(num_scans)\n",
    "# colors = np.asarray(cmap.colors)[cmap_idxs,:]\n",
    "\n",
    "# for i, s in enumerate(scans):\n",
    "#     s.plot(ax, color=colors[i])"
   ]
  },
  {
   "cell_type": "markdown",
   "metadata": {},
   "source": [
    "Get correspondences"
   ]
  },
  {
   "cell_type": "code",
   "execution_count": null,
   "metadata": {},
   "outputs": [],
   "source": [
    "# Plot first 2 scans\n",
    "ax = plot_3D_setup(PC_data[0])\n",
    "for i, scan in enumerate(scans[0:2]):\n",
    "    scan.plot(ax, show_normals=True)\n",
    "\n",
    "# Color legend\n",
    "num_colors = max([len(s.planes) for s in scans[0:2]])\n",
    "color_legend(ax, num_colors)"
   ]
  },
  {
   "cell_type": "code",
   "execution_count": null,
   "metadata": {},
   "outputs": [],
   "source": [
    "P = scans[0]\n",
    "Q = scans[1]\n",
    "correspondences = get_correspondences(P, Q)"
   ]
  },
  {
   "cell_type": "code",
   "execution_count": null,
   "metadata": {},
   "outputs": [],
   "source": [
    "correspondences"
   ]
  },
  {
   "cell_type": "markdown",
   "metadata": {},
   "source": [
    "Test Gauss-Newton registration"
   ]
  },
  {
   "cell_type": "code",
   "execution_count": null,
   "metadata": {},
   "outputs": [],
   "source": [
    "def transform_normals(n, q):\n",
    "    \"\"\"Transform normals\n",
    "\n",
    "    n(q) = [...,Rn_i,...]\n",
    "\n",
    "    \"\"\"\n",
    "\n",
    "def transform_dists(rho, n, q):\n",
    "    \"\"\"Transform dists\n",
    "\n",
    "    rho(q) = [...,(R n_i)^T t + rho_i,...]\n",
    "\n",
    "    \"\"\"\n",
    "\n",
    "\n",
    "def residual(n_s, rho_s, n_t, rho_t, q):\n",
    "    \"\"\"Residual for Gauss-Newton\n",
    "    \n",
    "    \"\"\"\n",
    "    \n",
    "\n",
    "\n",
    "def jacobian(n_s, q):\n",
    "    \"\"\"Jacobian for Gauss-Newton\n",
    "    \n",
    "    \"\"\""
   ]
  },
  {
   "cell_type": "code",
   "execution_count": null,
   "metadata": {},
   "outputs": [],
   "source": [
    "scans[0][0].normal"
   ]
  },
  {
   "cell_type": "code",
   "execution_count": null,
   "metadata": {},
   "outputs": [],
   "source": [
    "# Get n's and rho's\n",
    "n_s = np.array((3,len(scans[0])))"
   ]
  },
  {
   "cell_type": "code",
   "execution_count": null,
   "metadata": {},
   "outputs": [],
   "source": [
    "# Initial transformation\n",
    "t = np.zeros((3,1))\n",
    "u = np.array([1, 0, 0])[:,None]\n",
    "theta = 0\n",
    "q = np.vstack((t, theta*u))\n",
    "\n",
    "\n",
    "# Gauss-Newton\n",
    "n_iters = 5\n",
    "\n",
    "for i in range(n_iters):\n",
    "    J = jacobian(n_s, q)\n",
    "    q = q - np.linalg.inv(J.T @ J) @ J.T residual(n_s, rho_s, n_t, rho_t, q)"
   ]
  }
 ],
 "metadata": {
  "interpreter": {
   "hash": "cb468a8bbd71ee67ef9f48802575221c6bc0da5f02cb6cb243ccdc58c1f5deea"
  },
  "kernelspec": {
   "display_name": "Python 3.7.13 ('planeslam')",
   "language": "python",
   "name": "python3"
  },
  "language_info": {
   "codemirror_mode": {
    "name": "ipython",
    "version": 3
   },
   "file_extension": ".py",
   "mimetype": "text/x-python",
   "name": "python",
   "nbconvert_exporter": "python",
   "pygments_lexer": "ipython3",
   "version": "3.7.13"
  },
  "orig_nbformat": 4
 },
 "nbformat": 4,
 "nbformat_minor": 2
}
