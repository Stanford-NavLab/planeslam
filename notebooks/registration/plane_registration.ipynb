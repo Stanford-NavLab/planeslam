{
 "cells": [
  {
   "cell_type": "markdown",
   "metadata": {},
   "source": [
    "# Test plane-based registration\n",
    "Test different plane-based registration methods"
   ]
  },
  {
   "cell_type": "code",
   "execution_count": 1,
   "metadata": {},
   "outputs": [],
   "source": [
    "%matplotlib widget\n",
    "import numpy as np\n",
    "import matplotlib.pyplot as plt\n",
    "import os\n",
    "import time\n",
    "import torch\n",
    "\n",
    "import planeslam.io as io\n",
    "from planeslam.general import plot_3D_setup, color_legend\n",
    "from planeslam.scan import pc_to_scan\n",
    "from planeslam.registration import get_correspondences, extract_corresponding_features\n",
    "from planeslam.geometry.util import quat_to_rot_mat\n",
    "\n",
    "%load_ext autoreload\n",
    "%autoreload 2"
   ]
  },
  {
   "cell_type": "markdown",
   "metadata": {},
   "source": [
    "### Load AirSim data"
   ]
  },
  {
   "cell_type": "code",
   "execution_count": 2,
   "metadata": {},
   "outputs": [],
   "source": [
    "# Read in point cloud data\n",
    "binpath = os.path.join(os.getcwd(), '..', '..', 'data', 'airsim', 'blocks_20_samples_1', 'lidar', 'Drone0')\n",
    "PC_data = io.read_lidar_bin(binpath)\n",
    "\n",
    "# Read in ground-truth poses (in drone local frame)\n",
    "posepath = os.path.join(os.getcwd(), '..', '..', 'data', 'airsim', 'blocks_20_samples_1', 'poses', 'Drone0')\n",
    "drone_positions, drone_orientations = io.read_poses(posepath)"
   ]
  },
  {
   "cell_type": "code",
   "execution_count": 3,
   "metadata": {},
   "outputs": [],
   "source": [
    "# Extract scans\n",
    "num_scans = len(PC_data)\n",
    "scans = num_scans * [None]\n",
    "scans_transformed = num_scans * [None]\n",
    "for i in range(num_scans):\n",
    "    scans[i] = pc_to_scan(PC_data[i])"
   ]
  },
  {
   "cell_type": "markdown",
   "metadata": {},
   "source": [
    "### Decoupled"
   ]
  },
  {
   "cell_type": "code",
   "execution_count": 4,
   "metadata": {},
   "outputs": [
    {
     "name": "stdout",
     "output_type": "stream",
     "text": [
      "[[ 4.17561936e+01]\n",
      " [-6.91389945e-02]\n",
      " [ 2.35085002e+02]]\n",
      "[[-4.93224409e+01]\n",
      " [ 6.85646618e-14]\n",
      " [ 5.25042913e+00]]\n",
      "[[-73.93652591]\n",
      " [ -0.26256389]\n",
      " [  8.19982805]]\n",
      "[[ 3.96851642]\n",
      " [ 0.02358479]\n",
      " [-0.21498566]]\n",
      "[[ 3.98560873e+00]\n",
      " [-1.96732949e-03]\n",
      " [-1.28063227e-01]]\n",
      "[[ 2.30098658]\n",
      " [-0.00383921]\n",
      " [-0.02968871]]\n",
      "[[ 4.49636042]\n",
      " [-0.01993057]\n",
      " [-0.03203159]]\n",
      "[[ 4.86525903]\n",
      " [ 0.00808046]\n",
      " [-0.05318259]]\n",
      "[[ 4.38436669e+00]\n",
      " [-3.92347594e-03]\n",
      " [-7.51966504e-03]]\n",
      "[[ 4.28062767e+00]\n",
      " [-2.01415903e-01]\n",
      " [ 8.76014594e-04]]\n",
      "[[ 4.51646742]\n",
      " [ 0.14195673]\n",
      " [-0.08669257]]\n",
      "[[ 1.12253149e+01]\n",
      " [-8.96304618e-03]\n",
      " [-8.63307625e+00]]\n",
      "[[-12.44248494]\n",
      " [ -0.17425084]\n",
      " [ 45.92897225]]\n",
      "[[1.22454902e+03]\n",
      " [3.76937261e+00]\n",
      " [5.35459938e+03]]\n",
      "[[-0.56798381]\n",
      " [ 0.06901303]\n",
      " [-0.10303344]]\n",
      "[[-3.28092888e+01]\n",
      " [-1.45730019e-02]\n",
      " [ 1.48726002e+01]]\n",
      "[[0.54583353]\n",
      " [0.02485906]\n",
      " [0.03897516]]\n",
      "[[ 0.05576875]\n",
      " [-0.02552299]\n",
      " [-0.0209569 ]]\n",
      "[[-0.25355929]\n",
      " [ 0.005749  ]\n",
      " [ 0.03889906]]\n",
      "average registration time:  0.0020004573621247943\n"
     ]
    }
   ],
   "source": [
    "from planeslam.registration import decoupled_register\n",
    "\n",
    "abs_traj_transformations = np.zeros((num_scans-1,4,4))\n",
    "T_abs = np.eye(4)\n",
    "avg_runtime = 0\n",
    "\n",
    "for i in range(len(scans)-1):\n",
    "    start_time = time.time()\n",
    "    R_hat, t_hat = decoupled_register(scans[i+1], scans[i])\n",
    "    avg_runtime += time.time() - start_time\n",
    "    print(t_hat)\n",
    "    T_hat = np.vstack((np.hstack((R_hat, t_hat)), np.hstack((np.zeros(3), 1))))\n",
    "    T_abs = T_hat @ T_abs\n",
    "    abs_traj_transformations[i,:,:] = T_abs\n",
    "\n",
    "avg_runtime /= len(scans)-1\n",
    "print(\"average registration time: \", avg_runtime)"
   ]
  },
  {
   "cell_type": "markdown",
   "metadata": {},
   "source": [
    "### Gauss-newton"
   ]
  },
  {
   "cell_type": "code",
   "execution_count": 5,
   "metadata": {},
   "outputs": [
    {
     "name": "stdout",
     "output_type": "stream",
     "text": [
      "[[30.65781317]\n",
      " [11.14045758]\n",
      " [24.75049124]]\n",
      "[[-2.30432372]\n",
      " [ 0.41884598]\n",
      " [ 2.66917582]]\n",
      "[[32.10861411]\n",
      " [-1.59487608]\n",
      " [-2.7139839 ]]\n",
      "[[ 1.13175403]\n",
      " [-1.19555816]\n",
      " [-0.70387388]]\n",
      "[[ 4.46552276]\n",
      " [-2.58861795]\n",
      " [ 0.43554267]]\n",
      "[[ 2.57591884]\n",
      " [-1.27890639]\n",
      " [ 1.22939859]]\n",
      "[[ 1.01337052]\n",
      " [ 4.24488642]\n",
      " [-1.43561391]]\n",
      "[[ 1.88583322]\n",
      " [ 4.58631592]\n",
      " [-4.81763078]]\n",
      "[[ 1.66215405]\n",
      " [ 0.64699314]\n",
      " [-0.33533968]]\n",
      "[[0.38770594]\n",
      " [2.62742646]\n",
      " [0.32078439]]\n",
      "[[0.36142706]\n",
      " [2.24109746]\n",
      " [1.70968005]]\n",
      "[[  7.17623909]\n",
      " [ 29.53666312]\n",
      " [-52.35872499]]\n",
      "[[8.69197295]\n",
      " [0.06868411]\n",
      " [2.63284572]]\n",
      "[[8.61138632]\n",
      " [0.45126762]\n",
      " [6.60660178]]\n",
      "[[0.59507523]\n",
      " [1.97110034]\n",
      " [0.14642334]]\n",
      "[[0.45874694]\n",
      " [1.2864742 ]\n",
      " [2.1262965 ]]\n",
      "[[-0.97621036]\n",
      " [ 0.07816455]\n",
      " [ 0.05089134]]\n",
      "[[0.16688146]\n",
      " [0.0009609 ]\n",
      " [0.02947214]]\n",
      "[[-0.03333937]\n",
      " [ 0.21852243]\n",
      " [ 1.64766113]]\n",
      "average registration time:  0.0013076757129869964\n"
     ]
    }
   ],
   "source": [
    "from planeslam.registration import GN_register\n",
    "\n",
    "abs_traj_transformations = np.zeros((num_scans-1,4,4))\n",
    "T_abs = np.eye(4)\n",
    "avg_runtime = 0\n",
    "\n",
    "for i in range(len(scans)-1):\n",
    "    start_time = time.time()\n",
    "    R_hat, t_hat = GN_register(scans[i+1], scans[i])\n",
    "    avg_runtime += time.time() - start_time\n",
    "    print(t_hat)\n",
    "    T_hat = np.vstack((np.hstack((R_hat, t_hat)), np.hstack((np.zeros(3), 1))))\n",
    "    T_abs = T_hat @ T_abs\n",
    "    abs_traj_transformations[i,:,:] = T_abs\n",
    "\n",
    "avg_runtime /= len(scans)-1\n",
    "print(\"average registration time: \", avg_runtime)"
   ]
  },
  {
   "cell_type": "markdown",
   "metadata": {},
   "source": [
    "### Torch GN"
   ]
  },
  {
   "cell_type": "code",
   "execution_count": 6,
   "metadata": {},
   "outputs": [],
   "source": [
    "# Set torch device\n",
    "if torch.cuda.is_available():\n",
    "    device = torch.device(\"cuda:0\")\n",
    "else:\n",
    "    device = torch.device(\"cpu\")\n",
    "    print(\"WARNING: CPU only, this will be slow!\")"
   ]
  },
  {
   "cell_type": "code",
   "execution_count": 30,
   "metadata": {},
   "outputs": [
    {
     "name": "stdout",
     "output_type": "stream",
     "text": [
      "final loss:  tensor(13.9194, device='cuda:0')\n",
      "final loss:  tensor(3.5951, device='cuda:0')\n",
      "final loss:  tensor(3.6772, device='cuda:0')\n",
      "final loss:  tensor(0.0655, device='cuda:0')\n",
      "final loss:  tensor(16.9326, device='cuda:0')\n",
      "final loss:  tensor(9.3114, device='cuda:0')\n",
      "final loss:  tensor(1.5119, device='cuda:0')\n",
      "final loss:  tensor(1.5656, device='cuda:0')\n",
      "final loss:  tensor(1.0765, device='cuda:0')\n",
      "final loss:  tensor(0.6230, device='cuda:0')\n",
      "final loss:  tensor(2.5295, device='cuda:0')\n",
      "final loss:  tensor(0.0006, device='cuda:0')\n",
      "final loss:  tensor(3370.4016, device='cuda:0')\n",
      "final loss:  tensor(0.0943, device='cuda:0')\n",
      "final loss:  tensor(1.2914, device='cuda:0')\n",
      "final loss:  tensor(0.0487, device='cuda:0')\n",
      "final loss:  tensor(0.0130, device='cuda:0')\n",
      "final loss:  tensor(0.0011, device='cuda:0')\n",
      "final loss:  tensor(0.0401, device='cuda:0')\n",
      "average registration time:  0.13360580645109477\n"
     ]
    }
   ],
   "source": [
    "from planeslam.registration import torch_GN_register\n",
    "\n",
    "abs_traj_transformations = np.zeros((num_scans-1,4,4))\n",
    "T_abs = np.eye(4)\n",
    "avg_runtime = 0\n",
    "\n",
    "for i in range(len(scans)-1):\n",
    "    start_time = time.time()\n",
    "    R_hat, t_hat = torch_GN_register(scans[i+1], scans[i], device)\n",
    "    avg_runtime += time.time() - start_time\n",
    "    T_hat = np.vstack((np.hstack((R_hat, t_hat)), np.hstack((np.zeros(3), 1))))\n",
    "    T_abs = T_hat @ T_abs\n",
    "    abs_traj_transformations[i,:,:] = T_abs\n",
    "\n",
    "avg_runtime /= len(scans)-1\n",
    "print(\"average registration time: \", avg_runtime)"
   ]
  },
  {
   "cell_type": "code",
   "execution_count": 28,
   "metadata": {},
   "outputs": [
    {
     "data": {
      "text/plain": [
       "array([[ 4.02110e+02,  4.63000e+00,  4.61200e+01],\n",
       "       [-3.22110e+02,  6.28000e+00, -2.29240e+02],\n",
       "       [-3.05600e+02,  5.54000e+00, -2.13800e+02],\n",
       "       [-3.03550e+02,  6.37000e+00, -2.11180e+02],\n",
       "       [-3.01070e+02,  4.11000e+00, -2.09180e+02],\n",
       "       [-3.01170e+02,  1.83000e+00, -2.08840e+02],\n",
       "       [-2.93550e+02,  3.15000e+00, -2.13130e+02],\n",
       "       [-2.86940e+02, -1.16000e+00, -2.15560e+02],\n",
       "       [-2.83100e+02,  1.99000e+00, -2.14860e+02],\n",
       "       [-2.75800e+02,  5.04000e+00, -2.18620e+02],\n",
       "       [-2.84020e+02,  4.82000e+00, -2.01610e+02],\n",
       "       [-2.85630e+02,  5.57000e+00, -1.74790e+02],\n",
       "       [ 3.10210e+02,  9.39000e+00, -7.09390e+02],\n",
       "       [-6.46040e+02,  4.89000e+00, -5.27140e+02],\n",
       "       [-6.87970e+02,  4.45000e+00, -4.72030e+02],\n",
       "       [ 1.00957e+03, -3.40060e+02,  2.74723e+03],\n",
       "       [ 1.12655e+03, -3.33350e+02,  2.70246e+03],\n",
       "       [ 9.89190e+02, -3.33290e+02,  2.75571e+03],\n",
       "       [ 9.44690e+02, -5.17030e+02,  2.74291e+03]])"
      ]
     },
     "execution_count": 28,
     "metadata": {},
     "output_type": "execute_result"
    }
   ],
   "source": [
    "np.round(abs_traj_transformations[:,:3,3],2)"
   ]
  },
  {
   "cell_type": "code",
   "execution_count": 12,
   "metadata": {},
   "outputs": [],
   "source": [
    "filepath = os.path.join(os.getcwd(), '..', '..', 'data', 'results', 'l2l_abs_traj_transformations')\n",
    "np.save(filepath, np.array(abs_traj_transformations))"
   ]
  },
  {
   "cell_type": "markdown",
   "metadata": {},
   "source": [
    "### Torch SGD"
   ]
  },
  {
   "cell_type": "code",
   "execution_count": 31,
   "metadata": {},
   "outputs": [
    {
     "name": "stdout",
     "output_type": "stream",
     "text": [
      "Final loss:  13.919158  iterations:  250\n",
      "Final loss:  4.551803  iterations:  250\n",
      "Final loss:  3.7154603  iterations:  250\n",
      "Final loss:  0.012677892  iterations:  250\n",
      "Final loss:  16.934322  iterations:  250\n",
      "Final loss:  9.330257  iterations:  250\n",
      "Final loss:  18.79165  iterations:  250\n",
      "Final loss:  596.68036  iterations:  250\n",
      "Final loss:  5.659542  iterations:  250\n",
      "Final loss:  0.62301403  iterations:  250\n",
      "Final loss:  0.03943101  iterations:  250\n",
      "Final loss:  0.0070477733  iterations:  250\n",
      "Final loss:  0.026667735  iterations:  250\n",
      "Final loss:  0.14551076  iterations:  250\n",
      "Final loss:  1.2912554  iterations:  250\n",
      "Final loss:  0.048118886  iterations:  250\n",
      "Final loss:  0.0040603126  iterations:  250\n",
      "Final loss:  0.0010572921  iterations:  250\n",
      "Final loss:  0.040063262  iterations:  250\n",
      "average registration time:  1.1333631214342619\n"
     ]
    }
   ],
   "source": [
    "from planeslam.registration import torch_register\n",
    "\n",
    "abs_traj_transformations = np.zeros((num_scans-1,4,4))\n",
    "T_abs = np.eye(4)\n",
    "avg_runtime = 0\n",
    "\n",
    "for i in range(len(scans)-1):\n",
    "    start_time = time.time()\n",
    "    R_hat, t_hat = torch_register(scans[i+1], scans[i], device)\n",
    "    avg_runtime += time.time() - start_time\n",
    "    T_hat = np.vstack((np.hstack((R_hat, t_hat)), np.hstack((np.zeros(3), 1))))\n",
    "    T_abs = T_hat @ T_abs\n",
    "    abs_traj_transformations[i,:,:] = T_abs\n",
    "\n",
    "avg_runtime /= len(scans)-1\n",
    "print(\"average registration time: \", avg_runtime)"
   ]
  },
  {
   "cell_type": "code",
   "execution_count": null,
   "metadata": {},
   "outputs": [],
   "source": []
  }
 ],
 "metadata": {
  "interpreter": {
   "hash": "cb468a8bbd71ee67ef9f48802575221c6bc0da5f02cb6cb243ccdc58c1f5deea"
  },
  "kernelspec": {
   "display_name": "Python 3.7.13 ('planeslam')",
   "language": "python",
   "name": "python3"
  },
  "language_info": {
   "codemirror_mode": {
    "name": "ipython",
    "version": 3
   },
   "file_extension": ".py",
   "mimetype": "text/x-python",
   "name": "python",
   "nbconvert_exporter": "python",
   "pygments_lexer": "ipython3",
   "version": "3.7.13"
  },
  "orig_nbformat": 4
 },
 "nbformat": 4,
 "nbformat_minor": 2
}
