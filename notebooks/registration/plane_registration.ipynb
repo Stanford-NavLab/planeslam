{
 "cells": [
  {
   "cell_type": "markdown",
   "metadata": {},
   "source": [
    "# Test plane-based registration"
   ]
  },
  {
   "cell_type": "code",
   "execution_count": 1,
   "metadata": {},
   "outputs": [],
   "source": [
    "%matplotlib widget\n",
    "import numpy as np\n",
    "import matplotlib.pyplot as plt\n",
    "from matplotlib import cm\n",
    "import os\n",
    "\n",
    "import planeslam.io as io\n",
    "from planeslam.general import plot_3D_setup, color_legend\n",
    "from planeslam.scan import pc_to_scan\n",
    "from planeslam.registration import get_correspondences"
   ]
  },
  {
   "cell_type": "markdown",
   "metadata": {},
   "source": [
    "Read in airsim LiDAR and pose data"
   ]
  },
  {
   "cell_type": "code",
   "execution_count": 2,
   "metadata": {},
   "outputs": [],
   "source": [
    "# Read in point cloud data\n",
    "binpath = os.path.join(os.getcwd(),'..', '..', 'data', 'airsim', 'blocks_20_samples_1', 'lidar', 'Drone0')\n",
    "PC_data = io.read_lidar_bin(binpath)"
   ]
  },
  {
   "cell_type": "code",
   "execution_count": 3,
   "metadata": {},
   "outputs": [],
   "source": [
    "# Read in ground-truth poses (in drone local frame)\n",
    "posepath = os.path.join(os.getcwd(),'..', '..', 'data', 'airsim', 'blocks_20_samples_1', 'poses', 'Drone0')\n",
    "drone_positions, drone_orientations = io.read_poses(posepath)"
   ]
  },
  {
   "cell_type": "markdown",
   "metadata": {},
   "source": [
    "Extract planes "
   ]
  },
  {
   "cell_type": "code",
   "execution_count": 4,
   "metadata": {},
   "outputs": [],
   "source": [
    "num_scans = len(PC_data)\n",
    "scans = num_scans * [None]\n",
    "scans_transformed = num_scans * [None]\n",
    "for i in range(num_scans):\n",
    "    scans[i] = pc_to_scan(PC_data[i])"
   ]
  },
  {
   "cell_type": "code",
   "execution_count": 5,
   "metadata": {},
   "outputs": [],
   "source": [
    "# ax = plot_3D_setup(PC_data[0])\n",
    "# cmap = cm.get_cmap('viridis')\n",
    "# cmap_idxs = int(len(cmap.colors) / num_scans) * np.arange(num_scans)\n",
    "# colors = np.asarray(cmap.colors)[cmap_idxs,:]\n",
    "\n",
    "# for i, s in enumerate(scans):\n",
    "#     s.plot(ax, color=colors[i])"
   ]
  },
  {
   "cell_type": "markdown",
   "metadata": {},
   "source": [
    "Get correspondences"
   ]
  },
  {
   "cell_type": "code",
   "execution_count": 5,
   "metadata": {},
   "outputs": [],
   "source": [
    "# # Plot first 2 scans\n",
    "# ax = plot_3D_setup(PC_data[0])\n",
    "# for i, scan in enumerate(scans[0:2]):\n",
    "#     scan.plot(ax, show_normals=True)\n",
    "\n",
    "# # Color legend\n",
    "# num_colors = max([len(s.planes) for s in scans[0:2]])\n",
    "# color_legend(ax, num_colors)"
   ]
  },
  {
   "cell_type": "code",
   "execution_count": 6,
   "metadata": {},
   "outputs": [
    {
     "name": "stdout",
     "output_type": "stream",
     "text": [
      "1 1\n",
      "3 3\n",
      "5 4\n"
     ]
    }
   ],
   "source": [
    "P = scans[0]\n",
    "Q = scans[1]\n",
    "correspondences = get_correspondences(P, Q)"
   ]
  },
  {
   "cell_type": "code",
   "execution_count": null,
   "metadata": {},
   "outputs": [],
   "source": [
    "def extract_corresponding_features(P, Q):\n",
    "    \"\"\"Extract corresponding normals and distances for source and target scans\n",
    "\n",
    "    Parameters\n",
    "    ----------\n",
    "    P : Scan\n",
    "        Source scan\n",
    "    Q : Scan\n",
    "        Target scan\n",
    "    \n",
    "    \"\"\"\n",
    "    correspondences = get_correspondences(P, Q)\n",
    "\n",
    "    for c in correspondences:\n",
    "\n",
    "    N = len(scan.planes)\n",
    "    n = np.empty((3,N))\n",
    "    rho = np.empty((N,1))\n",
    "\n",
    "    for i in range(N):\n",
    "        normal = scan.planes[i].normal\n",
    "        center = scan.planes[i].center\n",
    "        n[:,i][:,None] = normal\n",
    "        rho[i] = np.dot(normal.flatten(), center)\n",
    "\n",
    "    n = n.reshape((3*N,1))\n",
    "\n",
    "    return n, rho"
   ]
  },
  {
   "cell_type": "code",
   "execution_count": null,
   "metadata": {},
   "outputs": [],
   "source": [
    "# Extract normals and distances\n"
   ]
  },
  {
   "cell_type": "markdown",
   "metadata": {},
   "source": [
    "Test Gauss-Newton registration"
   ]
  },
  {
   "cell_type": "code",
   "execution_count": 24,
   "metadata": {},
   "outputs": [],
   "source": [
    "from planeslam.geometry.util import axis_angle_to_rot_mat\n",
    "\n",
    "\n",
    "def R_from_q(q):\n",
    "    \"\"\"Extract rotation matrix from parameterized transformation q\n",
    "\n",
    "    Parameters\n",
    "    ----------\n",
    "    q : np.array (6 x 1)\n",
    "        Parameterized transformation\n",
    "\n",
    "    Returns\n",
    "    -------\n",
    "    np.array (3 x 3)\n",
    "        Rotation matrix\n",
    "    \n",
    "    \"\"\"\n",
    "    theta = np.linalg.norm(q[3:])  # NOTE: need to wrap?\n",
    "    if theta == 0:\n",
    "        return np.eye(3)\n",
    "    else:\n",
    "        u = q[3:] / theta \n",
    "        return axis_angle_to_rot_mat(u, theta)\n",
    "\n",
    "\n",
    "def transform_normals(n, q):\n",
    "    \"\"\"Transform normals\n",
    "\n",
    "    n(q) = [...,Rn_i,...]\n",
    "\n",
    "    Parameters\n",
    "    ----------\n",
    "    n : np.array (3N x 1)\n",
    "        Stacked vector of normals\n",
    "    q : np.array (6 x 1)\n",
    "        Parameterized transformation\n",
    "\n",
    "    Returns\n",
    "    -------\n",
    "    np.array (3N x 1)\n",
    "        Transformed normals\n",
    "\n",
    "    \"\"\"\n",
    "    assert len(n) % 3 == 0, \"Invalid normals vector, length should be multiple of 3\"\n",
    "    N = int(len(n) / 3)\n",
    "\n",
    "    # Extract rotation matrix R from q \n",
    "    R = R_from_q(q)\n",
    "\n",
    "    # Apply R to n\n",
    "    n = n.reshape((3, N), order='F')\n",
    "    n = R @ n\n",
    "    n = n.reshape((3*N, 1), order='F')\n",
    "    return n\n",
    "\n",
    "\n",
    "def transform_dists(rho, n, q):\n",
    "    \"\"\"Transform distances\n",
    "\n",
    "    rho(q) = [...,(R n_i)^T t + rho_i,...]\n",
    "\n",
    "    Parameters\n",
    "    ----------\n",
    "    rho : np.array (N x 1)\n",
    "        Stacked vector of distances\n",
    "    n : np.array (3N x 1)\n",
    "        Stacked vector of normals\n",
    "    q : np.array (6 x 1)\n",
    "        Parameterized transformation\n",
    "\n",
    "    Returns\n",
    "    -------\n",
    "    np.array (N x 1)\n",
    "        Transformed distances\n",
    "\n",
    "    \"\"\"\n",
    "    t = q[:3]\n",
    "    Rn = transform_normals(n, q)\n",
    "    Rn = Rn.reshape((-1,3))\n",
    "    return rho + Rn @ t\n",
    "\n",
    "\n",
    "def residual(n_s, rho_s, n_t, rho_t, q):\n",
    "    \"\"\"Residual for Gauss-Newton\n",
    "\n",
    "    Parameters\n",
    "    ----------\n",
    "    n_s : np.array (3N x 1)\n",
    "        Stacked vector of source normals\n",
    "    rho_s : np.array (N x 1)\n",
    "        Stacked vector of source distances\n",
    "    n_t : np.array (3N x 1)\n",
    "        Stacked vector of target normals\n",
    "    rho_t : np.array (N x 1)\n",
    "        Stacked vector of target distances\n",
    "    q : np.array (6 x 1)\n",
    "        Parameterized transformation\n",
    "\n",
    "    Returns\n",
    "    -------\n",
    "    np.array (4N x 1)\n",
    "        Stacked vector of plane-to-plane error residuals\n",
    "    \n",
    "    \"\"\"\n",
    "    n_q = transform_normals(n_s, q)\n",
    "\n",
    "    # Transform distances\n",
    "    t = q[:3]\n",
    "    rho_q = rho_s + n_q.reshape((-1,3)) @ t \n",
    "\n",
    "    return np.vstack((n_q - n_t, rho_q - rho_t))\n",
    "    \n",
    "\n",
    "\n",
    "def jacobian(n_s, q):\n",
    "    \"\"\"Jacobian for Gauss-Newton\n",
    "    \n",
    "    \"\"\""
   ]
  },
  {
   "cell_type": "code",
   "execution_count": 28,
   "metadata": {},
   "outputs": [],
   "source": [
    "# Get n's and rho's\n",
    "n_s, rho_s = n_rho_from_scan(scans[0])\n",
    "n_t, rho_t = n_rho_from_scan(scans[1])"
   ]
  },
  {
   "cell_type": "code",
   "execution_count": 19,
   "metadata": {},
   "outputs": [],
   "source": [
    "t = np.array([10, 0, 0])[:,None]\n",
    "u = np.array([1, 0, 0])[:,None]\n",
    "theta = np.pi/2\n",
    "q = np.vstack((t, theta*u))"
   ]
  },
  {
   "cell_type": "code",
   "execution_count": 29,
   "metadata": {},
   "outputs": [
    {
     "ename": "ValueError",
     "evalue": "operands could not be broadcast together with shapes (18,1) (21,1) ",
     "output_type": "error",
     "traceback": [
      "\u001b[1;31m---------------------------------------------------------------------------\u001b[0m",
      "\u001b[1;31mValueError\u001b[0m                                Traceback (most recent call last)",
      "\u001b[1;32m~\\AppData\\Local\\Temp\\ipykernel_24840\\599923263.py\u001b[0m in \u001b[0;36m<module>\u001b[1;34m\u001b[0m\n\u001b[1;32m----> 1\u001b[1;33m \u001b[0mresidual\u001b[0m\u001b[1;33m(\u001b[0m\u001b[0mn_s\u001b[0m\u001b[1;33m,\u001b[0m \u001b[0mrho_s\u001b[0m\u001b[1;33m,\u001b[0m \u001b[0mn_t\u001b[0m\u001b[1;33m,\u001b[0m \u001b[0mrho_t\u001b[0m\u001b[1;33m,\u001b[0m \u001b[0mq\u001b[0m\u001b[1;33m)\u001b[0m\u001b[1;33m\u001b[0m\u001b[1;33m\u001b[0m\u001b[0m\n\u001b[0m",
      "\u001b[1;32m~\\AppData\\Local\\Temp\\ipykernel_24840\\1860145812.py\u001b[0m in \u001b[0;36mresidual\u001b[1;34m(n_s, rho_s, n_t, rho_t, q)\u001b[0m\n\u001b[0;32m    109\u001b[0m     \u001b[0mrho_q\u001b[0m \u001b[1;33m=\u001b[0m \u001b[0mrho_s\u001b[0m \u001b[1;33m+\u001b[0m \u001b[0mn_q\u001b[0m\u001b[1;33m.\u001b[0m\u001b[0mreshape\u001b[0m\u001b[1;33m(\u001b[0m\u001b[1;33m(\u001b[0m\u001b[1;33m-\u001b[0m\u001b[1;36m1\u001b[0m\u001b[1;33m,\u001b[0m\u001b[1;36m3\u001b[0m\u001b[1;33m)\u001b[0m\u001b[1;33m)\u001b[0m \u001b[1;33m@\u001b[0m \u001b[0mt\u001b[0m\u001b[1;33m\u001b[0m\u001b[1;33m\u001b[0m\u001b[0m\n\u001b[0;32m    110\u001b[0m \u001b[1;33m\u001b[0m\u001b[0m\n\u001b[1;32m--> 111\u001b[1;33m     \u001b[1;32mreturn\u001b[0m \u001b[0mnp\u001b[0m\u001b[1;33m.\u001b[0m\u001b[0mvstack\u001b[0m\u001b[1;33m(\u001b[0m\u001b[1;33m(\u001b[0m\u001b[0mn_q\u001b[0m \u001b[1;33m-\u001b[0m \u001b[0mn_t\u001b[0m\u001b[1;33m,\u001b[0m \u001b[0mrho_q\u001b[0m \u001b[1;33m-\u001b[0m \u001b[0mrho_t\u001b[0m\u001b[1;33m)\u001b[0m\u001b[1;33m)\u001b[0m\u001b[1;33m\u001b[0m\u001b[1;33m\u001b[0m\u001b[0m\n\u001b[0m\u001b[0;32m    112\u001b[0m \u001b[1;33m\u001b[0m\u001b[0m\n\u001b[0;32m    113\u001b[0m \u001b[1;33m\u001b[0m\u001b[0m\n",
      "\u001b[1;31mValueError\u001b[0m: operands could not be broadcast together with shapes (18,1) (21,1) "
     ]
    }
   ],
   "source": [
    "residual(n_s, rho_s, n_t, rho_t, q)"
   ]
  },
  {
   "cell_type": "code",
   "execution_count": 20,
   "metadata": {},
   "outputs": [
    {
     "data": {
      "text/plain": [
       "array([[-4.55292970e-04],\n",
       "       [ 9.99999818e-01],\n",
       "       [-1.31836837e-04],\n",
       "       [-6.59782071e-03],\n",
       "       [-2.25731767e-02],\n",
       "       [ 9.79675056e-03],\n",
       "       [ 2.19370533e-04],\n",
       "       [-5.81487471e-04],\n",
       "       [-9.99999965e-01],\n",
       "       [ 9.99978234e-01],\n",
       "       [ 9.99687449e-01],\n",
       "       [-9.25331724e-01],\n",
       "       [-9.99999872e-01],\n",
       "       [-1.57771361e-04],\n",
       "       [-2.29716127e-04],\n",
       "       [ 1.13268707e-06],\n",
       "       [ 1.07423204e-02],\n",
       "       [-3.79010715e-01]])"
      ]
     },
     "execution_count": 20,
     "metadata": {},
     "output_type": "execute_result"
    }
   ],
   "source": [
    "transform_normals(n_s, q)"
   ]
  },
  {
   "cell_type": "code",
   "execution_count": null,
   "metadata": {},
   "outputs": [],
   "source": [
    "# Initial transformation\n",
    "t = np.zeros((3,1))\n",
    "u = np.array([1, 0, 0])[:,None]\n",
    "theta = 0\n",
    "q = np.vstack((t, theta*u))\n",
    "\n",
    "\n",
    "# Gauss-Newton\n",
    "n_iters = 5\n",
    "\n",
    "for i in range(n_iters):\n",
    "    J = jacobian(n_s, q)\n",
    "    q = q - np.linalg.inv(J.T @ J) @ J.T @ residual(n_s, rho_s, n_t, rho_t, q)"
   ]
  }
 ],
 "metadata": {
  "interpreter": {
   "hash": "cb468a8bbd71ee67ef9f48802575221c6bc0da5f02cb6cb243ccdc58c1f5deea"
  },
  "kernelspec": {
   "display_name": "Python 3.7.13 ('planeslam')",
   "language": "python",
   "name": "python3"
  },
  "language_info": {
   "codemirror_mode": {
    "name": "ipython",
    "version": 3
   },
   "file_extension": ".py",
   "mimetype": "text/x-python",
   "name": "python",
   "nbconvert_exporter": "python",
   "pygments_lexer": "ipython3",
   "version": "3.7.13"
  },
  "orig_nbformat": 4
 },
 "nbformat": 4,
 "nbformat_minor": 2
}
