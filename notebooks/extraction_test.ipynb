{
 "cells": [
  {
   "cell_type": "markdown",
   "metadata": {},
   "source": [
    "# Test plane extraction for a single point cloud"
   ]
  },
  {
   "cell_type": "code",
   "execution_count": null,
   "metadata": {},
   "outputs": [],
   "source": [
    "%matplotlib widget\n",
    "import numpy as np\n",
    "import matplotlib.pyplot as plt\n",
    "from matplotlib import cm\n",
    "import os\n",
    "import time\n",
    "import open3d as o3d\n",
    "\n",
    "import planeslam.general as general\n",
    "from planeslam.mesh import LidarMesh\n",
    "from planeslam.scan import Scan\n",
    "from planeslam.clustering import cluster_mesh_graph_search, mesh_cluster_pts\n",
    "from planeslam.extraction import scan_from_clusters\n",
    "import planeslam.io as io\n",
    "\n",
    "%load_ext autoreload\n",
    "%autoreload 2\n",
    "%load_ext line_profiler"
   ]
  },
  {
   "cell_type": "markdown",
   "metadata": {},
   "source": [
    "Read Point Cloud from pcd file"
   ]
  },
  {
   "cell_type": "code",
   "execution_count": null,
   "metadata": {},
   "outputs": [],
   "source": [
    "binpath = os.path.join(os.getcwd(),'..', 'data', 'airsim', 'blocks_20_samples_1', 'lidar', 'Drone0')\n",
    "PCs = io.read_lidar_bin(binpath)\n",
    "P = PCs[8]"
   ]
  },
  {
   "cell_type": "code",
   "execution_count": null,
   "metadata": {},
   "outputs": [],
   "source": [
    "# Convert points to ENU\n",
    "P = general.NED_to_ENU(P)\n",
    "\n",
    "# Downsample the points\n",
    "P = general.downsample(P, factor=2, axis=0)"
   ]
  },
  {
   "cell_type": "code",
   "execution_count": null,
   "metadata": {},
   "outputs": [],
   "source": [
    "# Plot the points\n",
    "ax = general.plot_3D_setup(P)\n",
    "ax.scatter3D(P[:,0], P[:,1], P[:,2], marker='.')  "
   ]
  },
  {
   "cell_type": "markdown",
   "metadata": {},
   "source": [
    "Cluster the points"
   ]
  },
  {
   "cell_type": "code",
   "execution_count": null,
   "metadata": {},
   "outputs": [],
   "source": [
    "# Create the mesh\n",
    "start_time = time.time()\n",
    "mesh = LidarMesh(P)\n",
    "print(\"elapsed time: \", time.time() - start_time)"
   ]
  },
  {
   "cell_type": "code",
   "execution_count": null,
   "metadata": {},
   "outputs": [],
   "source": [
    "start_time = time.time()\n",
    "mesh.prune(edge_len_lim=10)\n",
    "print(\"elapsed time: \", time.time() - start_time)"
   ]
  },
  {
   "cell_type": "code",
   "execution_count": null,
   "metadata": {},
   "outputs": [],
   "source": [
    "# Cluster the mesh with graph search\n",
    "start_time = time.time()\n",
    "clusters, avg_normals = cluster_mesh_graph_search(mesh)\n",
    "print(\"elapsed time: \", time.time() - start_time)"
   ]
  },
  {
   "cell_type": "code",
   "execution_count": null,
   "metadata": {},
   "outputs": [],
   "source": [
    "#%lprun -f cluster_mesh_graph_search cluster_mesh_graph_search(mesh)"
   ]
  },
  {
   "cell_type": "code",
   "execution_count": null,
   "metadata": {},
   "outputs": [],
   "source": [
    "# Plot mesh\n",
    "ax = general.plot_3D_setup(P)\n",
    "\n",
    "ax.plot_trisurf(P[:,0], P[:,1], P[:,2], triangles=mesh.DT.simplices)"
   ]
  },
  {
   "cell_type": "code",
   "execution_count": null,
   "metadata": {},
   "outputs": [],
   "source": [
    "# Plot clusters\n",
    "ax = general.plot_3D_setup(P)\n",
    "\n",
    "cmap = cm.get_cmap('plasma')\n",
    "cmap_idxs = int(len(cmap.colors) / len(clusters)) * np.arange(len(clusters))\n",
    "colors = np.asarray(cmap.colors)[cmap_idxs,:]\n",
    "\n",
    "for i, c in enumerate(clusters):\n",
    "    cluster_pts = mesh_cluster_pts(mesh, c)\n",
    "    ax.scatter3D(cluster_pts[:,0], cluster_pts[:,1], cluster_pts[:,2], color='C'+str(i), marker='.')  \n",
    "\n",
    "    # Show normals\n",
    "    c = np.mean(cluster_pts, axis=0)\n",
    "    n = 10 * avg_normals[i]\n",
    "    ax.quiver(c[0], c[1], c[2], n[0], n[1], n[2])\n",
    "\n",
    "general.color_legend(ax, len(clusters))"
   ]
  },
  {
   "cell_type": "markdown",
   "metadata": {},
   "source": [
    "Extract planes"
   ]
  },
  {
   "cell_type": "code",
   "execution_count": null,
   "metadata": {},
   "outputs": [],
   "source": [
    "planes, vertices, faces = scan_from_clusters(mesh, clusters, avg_normals)\n",
    "scan = Scan(planes, vertices, faces)"
   ]
  },
  {
   "cell_type": "code",
   "execution_count": null,
   "metadata": {},
   "outputs": [],
   "source": [
    "ax = general.plot_3D_setup(P)\n",
    "scan.plot(ax, show_normals=False)"
   ]
  },
  {
   "cell_type": "code",
   "execution_count": null,
   "metadata": {},
   "outputs": [],
   "source": [
    "i = 1\n",
    "c = clusters[i]\n",
    "n = avg_normals[i][:,None]\n",
    "cluster_pts = mesh_cluster_pts(mesh, c)  # Extract points from cluster"
   ]
  },
  {
   "cell_type": "code",
   "execution_count": null,
   "metadata": {},
   "outputs": [],
   "source": [
    "cluster_pts"
   ]
  },
  {
   "cell_type": "code",
   "execution_count": null,
   "metadata": {},
   "outputs": [],
   "source": [
    "from planeslam.extraction import bd_plane_from_pts\n",
    "plane_pts = bd_plane_from_pts(cluster_pts, n)"
   ]
  },
  {
   "cell_type": "code",
   "execution_count": null,
   "metadata": {},
   "outputs": [],
   "source": [
    "plane_pts"
   ]
  },
  {
   "cell_type": "markdown",
   "metadata": {},
   "source": [
    "Plotly plotting"
   ]
  },
  {
   "cell_type": "code",
   "execution_count": null,
   "metadata": {},
   "outputs": [],
   "source": [
    "import plotly.graph_objects as go\n",
    "import numpy as np\n",
    "\n",
    "layout = go.Layout(\n",
    "             scene=dict(\n",
    "                 aspectmode='data'\n",
    "         ))\n",
    "data=[go.Scatter3d(x=P[:,0], y=P[:,1], z=P[:,2],\n",
    "                                   mode='markers',\n",
    "                                   marker=dict(size=2))]\n",
    "fig = go.Figure(data=data, layout=layout)\n",
    "fig.update_layout(width=1000, height=600)\n",
    "fig.show()"
   ]
  },
  {
   "cell_type": "code",
   "execution_count": null,
   "metadata": {},
   "outputs": [],
   "source": [
    "mesh_data = go.Mesh3d(x=P[:,0], y=P[:,1], z=P[:,2], i=mesh.DT.simplices[:,0], j=mesh.DT.simplices[:,1], k=mesh.DT.simplices[:,2], flatshading=True)\n",
    "\n",
    "#extract the lists of x, y, z coordinates of the triangle vertices and connect them by a line\n",
    "Xe = []\n",
    "Ye = []\n",
    "Ze = []\n",
    "for T in P[mesh.DT.simplices]:\n",
    "    Xe.extend([T[k%3][0] for k in range(4)]+[ None])\n",
    "    Ye.extend([T[k%3][1] for k in range(4)]+[ None])\n",
    "    Ze.extend([T[k%3][2] for k in range(4)]+[ None])\n",
    "       \n",
    "#define the trace for triangle sides\n",
    "lines = go.Scatter3d(\n",
    "                   x=Xe,\n",
    "                   y=Ye,\n",
    "                   z=Ze,\n",
    "                   mode='lines',\n",
    "                   name='',\n",
    "                   line=dict(color= 'rgb(70,70,70)', width=1))  \n",
    "\n",
    "fig = go.Figure(data=[mesh_data, lines], layout=layout)\n",
    "fig.update_layout(width=1000, height=600)\n",
    "fig.show()"
   ]
  },
  {
   "cell_type": "code",
   "execution_count": null,
   "metadata": {},
   "outputs": [],
   "source": [
    "cluster_idxs = np.zeros(len(P))\n",
    "for i, c in enumerate(clusters):\n",
    "    idxs = np.unique(mesh.DT.simplices[c,:]) \n",
    "    cluster_idxs[idxs] = i"
   ]
  },
  {
   "cell_type": "code",
   "execution_count": null,
   "metadata": {},
   "outputs": [],
   "source": [
    "import plotly.express as px\n",
    "\n",
    "fig = px.scatter_3d(P, x=0, y=1, z=2, color=cluster_idxs.astype(str))\n",
    "fig.update_layout(width=1000, height=600, scene=dict(\n",
    "                 aspectmode='data'\n",
    "         ))\n",
    "fig.update_traces(marker_size=2)\n",
    "fig.show()"
   ]
  },
  {
   "cell_type": "code",
   "execution_count": null,
   "metadata": {},
   "outputs": [],
   "source": [
    "def plotly_plane(p):\n",
    "    mesh = go.Mesh3d(x=p.vertices[:,0], y=p.vertices[:,1], z=p.vertices[:,2], opacity=0.5)\n",
    "    lines = go.Scatter3d(x=p.vertices[:,0], y=p.vertices[:,1], z=p.vertices[:,2], mode='lines', line=dict(color= 'rgb(70,70,70)', width=1))\n",
    "    plane_data = [mesh, lines]\n",
    "    return plane_data"
   ]
  },
  {
   "cell_type": "code",
   "execution_count": null,
   "metadata": {},
   "outputs": [],
   "source": [
    "import plotly.graph_objects as go\n",
    "\n",
    "data = []\n",
    "\n",
    "for p in scan.planes:\n",
    "    data += plotly_plane(p)\n",
    "\n",
    "fig = go.Figure(data=data, layout=layout)\n",
    "fig.update_layout(width=1000, height=600)\n",
    "fig.show()"
   ]
  },
  {
   "cell_type": "code",
   "execution_count": null,
   "metadata": {},
   "outputs": [],
   "source": [
    "data"
   ]
  },
  {
   "cell_type": "code",
   "execution_count": null,
   "metadata": {},
   "outputs": [],
   "source": [
    "import plotly.graph_objects as go\n",
    "\n",
    "i = [7, 0, 0, 0, 4, 4, 6, 6, 4, 0, 3, 2]\n",
    "j = [3, 4, 1, 2, 5, 6, 5, 2, 0, 1, 6, 3]\n",
    "k = [0, 7, 2, 3, 6, 7, 1, 1, 5, 5, 7, 6]\n",
    "\n",
    "triangles = np.vstack((i,j,k)).T\n",
    "\n",
    "x = [0, 0, 1, 1, 0, 0, 1, 1]\n",
    "y = [0, 1, 1, 0, 0, 1, 1, 0]\n",
    "z = [0, 0, 0, 0, 1, 1, 1, 1]\n",
    "vertices = np.vstack((x,y,z)).T\n",
    "tri_points = vertices[triangles]\n",
    "\n",
    "#extract the lists of x, y, z coordinates of the triangle vertices and connect them by a line\n",
    "Xe = []\n",
    "Ye = []\n",
    "Ze = []\n",
    "for T in tri_points:\n",
    "    Xe.extend([T[k%3][0] for k in range(4)]+[ None])\n",
    "    Ye.extend([T[k%3][1] for k in range(4)]+[ None])\n",
    "    Ze.extend([T[k%3][2] for k in range(4)]+[ None])\n",
    "       \n",
    "#define the trace for triangle sides\n",
    "lines = go.Scatter3d(\n",
    "                   x=Xe,\n",
    "                   y=Ye,\n",
    "                   z=Ze,\n",
    "                   mode='lines',\n",
    "                   name='',\n",
    "                   line=dict(color= 'rgb(70,70,70)', width=1))  \n",
    "\n",
    "fig = go.Figure(data=[\n",
    "    go.Mesh3d(\n",
    "        # 8 vertices of a cube\n",
    "        x=[0, 0, 1, 1, 0, 0, 1, 1],\n",
    "        y=[0, 1, 1, 0, 0, 1, 1, 0],\n",
    "        z=[0, 0, 0, 0, 1, 1, 1, 1],\n",
    "        colorbar_title='z',\n",
    "        colorscale=[[0, 'gold'],\n",
    "                    [0.5, 'mediumturquoise'],\n",
    "                    [1, 'magenta']],\n",
    "        # Intensity of each vertex, which will be interpolated and color-coded\n",
    "        intensity = np.linspace(0, 1, 8, endpoint=True),\n",
    "        # i, j and k give the vertices of triangles\n",
    "        i = [7, 0, 0, 0, 4, 4, 6, 6, 4, 0, 3, 2],\n",
    "        j = [3, 4, 1, 2, 5, 6, 5, 2, 0, 1, 6, 3],\n",
    "        k = [0, 7, 2, 3, 6, 7, 1, 1, 5, 5, 7, 6],\n",
    "        name='y',\n",
    "        showscale=True\n",
    "    )\n",
    ", lines])\n",
    "\n",
    "fig.show()"
   ]
  },
  {
   "cell_type": "code",
   "execution_count": null,
   "metadata": {},
   "outputs": [],
   "source": [
    "tri_points"
   ]
  },
  {
   "cell_type": "code",
   "execution_count": null,
   "metadata": {},
   "outputs": [],
   "source": []
  }
 ],
 "metadata": {
  "kernelspec": {
   "display_name": "Python 3.7.13 ('planeslam')",
   "language": "python",
   "name": "python3"
  },
  "language_info": {
   "codemirror_mode": {
    "name": "ipython",
    "version": 3
   },
   "file_extension": ".py",
   "mimetype": "text/x-python",
   "name": "python",
   "nbconvert_exporter": "python",
   "pygments_lexer": "ipython3",
   "version": "3.7.13"
  },
  "orig_nbformat": 4,
  "vscode": {
   "interpreter": {
    "hash": "b585e665bce1ccbefa5eda0ece21e432dc86e0e8165acc8779a1295e00a6ba38"
   }
  }
 },
 "nbformat": 4,
 "nbformat_minor": 2
}
