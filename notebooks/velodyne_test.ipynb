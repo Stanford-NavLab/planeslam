{
 "cells": [
  {
   "cell_type": "markdown",
   "metadata": {},
   "source": [
    "# Test on Velodyne data"
   ]
  },
  {
   "cell_type": "code",
   "execution_count": null,
   "metadata": {},
   "outputs": [],
   "source": [
    "%matplotlib widget\n",
    "import numpy as np\n",
    "import os\n",
    "import time\n",
    "\n",
    "from planeslam.general import plot_3D_setup, downsample\n",
    "from planeslam.mesh import LidarMesh\n",
    "from planeslam.scan import Scan\n",
    "from planeslam.clustering import cluster_mesh_graph_search, mesh_cluster_pts\n",
    "from planeslam.extraction import scan_from_clusters\n",
    "\n",
    "%load_ext autoreload\n",
    "%autoreload 2"
   ]
  },
  {
   "cell_type": "markdown",
   "metadata": {},
   "source": [
    "Load data"
   ]
  },
  {
   "cell_type": "code",
   "execution_count": null,
   "metadata": {},
   "outputs": [],
   "source": [
    "# Read in point cloud data\n",
    "pcpath = os.path.join(os.getcwd(),'..', 'data', 'velodyne', '6_7_2022', 'durand_3rd_floor', 'run_1')"
   ]
  },
  {
   "cell_type": "code",
   "execution_count": null,
   "metadata": {},
   "outputs": [],
   "source": [
    "# PCs = []\n",
    "# for i in range(len(os.listdir(pcpath))):\n",
    "#     filename = pcpath+'/pc_'+str(i)+'.npy'\n",
    "#     PC = np.load(filename)\n",
    "#     PCs.append(PC)\n",
    "\n",
    "frame = 1000\n",
    "filename = pcpath+'/pc_'+str(frame)+'.npy'\n",
    "PC = np.load(filename)"
   ]
  },
  {
   "cell_type": "code",
   "execution_count": null,
   "metadata": {},
   "outputs": [],
   "source": [
    "# Downsample\n",
    "PC = downsample(PC, factor=2, axis=0)"
   ]
  },
  {
   "cell_type": "code",
   "execution_count": null,
   "metadata": {},
   "outputs": [],
   "source": [
    "ax = plot_3D_setup(PC, figsize=(15,10))\n",
    "ax.scatter3D(PC[:,0], PC[:,1], PC[:,2], marker='.', s=1)  "
   ]
  },
  {
   "cell_type": "markdown",
   "metadata": {},
   "source": [
    "Cluster"
   ]
  },
  {
   "cell_type": "code",
   "execution_count": null,
   "metadata": {},
   "outputs": [],
   "source": [
    "# Create the mesh\n",
    "mesh = LidarMesh(PC)\n",
    "mesh.prune(edge_len_lim=2)\n",
    "start_time = time.time()\n",
    "# Cluster the mesh with graph search\n",
    "clusters, avg_normals = cluster_mesh_graph_search(mesh)\n",
    "print(\"elapsed time: \", time.time() - start_time)"
   ]
  },
  {
   "cell_type": "code",
   "execution_count": null,
   "metadata": {},
   "outputs": [],
   "source": [
    "# Plot mesh\n",
    "ax = plot_3D_setup(PC, figsize=(15,10))\n",
    "ax.plot_trisurf(PC[:,0], PC[:,1], PC[:,2], triangles=mesh.DT.simplices)"
   ]
  },
  {
   "cell_type": "code",
   "execution_count": null,
   "metadata": {},
   "outputs": [],
   "source": [
    "# Plot clusters\n",
    "ax = plot_3D_setup(PC)\n",
    "\n",
    "for i, c in enumerate(clusters):\n",
    "    cluster_pts = mesh_cluster_pts(mesh, c)\n",
    "    ax.scatter3D(cluster_pts[:,0], cluster_pts[:,1], cluster_pts[:,2], color='C'+str(i), marker='.', s=3)"
   ]
  },
  {
   "cell_type": "markdown",
   "metadata": {},
   "source": [
    "Extract planes"
   ]
  },
  {
   "cell_type": "code",
   "execution_count": null,
   "metadata": {},
   "outputs": [],
   "source": [
    "planes, vertices, faces = scan_from_clusters(mesh, clusters, avg_normals)\n",
    "scan = Scan(planes, vertices, faces)"
   ]
  },
  {
   "cell_type": "code",
   "execution_count": null,
   "metadata": {},
   "outputs": [],
   "source": [
    "ax = plot_3D_setup(PC)\n",
    "scan.plot(ax, show_normals=False)"
   ]
  },
  {
   "cell_type": "markdown",
   "metadata": {},
   "source": [
    "Pclpy"
   ]
  },
  {
   "cell_type": "code",
   "execution_count": null,
   "metadata": {},
   "outputs": [],
   "source": [
    "import pclpy\n",
    "from pclpy import pcl\n",
    "import math\n",
    "\n",
    "a = np.random.rand(10,3)\n",
    "pc = pcl.PointCloud.PointXYZ.from_array(PC)\n",
    "pc.xyz"
   ]
  },
  {
   "cell_type": "code",
   "execution_count": null,
   "metadata": {},
   "outputs": [],
   "source": [
    "rg = pcl.segmentation.RegionGrowing.PointXYZ_Normal()\n",
    "\n",
    "rg.setInputCloud(pc)\n",
    "normals_estimation = pcl.features.NormalEstimationOMP.PointXYZ_Normal()\n",
    "normals_estimation.setInputCloud(pc)\n",
    "normals = pcl.PointCloud.Normal()\n",
    "normals_estimation.setRadiusSearch(0.5)\n",
    "start_time = time.time()\n",
    "normals_estimation.compute(normals)\n",
    "print(\"elapsed time: \", time.time() - start_time)"
   ]
  },
  {
   "cell_type": "code",
   "execution_count": null,
   "metadata": {},
   "outputs": [],
   "source": [
    "rg.setInputNormals(normals)\n",
    "rg.setMaxClusterSize(1000000)\n",
    "rg.setMinClusterSize(10)\n",
    "rg.setNumberOfNeighbours(30)\n",
    "rg.setSmoothnessThreshold(2 / 180 * math.pi)\n",
    "rg.setCurvatureThreshold(1)\n",
    "rg.setResidualThreshold(1)\n",
    "start_time = time.time()\n",
    "clusters = pcl.vectors.PointIndices()\n",
    "rg.extract(clusters)\n",
    "print(\"Elapsed time: \", time.time() - start_time)\n",
    "print(\"Number of clusters: \", len(clusters))"
   ]
  },
  {
   "cell_type": "code",
   "execution_count": null,
   "metadata": {},
   "outputs": [],
   "source": [
    "ax = plot_3D_setup(PC)\n",
    "\n",
    "for i, c in enumerate(clusters):\n",
    "    idx = c.indices\n",
    "    ax.scatter3D(pc.xyz[idx,0], pc.xyz[idx,1], pc.xyz[idx,2], color='C'+str(i), marker='.')  \n",
    "ax.set_box_aspect((np.ptp(pc.xyz[:,0]), np.ptp(pc.xyz[:,1]), np.ptp(pc.xyz[:,2])))\n",
    "ax.set_xlabel(\"X\")\n",
    "ax.set_ylabel(\"Y\")"
   ]
  },
  {
   "cell_type": "code",
   "execution_count": null,
   "metadata": {},
   "outputs": [],
   "source": []
  }
 ],
 "metadata": {
  "kernelspec": {
   "display_name": "Python 3.7.13 ('planeslam')",
   "language": "python",
   "name": "python3"
  },
  "language_info": {
   "codemirror_mode": {
    "name": "ipython",
    "version": 3
   },
   "file_extension": ".py",
   "mimetype": "text/x-python",
   "name": "python",
   "nbconvert_exporter": "python",
   "pygments_lexer": "ipython3",
   "version": "3.7.13"
  },
  "orig_nbformat": 4,
  "vscode": {
   "interpreter": {
    "hash": "b585e665bce1ccbefa5eda0ece21e432dc86e0e8165acc8779a1295e00a6ba38"
   }
  }
 },
 "nbformat": 4,
 "nbformat_minor": 2
}
